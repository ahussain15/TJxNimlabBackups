{
 "cells": [
  {
   "cell_type": "code",
   "execution_count": 1,
   "metadata": {},
   "outputs": [],
   "source": [
    "import pandas as pd\n",
    "import numpy as np\n",
    "import statsmodels.formula.api as smf"
   ]
  },
  {
   "cell_type": "code",
   "execution_count": 19,
   "metadata": {},
   "outputs": [],
   "source": [
    "dataset = \"mgh\""
   ]
  },
  {
   "cell_type": "code",
   "execution_count": 20,
   "metadata": {},
   "outputs": [],
   "source": [
    "df = pd.read_csv(dataset+\"_vars.csv\")\n",
    "subjects = df[\"subject\"]"
   ]
  },
  {
   "cell_type": "code",
   "execution_count": 4,
   "metadata": {},
   "outputs": [],
   "source": [
    "var_names = [\"lnm_tot\", \"lnm_pos\", \"lnm_neg\", \"vlsm_tot\", \"lnm_tot_avg\", \"lnm_pos_avg\", \"lnm_neg_avg\", \"vlsm_tot_avg\", \"vlsm_pos_avg\", \"sp_corr_lnm\", \"sp_corr_vlsm\", \"l_size\"]"
   ]
  },
  {
   "cell_type": "markdown",
   "metadata": {},
   "source": [
    "### Leverage"
   ]
  },
  {
   "cell_type": "code",
   "execution_count": 38,
   "metadata": {},
   "outputs": [],
   "source": [
    "csv = pd.DataFrame(columns=var_names)\n",
    "for i in range(len(var_names)):\n",
    "    h_subj = \"\"\n",
    "    h_val = \"\"\n",
    "    m_subj = \"\"\n",
    "    m_val = \"\"\n",
    "    model = smf.ols(formula= str(\"nih\"+\"~\"+var_names[i]), data=df).fit()\n",
    "    influence = model.get_influence()\n",
    "    leverage = influence.hat_matrix_diag\n",
    "    for li in range(len(leverage)):\n",
    "        if leverage[li] > (6/len(subjects)):\n",
    "            h_subj += str(subjects[li]) + \"\\n\"\n",
    "            h_val += str(round(leverage[li], 3)) + \"\\n\"\n",
    "        elif leverage[li] > (4/len(subjects)):\n",
    "            m_subj += str(subjects[li]) + \"\\n\"\n",
    "            m_val += str(round(leverage[li], 3)) + \"\\n\"\n",
    "    csv[var_names[i]] = [m_subj, m_val, h_subj, h_val]\n",
    "csv.to_csv(dataset+\"_leverage.csv\")"
   ]
  },
  {
   "cell_type": "markdown",
   "metadata": {},
   "source": [
    "### Standardized/Studentized Residuals"
   ]
  },
  {
   "cell_type": "code",
   "execution_count": 39,
   "metadata": {},
   "outputs": [],
   "source": [
    "for i in range(len(var_names)):\n",
    "    h_subj = \"\"\n",
    "    h_val = \"\"\n",
    "    m_subj = \"\"\n",
    "    m_val = \"\"\n",
    "    model = smf.ols(formula= str(\"nih\"+\"~\"+var_names[i]), data=df).fit()\n",
    "    influence = model.get_influence()\n",
    "    stdres = influence.resid_studentized_internal\n",
    "    for ri in range(len(stdres)):\n",
    "        if abs(stdres[ri]) > 3:\n",
    "            h_subj += str(subjects[ri]) + \"\\n\"\n",
    "            h_val += str(round(stdres[ri], 3)) + \"\\n\"\n",
    "        elif abs(stdres[ri]) > 2:\n",
    "            m_subj += str(subjects[ri]) + \"\\n\"\n",
    "            m_val += str(round(stdres[ri], 3)) + \"\\n\"\n",
    "    csv[var_names[i]] = [m_subj, m_val, h_subj, h_val]\n",
    "csv.to_csv(dataset+\"_stan_res.csv\")"
   ]
  },
  {
   "cell_type": "code",
   "execution_count": 40,
   "metadata": {},
   "outputs": [],
   "source": [
    "for i in range(len(var_names)):\n",
    "    h_subj = \"\"\n",
    "    h_val = \"\"\n",
    "    m_subj = \"\"\n",
    "    m_val = \"\"\n",
    "    model = smf.ols(formula= str(\"nih\"+\"~\"+var_names[i]), data=df).fit()\n",
    "    influence = model.get_influence()\n",
    "    stdres = influence.resid_studentized_external\n",
    "    for ri in range(len(stdres)):\n",
    "        if abs(stdres[ri]) > 3:\n",
    "            h_subj += str(subjects[ri]) + \"\\n\"\n",
    "            h_val += str(round(stdres[ri], 3)) + \"\\n\"\n",
    "        elif abs(stdres[ri]) > 2:\n",
    "            m_subj += str(subjects[ri]) + \"\\n\"\n",
    "            m_val += str(round(stdres[ri], 3)) + \"\\n\"\n",
    "    csv[var_names[i]] = [m_subj, m_val, h_subj, h_val]\n",
    "csv.to_csv(dataset+\"_stud_res.csv\")"
   ]
  },
  {
   "cell_type": "markdown",
   "metadata": {},
   "source": [
    "### Cook's Distance/Influence"
   ]
  },
  {
   "cell_type": "code",
   "execution_count": 40,
   "metadata": {},
   "outputs": [],
   "source": [
    "csv = pd.DataFrame(columns=var_names)\n",
    "for i in range(len(var_names)):\n",
    "    h_subj = \"\"\n",
    "    h_val = \"\"\n",
    "    m_subj = \"\"\n",
    "    m_val = \"\"\n",
    "    model = smf.ols(formula= str(\"nih\"+\"~\"+var_names[i]), data=df).fit()\n",
    "    influence = model.get_influence()\n",
    "    cooks_d = influence.cooks_distance\n",
    "    for di in range(len(cooks_d[0])):\n",
    "        if cooks_d[0][di] > 1:\n",
    "            h_subj += str(subjects[di]) + \"\\n\"\n",
    "            h_val += str(round(cooks_d[0][di], 3)) + \"\\n\"\n",
    "        elif cooks_d[0][di] > 0.5:\n",
    "            m_subj += str(subjects[di]) + \"\\n\"\n",
    "            m_val += str(round(cooks_d[0][di], 3)) + \"\\n\"\n",
    "    csv[var_names[i]] = [m_subj, m_val, h_subj, h_val]\n",
    "csv.to_csv(dataset+\"_cooks_d.csv\")"
   ]
  },
  {
   "cell_type": "markdown",
   "metadata": {},
   "source": [
    "### Remove Unusual Leverage"
   ]
  },
  {
   "cell_type": "code",
   "execution_count": 21,
   "metadata": {},
   "outputs": [],
   "source": [
    "lev = pd.read_csv(dataset+\"_leverage.csv\")"
   ]
  },
  {
   "cell_type": "code",
   "execution_count": 23,
   "metadata": {},
   "outputs": [],
   "source": [
    "for v in var_names:\n",
    "    if \"\\n\" in str(lev.at[2, v]):\n",
    "        high_lev = lev.at[2, v].split(\"\\n\")[:-1]\n",
    "        pred = df[df[\"subject\"].isin(high_lev) == False]\n",
    "        model = smf.ols(formula=str(\"nih~\"+v), data=pred).fit()\n",
    "#         print(v)\n",
    "#         print(model.summary())\n",
    "#         print()"
   ]
  },
  {
   "cell_type": "code",
   "execution_count": 25,
   "metadata": {},
   "outputs": [],
   "source": [
    "for v in var_names:\n",
    "    if \"\\n\" in str(lev.at[0, v]):\n",
    "        u_lev = lev.at[0, v].split(\"\\n\")[:-1]\n",
    "        if \"\\n\" in str(lev.at[2, v]):\n",
    "            u_lev += lev.at[2, v].split(\"\\n\")[:-1]\n",
    "        pred = df[df[\"subject\"].isin(u_lev) == False]\n",
    "        model = smf.ols(formula=str(\"nih~\"+v), data=pred).fit()\n",
    "#         print(v)\n",
    "#         print(model.summary())\n",
    "#         print()"
   ]
  },
  {
   "cell_type": "markdown",
   "metadata": {},
   "source": [
    "### Remove Unusual Standardized Residuals"
   ]
  },
  {
   "cell_type": "code",
   "execution_count": 26,
   "metadata": {},
   "outputs": [],
   "source": [
    "stan = pd.read_csv(dataset+\"_stan_res.csv\")"
   ]
  },
  {
   "cell_type": "code",
   "execution_count": 28,
   "metadata": {},
   "outputs": [],
   "source": [
    "for v in var_names:\n",
    "    if \"\\n\" in str(stan.at[2, v]):\n",
    "        high_stan = stan.at[2, v].split(\"\\n\")[:-1]\n",
    "        pred = df[df[\"subject\"].isin(high_stan) == False]\n",
    "        model = smf.ols(formula=str(\"nih~\"+v), data=pred).fit()\n",
    "#         print(v)\n",
    "#         print(model.summary())\n",
    "#         print()"
   ]
  },
  {
   "cell_type": "code",
   "execution_count": 30,
   "metadata": {},
   "outputs": [],
   "source": [
    "for v in var_names:\n",
    "    if \"\\n\" in str(stan.at[0, v]):\n",
    "        u_stan = stan.at[0, v].split(\"\\n\")[:-1]\n",
    "        if \"\\n\" in str(stan.at[2, v]):\n",
    "            u_stan += stan.at[2, v].split(\"\\n\")[:-1]\n",
    "        pred = df[df[\"subject\"].isin(u_stan) == False]\n",
    "        model = smf.ols(formula=str(\"nih~\"+v), data=pred).fit()\n",
    "#         print(v)\n",
    "#         print(model.summary())\n",
    "#         print()"
   ]
  },
  {
   "cell_type": "markdown",
   "metadata": {},
   "source": [
    "### Remove Unusual Studentized Residuals"
   ]
  },
  {
   "cell_type": "code",
   "execution_count": 31,
   "metadata": {},
   "outputs": [],
   "source": [
    "stud = pd.read_csv(dataset+\"_stud_res.csv\")"
   ]
  },
  {
   "cell_type": "code",
   "execution_count": 33,
   "metadata": {},
   "outputs": [],
   "source": [
    "for v in var_names:\n",
    "    if \"\\n\" in str(stud.at[2, v]):\n",
    "        high_stud = stud.at[2, v].split(\"\\n\")[:-1]\n",
    "        pred = df[df[\"subject\"].isin(high_stud) == False]\n",
    "        model = smf.ols(formula=str(\"nih~\"+v), data=pred).fit()\n",
    "#         print(v)\n",
    "#         print(model.summary())\n",
    "#         print()"
   ]
  },
  {
   "cell_type": "code",
   "execution_count": 35,
   "metadata": {},
   "outputs": [],
   "source": [
    "for v in var_names:\n",
    "    if \"\\n\" in str(stud.at[0, v]):\n",
    "        u_stud = stud.at[0, v].split(\"\\n\")[:-1]\n",
    "        if \"\\n\" in str(stud.at[2, v]):\n",
    "            u_stud += stud.at[2, v].split(\"\\n\")[:-1]\n",
    "        pred = df[df[\"subject\"].isin(u_stud) == False]\n",
    "        model = smf.ols(formula=str(\"nih~\"+v), data=pred).fit()\n",
    "#         print(v)\n",
    "#         print(model.summary())\n",
    "#         print()"
   ]
  },
  {
   "cell_type": "markdown",
   "metadata": {},
   "source": [
    "### Remove Unusual Cook's Distance"
   ]
  },
  {
   "cell_type": "code",
   "execution_count": 36,
   "metadata": {},
   "outputs": [],
   "source": [
    "cook = pd.read_csv(dataset+\"_cooks_d.csv\")"
   ]
  },
  {
   "cell_type": "code",
   "execution_count": 37,
   "metadata": {},
   "outputs": [],
   "source": [
    "for v in var_names:\n",
    "    if \"\\n\" in str(cook.at[2, v]):\n",
    "        high_cook = cook.at[2, v].split(\"\\n\")[:-1]\n",
    "        pred = df[df[\"subject\"].isin(high_cook) == False]\n",
    "        model = smf.ols(formula=str(\"nih~\"+v), data=pred).fit()\n",
    "        print(v)\n",
    "        print(model.summary())\n",
    "        print()"
   ]
  },
  {
   "cell_type": "code",
   "execution_count": 38,
   "metadata": {},
   "outputs": [],
   "source": [
    "for v in var_names:\n",
    "    if \"\\n\" in str(cook.at[0, v]):\n",
    "        u_cook = cook.at[0, v].split(\"\\n\")[:-1]\n",
    "        if \"\\n\" in str(cook.at[2, v]):\n",
    "            u_cook += cook.at[2, v].split(\"\\n\")[:-1]\n",
    "        pred = df[df[\"subject\"].isin(u_cook) == False]\n",
    "        model = smf.ols(formula=str(\"nih~\"+v), data=pred).fit()\n",
    "        print(v)\n",
    "        print(model.summary())\n",
    "        print()"
   ]
  },
  {
   "cell_type": "code",
   "execution_count": null,
   "metadata": {},
   "outputs": [],
   "source": []
  }
 ],
 "metadata": {
  "kernelspec": {
   "display_name": "Physics",
   "language": "python",
   "name": "physics"
  },
  "language_info": {
   "codemirror_mode": {
    "name": "ipython",
    "version": 3
   },
   "file_extension": ".py",
   "mimetype": "text/x-python",
   "name": "python",
   "nbconvert_exporter": "python",
   "pygments_lexer": "ipython3",
   "version": "3.8.5"
  }
 },
 "nbformat": 4,
 "nbformat_minor": 4
}
