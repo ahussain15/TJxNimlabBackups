{
 "cells": [
  {
   "cell_type": "code",
   "execution_count": 1,
   "metadata": {},
   "outputs": [],
   "source": [
    "import pandas as pd"
   ]
  },
  {
   "cell_type": "code",
   "execution_count": 2,
   "metadata": {},
   "outputs": [],
   "source": [
    "pd.set_option(\"display.max_rows\", None)\n",
    "pd.set_option(\"display.max_columns\", None)\n",
    "pd.set_option(\"display.width\", None)\n",
    "pd.set_option(\"display.max_colwidth\", None)"
   ]
  },
  {
   "cell_type": "markdown",
   "metadata": {},
   "source": [
    "### Formulas\n",
    "#### Visual Attention\n",
    "- revised_attvf_factor = 3*((0.671*([pos_rt_vf]+0.117862)/129.8928+0.828*([pos_acc_vf]-0.019227)/0.1968877+0.361*([pos_acc_disengage]-0.006286)/0.0756869+-0.408*([pos_acc_avg]-0.913547)/0.153751+0.749*([mes_coc]-0.0448)/0.1670185)/(0.671+0.828+0.361+0.408+0.749)-.4813)/.464\n",
    "- revised_attave_factor = 3*((0.539*([pos_rt_validity]-36.490)/84.7277+-0.419*([pos_acc_disengage]-0.0062)/0.07568+0.779*([pos_rt_avg]-605.56)/210.1609+-0.605*([pos_acc_avg]-0.9135)/0.15375)/(0.539+0.419+0.779+0.605)-.4813)/.464\n",
    "- revised_attvaldis_factor = ((0.499*([pos_rt_vf]+0.117862)/129.892+0.779*([pos_acc_validity]+0.009080)/0.068508+0.584*([pos_rt_disengage]+8.789007)/62.13955+0.484*([pos_acc_avg]-0.913547)/0.15375)/(0.499+0.779+0.584+0.484)-.1599)/.5341\n",
    "#### Language\n",
    "- lang_factor_calc = 1.3*(.858*([word_raw]-34.1)/5.84+.885*([commands_raw]-13.4)/3.37+.855*([complex_raw]-9)/3.42+.925*([boston_raw]-11.83)/4.027+.910*([reading_raw]-7.87)/3.30+.890*([reading_comp_raw]-3.83)/1.70+.825*([nonword]-14.38)/6.435+.914*([stem]-14.83)/5.934+.804*([animal_raw]-14.43)/7.792)/(.858+.885+.855+.925+.910+.890+.825+.914+.804)\n",
    "- revised_lang_factor_calc = 1.3*((.925*([boston_raw]-11.83)/4.027+.910*([reading_raw]-7.87)/3.30+.890*([reading_comp_raw]-3.83)/1.70+.825*([nonword]-14.38)/6.435+.804*([animal_raw]-14.43)/7.792)/(.925+.910+.890+.825+.804)-.4571)/.2614\n",
    "#### Memory\n",
    "- revised_memv_factor = ((0.733*([hvlt_imt]-29.42857)/17.44542511+0.929*([hvlt_delayt]-22.30158)/20.53651181+0.897*([hvlt_perc]-59.23809)/33.27688172+0.710*([hvlt_discrim]-8.32539)/2.830771951)/(0.733+0.929+0.897+0.71)-.8766)/.6873\n",
    "- revised_mems_factor = ((0.687*([bvmt_imt]-25.4142)/22.41466+0.805*([bvmt_delayt]-26.0928)/21.80881+0.766*([bvmt_perc]-80.1000)/33.82121+0.699*([bvmt_discrim]-4.57142)/1.614426+0.689*([ss_for]-5.39416)/2.187389+0.808*([ss_back]-4.08823)/2.568961)/(0.687+0.805+0.766+0.699+0.689+0.808)-.6319)/.5422\n",
    "#### Motor\n",
    "- lmot_factor_calc = (0.947*([lshflex]-140.2303)/62.34274+0.874*([lwrext]-50.60843)/25.13376+0.782*([lgrip]-20.46385)/14.58751+0.85*([lpegs]-0.246545)/0.150096+0.952*([laratotal]-45.39634)/20.93302+0.917*([ltot_mot]-85.81699)/28.70687+0.921*([lhip_mot]-28.34640)/10.02911)/(0.947+0.874+0.782+0.85+0.952+0.917+0.921)\n",
    "- rmot_factor_calc = (0.893*([rshflex]-150.2650)/54.9232+0.837*([rwrext]-52.92168)/22.8552+0.742*([rgrip]-22.61818)/15.2545+0.825*([rpegs]-0.269939)/0.15932+0.913*([raratotal]-47.54268)/18.7215+0.896*([rtot_mot]-87.74834)/24.8880+0.845*([rank_mot]-28.61589)/9.5218)/(0.893+0.837+0.742+0.825+0.913+0.896+0.845)\n",
    "- revised_lmotor_factor = ((0.952*([laratotal]-45.39634)/20.93302+0.921*([lank_mot]-28.34640)/10.02911)/(0.952+0.921)-.6819)/.2107\n",
    "- revised_rmotor_factor = ((0.913*([raratotal]-47.54268)/18.7215+0.845*([rank_mot]-28.61589)/9.5218)/(0.913+0.845)-.6563)/.2261"
   ]
  },
  {
   "cell_type": "code",
   "execution_count": 3,
   "metadata": {},
   "outputs": [],
   "source": [
    "df = pd.read_csv(\"year_full_beh.csv\")"
   ]
  },
  {
   "cell_type": "code",
   "execution_count": 4,
   "metadata": {},
   "outputs": [],
   "source": [
    "pred = pd.read_csv(\"year_vars.csv\")"
   ]
  },
  {
   "cell_type": "code",
   "execution_count": 5,
   "metadata": {},
   "outputs": [],
   "source": [
    "ids = list(pred[\"subject\"])"
   ]
  },
  {
   "cell_type": "markdown",
   "metadata": {},
   "source": [
    "### Visual Attention"
   ]
  },
  {
   "cell_type": "code",
   "execution_count": 45,
   "metadata": {},
   "outputs": [],
   "source": [
    "va_req = [\"study_id\", \"pos_rt_vf\", \"pos_acc_vf\", \"pos_acc_disengage\", \"pos_acc_avg\", \"mes_coc\", \"pos_rt_validity\", \"pos_rt_avg\", \"pos_acc_avg\", \"pos_acc_validity\", \"pos_rt_disengage\"]\n",
    "va = df[va_req].dropna()\n",
    "va = va.loc[va[\"study_id\"].isin(ids)]"
   ]
  },
  {
   "cell_type": "code",
   "execution_count": 46,
   "metadata": {},
   "outputs": [],
   "source": [
    "revised_attvf_factor = []\n",
    "revised_attave_factor = []\n",
    "revised_attvaldis_factor = []\n",
    "for index, row in va.iterrows():\n",
    "    pos_rt_vf = float(row[\"pos_rt_vf\"])\n",
    "    pos_acc_vf = float(row[\"pos_acc_vf\"])\n",
    "    pos_acc_disengage = float(row[\"pos_acc_disengage\"])\n",
    "    pos_acc_avg = float(row[\"pos_acc_avg\"][0])\n",
    "    mes_coc = float(row[\"mes_coc\"])\n",
    "    pos_rt_validity = float(row[\"pos_rt_validity\"])\n",
    "    pos_rt_avg = float(row[\"pos_rt_avg\"])\n",
    "    pos_acc_validity = float(row[\"pos_acc_validity\"])\n",
    "    pos_rt_disengage = float(row[\"pos_rt_disengage\"])\n",
    "    vf = 3*((0.671*(pos_rt_vf+0.117862)/129.8928+0.828*(pos_acc_vf-0.019227)/0.1968877+0.361*(pos_acc_disengage-0.006286)/0.0756869-0.408*(pos_acc_avg-0.913547)/0.153751+0.749*(mes_coc-0.0448)/0.1670185)/(0.671+0.828+0.361+0.408+0.749)-.4813)/.464\n",
    "    ve = 3*((0.539*(pos_rt_validity-36.490)/84.7277-0.419*(pos_acc_disengage-0.0062)/0.07568+0.779*(pos_rt_avg-605.56)/210.1609-0.605*(pos_acc_avg-0.9135)/0.15375)/(0.539+0.419+0.779+0.605)-.4813)/.464\n",
    "    dis = ((0.499*(pos_rt_vf+0.117862)/129.892+0.779*(pos_acc_validity+0.009080)/0.068508+0.584*(pos_rt_disengage+8.789007)/62.13955+0.484*(pos_acc_avg-0.913547)/0.15375)/(0.499+0.779+0.584+0.484)-.1599)/.5341\n",
    "    revised_attvf_factor.append(vf)\n",
    "    revised_attave_factor.append(ve)\n",
    "    revised_attvaldis_factor.append(dis)"
   ]
  },
  {
   "cell_type": "code",
   "execution_count": 47,
   "metadata": {},
   "outputs": [],
   "source": [
    "va[\"revised_attvf_factor\"] = revised_attvf_factor\n",
    "va[\"revised_attave_factor\"] = revised_attave_factor\n",
    "va[\"revised_attvaldis_factor\"] = revised_attvaldis_factor"
   ]
  },
  {
   "cell_type": "code",
   "execution_count": 48,
   "metadata": {},
   "outputs": [],
   "source": [
    "va.to_csv(\"year_va.csv\",index=False)"
   ]
  },
  {
   "cell_type": "markdown",
   "metadata": {},
   "source": [
    "### Language"
   ]
  },
  {
   "cell_type": "code",
   "execution_count": 49,
   "metadata": {},
   "outputs": [],
   "source": [
    "lang_req = [\"study_id\", \"word_raw\", \"commands_raw\", \"complex_raw\", \"boston_raw\", \"reading_raw\", \"reading_comp_raw\", \"nonword\", \"stem\", \"animal_raw\"]\n",
    "lang = df[lang_req].dropna()\n",
    "lang = lang.loc[lang[\"study_id\"].isin(ids)]"
   ]
  },
  {
   "cell_type": "code",
   "execution_count": 50,
   "metadata": {},
   "outputs": [],
   "source": [
    "lang_factor_calc = []\n",
    "revised_lang_factor_calc = []\n",
    "for index, row in lang.iterrows():\n",
    "    word_raw = float(row[\"word_raw\"])\n",
    "    commands_raw = float(row[\"commands_raw\"])\n",
    "    complex_raw = float(row[\"complex_raw\"])\n",
    "    boston_raw = float(row[\"boston_raw\"])\n",
    "    reading_raw = float(row[\"reading_raw\"])\n",
    "    reading_comp_raw = float(row[\"reading_comp_raw\"])\n",
    "    nonword = float(row[\"nonword\"])\n",
    "    stem = float(row[\"stem\"])\n",
    "    animal_raw = float(row[\"animal_raw\"])\n",
    "    lf = 1.3*(.858*(word_raw-34.1)/5.84+.885*(commands_raw-13.4)/3.37+.855*(complex_raw-9)/3.42+.925*(boston_raw-11.83)/4.027+.910*(reading_raw-7.87)/3.30+.890*(reading_comp_raw-3.83)/1.70+.825*(nonword-14.38)/6.435+.914*(stem-14.83)/5.934+.804*(animal_raw-14.43)/7.792)/(.858+.885+.855+.925+.910+.890+.825+.914+.804)\n",
    "    rev = 1.3*((.925*(boston_raw-11.83)/4.027+.910*(reading_raw-7.87)/3.30+.890*(reading_comp_raw-3.83)/1.70+.825*(nonword-14.38)/6.435+.804*(animal_raw-14.43)/7.792)/(.925+.910+.890+.825+.804)-.4571)/.2614\n",
    "    lang_factor_calc.append(lf)\n",
    "    revised_lang_factor_calc.append(rev)"
   ]
  },
  {
   "cell_type": "code",
   "execution_count": 51,
   "metadata": {},
   "outputs": [],
   "source": [
    "lang[\"lang_factor_calc\"] = lang_factor_calc\n",
    "lang[\"revised_lang_factor_calc\"] = revised_lang_factor_calc"
   ]
  },
  {
   "cell_type": "code",
   "execution_count": 52,
   "metadata": {},
   "outputs": [],
   "source": [
    "lang.to_csv(\"year_lang.csv\",index=False)"
   ]
  },
  {
   "cell_type": "markdown",
   "metadata": {},
   "source": [
    "### Memory"
   ]
  },
  {
   "cell_type": "code",
   "execution_count": 6,
   "metadata": {},
   "outputs": [],
   "source": [
    "mem_req = [\"study_id\", \"hvlt_imt\", \"hvlt_delayt\", \"hvlt_perc\", \"hvlt_discrim\", \"bvmt_imt\", \"bvmt_delayt\", \"bvmt_perc\", \"bvmt_discrim\", \"ss_for\", \"ss_back\"]\n",
    "mem = df[mem_req].dropna()\n",
    "mem = mem.loc[mem[\"study_id\"].isin(ids)]"
   ]
  },
  {
   "cell_type": "code",
   "execution_count": 7,
   "metadata": {},
   "outputs": [],
   "source": [
    "revised_memv_factor = []\n",
    "revised_mems_factor = []\n",
    "for index, row in mem.iterrows():\n",
    "    hvlt_imt = float(row[\"hvlt_imt\"])\n",
    "    hvlt_delayt = float(row[\"hvlt_delayt\"])\n",
    "    hvlt_perc = float(row[\"hvlt_perc\"])\n",
    "    hvlt_discrim = float(row[\"hvlt_discrim\"])\n",
    "    bvmt_imt = float(row[\"bvmt_imt\"])\n",
    "    bvmt_delayt = float(row[\"bvmt_delayt\"])\n",
    "    bvmt_perc = float(row[\"bvmt_perc\"])\n",
    "    bvmt_discrim = float(row[\"bvmt_discrim\"])\n",
    "    ss_for = float(row[\"ss_for\"])\n",
    "    ss_back = float(row[\"ss_back\"])\n",
    "    memv = ((0.733*(hvlt_imt-29.42857)/17.44542511+0.929*(hvlt_delayt-22.30158)/20.53651181+0.897*(hvlt_perc-59.23809)/33.27688172+0.710*(hvlt_discrim-8.32539)/2.830771951)/(0.733+0.929+0.897+0.71)-.8766)/.6873\n",
    "    mems = ((0.687*(bvmt_imt-25.4142)/22.41466+0.805*(bvmt_delayt-26.0928)/21.80881+0.766*(bvmt_perc-80.1000)/33.82121+0.699*(bvmt_discrim-4.57142)/1.614426+0.689*(ss_for-5.39416)/2.187389+0.808*(ss_back-4.08823)/2.568961)/(0.687+0.805+0.766+0.699+0.689+0.808)-.6319)/.5422\n",
    "    revised_memv_factor.append(memv)\n",
    "    revised_mems_factor.append(mems)"
   ]
  },
  {
   "cell_type": "code",
   "execution_count": 8,
   "metadata": {},
   "outputs": [],
   "source": [
    "mem[\"revised_memv_factor\"] = revised_memv_factor\n",
    "mem[\"revised_mems_factor\"] = revised_mems_factor"
   ]
  },
  {
   "cell_type": "code",
   "execution_count": 9,
   "metadata": {},
   "outputs": [],
   "source": [
    "mem.to_csv(\"year_mem.csv\",index=False)"
   ]
  },
  {
   "cell_type": "markdown",
   "metadata": {},
   "source": [
    "### Motor"
   ]
  },
  {
   "cell_type": "code",
   "execution_count": 57,
   "metadata": {},
   "outputs": [],
   "source": [
    "mot_req = [\"study_id\", \"lshflex\", \"lwrext\", \"lgrip\", \"lpegs\", \"laratotal\", \"ltot_mot\", \"lhip_mot\", \"rshflex\", \"rwrext\", \"rgrip\", \"rpegs\", \"raratotal\", \"rtot_mot\", \"rank_mot\", \"lank_mot\"]\n",
    "mot = df[mot_req].dropna()\n",
    "mot = mot.loc[mot[\"study_id\"].isin(ids)]"
   ]
  },
  {
   "cell_type": "code",
   "execution_count": 58,
   "metadata": {},
   "outputs": [],
   "source": [
    "lmot_factor_calc = []\n",
    "rmot_factor_calc = []\n",
    "revised_lmotor_factor = []\n",
    "revised_rmotor_factor = []\n",
    "for index, row in mot.iterrows():\n",
    "    lshflex = float(row[\"lshflex\"])\n",
    "    lwrext = float(row[\"lwrext\"])\n",
    "    lgrip = float(row[\"lgrip\"])\n",
    "    lpegs = float(row[\"lpegs\"])\n",
    "    laratotal = float(row[\"laratotal\"])\n",
    "    ltot_mot = float(row[\"ltot_mot\"])\n",
    "    lhip_mot = float(row[\"lhip_mot\"])\n",
    "    rshflex = float(row[\"rshflex\"])\n",
    "    rwrext = float(row[\"rwrext\"])\n",
    "    rgrip = float(row[\"rgrip\"])\n",
    "    rpegs = float(row[\"rpegs\"])\n",
    "    raratotal = float(row[\"raratotal\"])\n",
    "    rtot_mot = float(row[\"rtot_mot\"])\n",
    "    rank_mot = float(row[\"rank_mot\"])\n",
    "    lank_mot = float(row[\"lank_mot\"])\n",
    "    lf = (0.947*(lshflex-140.2303)/62.34274+0.874*(lwrext-50.60843)/25.13376+0.782*(lgrip-20.46385)/14.58751+0.85*(lpegs-0.246545)/0.150096+0.952*(laratotal-45.39634)/20.93302+0.917*(ltot_mot-85.81699)/28.70687+0.921*(lhip_mot-28.34640)/10.02911)/(0.947+0.874+0.782+0.85+0.952+0.917+0.921)\n",
    "    rf = (0.893*(rshflex-150.2650)/54.9232+0.837*(rwrext-52.92168)/22.8552+0.742*(rgrip-22.61818)/15.2545+0.825*(rpegs-0.269939)/0.15932+0.913*(raratotal-47.54268)/18.7215+0.896*(rtot_mot-87.74834)/24.8880+0.845*(rank_mot-28.61589)/9.5218)/(0.893+0.837+0.742+0.825+0.913+0.896+0.845)\n",
    "    l_rev = ((0.952*(laratotal-45.39634)/20.93302+0.921*(lank_mot-28.34640)/10.02911)/(0.952+0.921)-.6819)/.2107\n",
    "    r_rev = ((0.913*(raratotal-47.54268)/18.7215+0.845*(rank_mot-28.61589)/9.5218)/(0.913+0.845)-.6563)/.2261\n",
    "    lmot_factor_calc.append(lf)\n",
    "    rmot_factor_calc.append(rf)\n",
    "    revised_lmotor_factor.append(l_rev)\n",
    "    revised_rmotor_factor.append(r_rev)"
   ]
  },
  {
   "cell_type": "code",
   "execution_count": 59,
   "metadata": {},
   "outputs": [],
   "source": [
    "mot[\"lmot_factor_calc\"] = lmot_factor_calc\n",
    "mot[\"rmot_factor_calc\"] = rmot_factor_calc\n",
    "mot[\"revised_lmotor_factor\"] = revised_lmotor_factor\n",
    "mot[\"revised_rmotor_factor\"] = revised_rmotor_factor"
   ]
  },
  {
   "cell_type": "code",
   "execution_count": 60,
   "metadata": {},
   "outputs": [],
   "source": [
    "mot.to_csv(\"year_mot.csv\",index=False)"
   ]
  },
  {
   "cell_type": "code",
   "execution_count": null,
   "metadata": {},
   "outputs": [],
   "source": []
  }
 ],
 "metadata": {
  "kernelspec": {
   "display_name": "Machine-Learning",
   "language": "python",
   "name": "ml"
  },
  "language_info": {
   "codemirror_mode": {
    "name": "ipython",
    "version": 3
   },
   "file_extension": ".py",
   "mimetype": "text/x-python",
   "name": "python",
   "nbconvert_exporter": "python",
   "pygments_lexer": "ipython3",
   "version": "3.8.5"
  }
 },
 "nbformat": 4,
 "nbformat_minor": 4
}
