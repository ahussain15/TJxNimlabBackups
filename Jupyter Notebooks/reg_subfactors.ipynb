{
 "cells": [
  {
   "cell_type": "code",
   "execution_count": 1,
   "metadata": {},
   "outputs": [],
   "source": [
    "import pandas as pd\n",
    "import numpy as np\n",
    "import statsmodels.api as sm\n",
    "import statsmodels.formula.api as smf\n",
    "from statsmodels.stats.outliers_influence import variance_inflation_factor"
   ]
  },
  {
   "cell_type": "code",
   "execution_count": 2,
   "metadata": {},
   "outputs": [],
   "source": [
    "pd.set_option(\"display.max_rows\", None)\n",
    "pd.set_option(\"display.max_columns\", None)\n",
    "pd.set_option(\"display.width\", None)\n",
    "pd.set_option(\"display.max_colwidth\", None)"
   ]
  },
  {
   "cell_type": "code",
   "execution_count": 3,
   "metadata": {},
   "outputs": [],
   "source": [
    "pred = pd.read_csv(\"year_vars.csv\")"
   ]
  },
  {
   "cell_type": "markdown",
   "metadata": {},
   "source": [
    "### Visual Attention"
   ]
  },
  {
   "cell_type": "code",
   "execution_count": 34,
   "metadata": {},
   "outputs": [
    {
     "name": "stderr",
     "output_type": "stream",
     "text": [
      "<ipython-input-34-316ca4826095>:4: SettingWithCopyWarning: \n",
      "A value is trying to be set on a copy of a slice from a DataFrame.\n",
      "Try using .loc[row_indexer,col_indexer] = value instead\n",
      "\n",
      "See the caveats in the documentation: https://pandas.pydata.org/pandas-docs/stable/user_guide/indexing.html#returning-a-view-versus-a-copy\n",
      "  va_pred[\"revised_attvf_factor\"] = list(va[\"revised_attvf_factor\"])\n",
      "<ipython-input-34-316ca4826095>:5: SettingWithCopyWarning: \n",
      "A value is trying to be set on a copy of a slice from a DataFrame.\n",
      "Try using .loc[row_indexer,col_indexer] = value instead\n",
      "\n",
      "See the caveats in the documentation: https://pandas.pydata.org/pandas-docs/stable/user_guide/indexing.html#returning-a-view-versus-a-copy\n",
      "  va_pred[\"revised_attave_factor\"] = list(va[\"revised_attave_factor\"])\n",
      "<ipython-input-34-316ca4826095>:6: SettingWithCopyWarning: \n",
      "A value is trying to be set on a copy of a slice from a DataFrame.\n",
      "Try using .loc[row_indexer,col_indexer] = value instead\n",
      "\n",
      "See the caveats in the documentation: https://pandas.pydata.org/pandas-docs/stable/user_guide/indexing.html#returning-a-view-versus-a-copy\n",
      "  va_pred[\"revised_attvaldis_factor\"] = list(va[\"revised_attvaldis_factor\"])\n"
     ]
    }
   ],
   "source": [
    "va = pd.read_csv(\"year_va.csv\")\n",
    "va_ids = list(va[\"study_id\"])\n",
    "va_pred = pred.loc[pred[\"subject\"].isin(va_ids)]\n",
    "va_pred[\"revised_attvf_factor\"] = list(va[\"revised_attvf_factor\"])\n",
    "va_pred[\"revised_attave_factor\"] = list(va[\"revised_attave_factor\"])\n",
    "va_pred[\"revised_attvaldis_factor\"] = list(va[\"revised_attvaldis_factor\"])"
   ]
  },
  {
   "cell_type": "code",
   "execution_count": 6,
   "metadata": {},
   "outputs": [],
   "source": [
    "var_names = [\"lnm_tot\", \"lnm_pos\", \"lnm_neg\", \"vlsm_tot\", \"lnm_tot_avg\", \"lnm_pos_avg\", \"lnm_neg_avg\", \"vlsm_tot_avg\", \"vlsm_pos_avg\", \"sp_corr_lnm\", \"sp_corr_vlsm\", \"l_size\", \"wm_total\", \"wm_avg\", \"sp_corr_wm\"]"
   ]
  },
  {
   "cell_type": "code",
   "execution_count": 38,
   "metadata": {},
   "outputs": [],
   "source": [
    "for i in range(len(var_names)):\n",
    "    model = smf.ols(formula= str(\"revised_attvf_factor\"+\"~\"+var_names[i]), data=va_pred).fit()\n",
    "#     print(var_names[i])\n",
    "#     print()\n",
    "#     print(model.summary())\n",
    "#     print()"
   ]
  },
  {
   "cell_type": "code",
   "execution_count": 40,
   "metadata": {},
   "outputs": [],
   "source": [
    "for i in range(len(var_names)):\n",
    "    model = smf.ols(formula= str(\"revised_attave_factor\"+\"~\"+var_names[i]), data=va_pred).fit()\n",
    "#     print(var_names[i])\n",
    "#     print()\n",
    "#     print(model.summary())\n",
    "#     print()"
   ]
  },
  {
   "cell_type": "code",
   "execution_count": 42,
   "metadata": {},
   "outputs": [],
   "source": [
    "for i in range(len(var_names)):\n",
    "    model = smf.ols(formula= str(\"revised_attvaldis_factor\"+\"~\"+var_names[i]), data=va_pred).fit()\n",
    "#     print(var_names[i])\n",
    "#     print()\n",
    "#     print(model.summary())\n",
    "#     print()"
   ]
  },
  {
   "cell_type": "markdown",
   "metadata": {},
   "source": [
    "### Language"
   ]
  },
  {
   "cell_type": "code",
   "execution_count": 43,
   "metadata": {},
   "outputs": [
    {
     "name": "stderr",
     "output_type": "stream",
     "text": [
      "<ipython-input-43-9fda4d8ae024>:4: SettingWithCopyWarning: \n",
      "A value is trying to be set on a copy of a slice from a DataFrame.\n",
      "Try using .loc[row_indexer,col_indexer] = value instead\n",
      "\n",
      "See the caveats in the documentation: https://pandas.pydata.org/pandas-docs/stable/user_guide/indexing.html#returning-a-view-versus-a-copy\n",
      "  lang_pred[\"lang_factor_calc\"] = list(lang[\"lang_factor_calc\"])\n",
      "<ipython-input-43-9fda4d8ae024>:5: SettingWithCopyWarning: \n",
      "A value is trying to be set on a copy of a slice from a DataFrame.\n",
      "Try using .loc[row_indexer,col_indexer] = value instead\n",
      "\n",
      "See the caveats in the documentation: https://pandas.pydata.org/pandas-docs/stable/user_guide/indexing.html#returning-a-view-versus-a-copy\n",
      "  lang_pred[\"revised_lang_factor_calc\"] = list(lang[\"revised_lang_factor_calc\"])\n"
     ]
    }
   ],
   "source": [
    "lang = pd.read_csv(\"year_lang.csv\")\n",
    "lang_ids = list(lang[\"study_id\"])\n",
    "lang_pred = pred.loc[pred[\"subject\"].isin(lang_ids)]\n",
    "lang_pred[\"lang_factor_calc\"] = list(lang[\"lang_factor_calc\"])\n",
    "lang_pred[\"revised_lang_factor_calc\"] = list(lang[\"revised_lang_factor_calc\"])"
   ]
  },
  {
   "cell_type": "code",
   "execution_count": 45,
   "metadata": {},
   "outputs": [],
   "source": [
    "for i in range(len(var_names)):\n",
    "    model = smf.ols(formula= str(\"lang_factor_calc\"+\"~\"+var_names[i]), data=lang_pred).fit()\n",
    "#     print(var_names[i])\n",
    "#     print()\n",
    "#     print(model.summary())\n",
    "#     print()"
   ]
  },
  {
   "cell_type": "code",
   "execution_count": 47,
   "metadata": {},
   "outputs": [],
   "source": [
    "for i in range(len(var_names)):\n",
    "    model = smf.ols(formula= str(\"revised_lang_factor_calc\"+\"~\"+var_names[i]), data=lang_pred).fit()\n",
    "#     print(var_names[i])\n",
    "#     print()\n",
    "#     print(model.summary())\n",
    "#     print()"
   ]
  },
  {
   "cell_type": "markdown",
   "metadata": {},
   "source": [
    "### Memory"
   ]
  },
  {
   "cell_type": "code",
   "execution_count": 48,
   "metadata": {},
   "outputs": [
    {
     "name": "stderr",
     "output_type": "stream",
     "text": [
      "<ipython-input-48-552510393269>:4: SettingWithCopyWarning: \n",
      "A value is trying to be set on a copy of a slice from a DataFrame.\n",
      "Try using .loc[row_indexer,col_indexer] = value instead\n",
      "\n",
      "See the caveats in the documentation: https://pandas.pydata.org/pandas-docs/stable/user_guide/indexing.html#returning-a-view-versus-a-copy\n",
      "  mem_pred[\"revised_memv_factor\"] = list(mem[\"revised_memv_factor\"])\n",
      "<ipython-input-48-552510393269>:5: SettingWithCopyWarning: \n",
      "A value is trying to be set on a copy of a slice from a DataFrame.\n",
      "Try using .loc[row_indexer,col_indexer] = value instead\n",
      "\n",
      "See the caveats in the documentation: https://pandas.pydata.org/pandas-docs/stable/user_guide/indexing.html#returning-a-view-versus-a-copy\n",
      "  mem_pred[\"revised_mems_factor\"] = list(mem[\"revised_mems_factor\"])\n"
     ]
    }
   ],
   "source": [
    "mem = pd.read_csv(\"year_mem.csv\")\n",
    "mem_ids = list(mem[\"study_id\"])\n",
    "mem_pred = pred.loc[pred[\"subject\"].isin(mem_ids)]\n",
    "mem_pred[\"revised_memv_factor\"] = list(mem[\"revised_memv_factor\"])\n",
    "mem_pred[\"revised_mems_factor\"] = list(mem[\"revised_mems_factor\"])"
   ]
  },
  {
   "cell_type": "code",
   "execution_count": 50,
   "metadata": {},
   "outputs": [],
   "source": [
    "for i in range(len(var_names)):\n",
    "    model = smf.ols(formula= str(\"revised_memv_factor\"+\"~\"+var_names[i]), data=mem_pred).fit()\n",
    "#     print(var_names[i])\n",
    "#     print()\n",
    "#     print(model.summary())\n",
    "#     print()"
   ]
  },
  {
   "cell_type": "code",
   "execution_count": 52,
   "metadata": {},
   "outputs": [],
   "source": [
    "for i in range(len(var_names)):\n",
    "    model = smf.ols(formula= str(\"revised_mems_factor\"+\"~\"+var_names[i]), data=mem_pred).fit()\n",
    "#     print(var_names[i])\n",
    "#     print()\n",
    "#     print(model.summary())\n",
    "#     print()"
   ]
  },
  {
   "cell_type": "markdown",
   "metadata": {},
   "source": [
    "### Motor"
   ]
  },
  {
   "cell_type": "code",
   "execution_count": 4,
   "metadata": {},
   "outputs": [
    {
     "name": "stderr",
     "output_type": "stream",
     "text": [
      "<ipython-input-4-201bea37a172>:4: SettingWithCopyWarning: \n",
      "A value is trying to be set on a copy of a slice from a DataFrame.\n",
      "Try using .loc[row_indexer,col_indexer] = value instead\n",
      "\n",
      "See the caveats in the documentation: https://pandas.pydata.org/pandas-docs/stable/user_guide/indexing.html#returning-a-view-versus-a-copy\n",
      "  mot_pred[\"lmot_factor_calc\"] = list(mot[\"lmot_factor_calc\"])\n",
      "<ipython-input-4-201bea37a172>:5: SettingWithCopyWarning: \n",
      "A value is trying to be set on a copy of a slice from a DataFrame.\n",
      "Try using .loc[row_indexer,col_indexer] = value instead\n",
      "\n",
      "See the caveats in the documentation: https://pandas.pydata.org/pandas-docs/stable/user_guide/indexing.html#returning-a-view-versus-a-copy\n",
      "  mot_pred[\"rmot_factor_calc\"] = list(mot[\"rmot_factor_calc\"])\n",
      "<ipython-input-4-201bea37a172>:6: SettingWithCopyWarning: \n",
      "A value is trying to be set on a copy of a slice from a DataFrame.\n",
      "Try using .loc[row_indexer,col_indexer] = value instead\n",
      "\n",
      "See the caveats in the documentation: https://pandas.pydata.org/pandas-docs/stable/user_guide/indexing.html#returning-a-view-versus-a-copy\n",
      "  mot_pred[\"revised_lmotor_factor\"] = list(mot[\"revised_lmotor_factor\"])\n",
      "<ipython-input-4-201bea37a172>:7: SettingWithCopyWarning: \n",
      "A value is trying to be set on a copy of a slice from a DataFrame.\n",
      "Try using .loc[row_indexer,col_indexer] = value instead\n",
      "\n",
      "See the caveats in the documentation: https://pandas.pydata.org/pandas-docs/stable/user_guide/indexing.html#returning-a-view-versus-a-copy\n",
      "  mot_pred[\"revised_rmotor_factor\"] = list(mot[\"revised_rmotor_factor\"])\n"
     ]
    }
   ],
   "source": [
    "mot = pd.read_csv(\"year_mot.csv\")\n",
    "mot_ids = list(mot[\"study_id\"])\n",
    "mot_pred = pred.loc[pred[\"subject\"].isin(mot_ids)]\n",
    "mot_pred[\"lmot_factor_calc\"] = list(mot[\"lmot_factor_calc\"])\n",
    "mot_pred[\"rmot_factor_calc\"] = list(mot[\"rmot_factor_calc\"])\n",
    "mot_pred[\"revised_lmotor_factor\"] = list(mot[\"revised_lmotor_factor\"])\n",
    "mot_pred[\"revised_rmotor_factor\"] = list(mot[\"revised_rmotor_factor\"])"
   ]
  },
  {
   "cell_type": "code",
   "execution_count": 8,
   "metadata": {},
   "outputs": [],
   "source": [
    "for i in range(len(var_names)):\n",
    "    model = smf.ols(formula= str(\"lmot_factor_calc\"+\"~\"+var_names[i]), data=mot_pred).fit()\n",
    "#     print(var_names[i])\n",
    "#     print()\n",
    "#     print(model.summary())\n",
    "#     print()"
   ]
  },
  {
   "cell_type": "code",
   "execution_count": 57,
   "metadata": {},
   "outputs": [],
   "source": [
    "for i in range(len(var_names)):\n",
    "    model = smf.ols(formula= str(\"revised_lmotor_factor\"+\"~\"+var_names[i]), data=mot_pred).fit()\n",
    "#     print(var_names[i])\n",
    "#     print()\n",
    "#     print(model.summary())\n",
    "#     print()"
   ]
  },
  {
   "cell_type": "code",
   "execution_count": 59,
   "metadata": {},
   "outputs": [],
   "source": [
    "for i in range(len(var_names)):\n",
    "    model = smf.ols(formula= str(\"rmot_factor_calc\"+\"~\"+var_names[i]), data=mot_pred).fit()\n",
    "#     print(var_names[i])\n",
    "#     print()\n",
    "#     print(model.summary())\n",
    "#     print()"
   ]
  },
  {
   "cell_type": "code",
   "execution_count": 61,
   "metadata": {},
   "outputs": [],
   "source": [
    "for i in range(len(var_names)):\n",
    "    model = smf.ols(formula= str(\"revised_rmotor_factor\"+\"~\"+var_names[i]), data=mot_pred).fit()\n",
    "#     print(var_names[i])\n",
    "#     print()\n",
    "#     print(model.summary())\n",
    "#     print()"
   ]
  },
  {
   "cell_type": "code",
   "execution_count": null,
   "metadata": {},
   "outputs": [],
   "source": []
  }
 ],
 "metadata": {
  "kernelspec": {
   "display_name": "Machine-Learning",
   "language": "python",
   "name": "ml"
  },
  "language_info": {
   "codemirror_mode": {
    "name": "ipython",
    "version": 3
   },
   "file_extension": ".py",
   "mimetype": "text/x-python",
   "name": "python",
   "nbconvert_exporter": "python",
   "pygments_lexer": "ipython3",
   "version": "3.8.5"
  }
 },
 "nbformat": 4,
 "nbformat_minor": 4
}
