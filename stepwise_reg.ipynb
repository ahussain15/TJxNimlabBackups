{
 "cells": [
  {
   "cell_type": "code",
   "execution_count": 2,
   "metadata": {},
   "outputs": [],
   "source": [
    "library(stats)"
   ]
  },
  {
   "cell_type": "code",
   "execution_count": 68,
   "metadata": {},
   "outputs": [],
   "source": [
    "data = read.csv(\"mgh_vars.csv\")\n",
    "data = data[!(names(data) %in% c(\"subject\"))]"
   ]
  },
  {
   "cell_type": "code",
   "execution_count": 69,
   "metadata": {},
   "outputs": [],
   "source": [
    "int_only = lm(nih ~ 1, data=data)\n",
    "all = lm(nih~., data=data)"
   ]
  },
  {
   "cell_type": "code",
   "execution_count": 70,
   "metadata": {},
   "outputs": [],
   "source": [
    "forward = step(int_only, direction=\"forward\", scope=formula(all), trace=0)"
   ]
  },
  {
   "cell_type": "code",
   "execution_count": 71,
   "metadata": {},
   "outputs": [
    {
     "data": {
      "text/plain": [
       "\n",
       "Call:\n",
       "lm(formula = nih ~ lnm_pos + lnm_pos_avg + l_size + vlsm_tot + \n",
       "    vlsm_tot_avg + lnm_neg, data = data)\n",
       "\n",
       "Residuals:\n",
       "    Min      1Q  Median      3Q     Max \n",
       "-15.608  -2.818  -1.184   1.702  25.818 \n",
       "\n",
       "Coefficients:\n",
       "               Estimate Std. Error t value Pr(>|t|)    \n",
       "(Intercept)   1.0500734  0.6682429   1.571 0.116823    \n",
       "lnm_pos      -0.0002743  0.0001568  -1.749 0.080937 .  \n",
       "lnm_pos_avg   1.1520635  0.3144436   3.664 0.000279 ***\n",
       "l_size        0.0008687  0.0003712   2.340 0.019721 *  \n",
       "vlsm_tot      0.0007078  0.0002486   2.847 0.004623 ** \n",
       "vlsm_tot_avg -0.7827070  0.3251606  -2.407 0.016497 *  \n",
       "lnm_neg       0.0005028  0.0002852   1.763 0.078604 .  \n",
       "---\n",
       "Signif. codes:  0 '***' 0.001 '**' 0.01 '*' 0.05 '.' 0.1 ' ' 1\n",
       "\n",
       "Residual standard error: 5.138 on 432 degrees of freedom\n",
       "Multiple R-squared:  0.3362,\tAdjusted R-squared:  0.327 \n",
       "F-statistic: 36.47 on 6 and 432 DF,  p-value: < 2.2e-16\n"
      ]
     },
     "metadata": {},
     "output_type": "display_data"
    }
   ],
   "source": [
    "summary(forward)"
   ]
  },
  {
   "cell_type": "code",
   "execution_count": 72,
   "metadata": {},
   "outputs": [],
   "source": [
    "backward = step(all, direction=\"backward\", scope=formula(all), trace=0)"
   ]
  },
  {
   "cell_type": "code",
   "execution_count": 73,
   "metadata": {},
   "outputs": [
    {
     "data": {
      "text/plain": [
       "\n",
       "Call:\n",
       "lm(formula = nih ~ lnm_tot + lnm_neg + vlsm_tot + lnm_tot_avg + \n",
       "    lnm_neg_avg + vlsm_tot_avg + l_size, data = data)\n",
       "\n",
       "Residuals:\n",
       "    Min      1Q  Median      3Q     Max \n",
       "-15.864  -3.059  -1.174   1.656  26.225 \n",
       "\n",
       "Coefficients:\n",
       "               Estimate Std. Error t value Pr(>|t|)    \n",
       "(Intercept)   0.9293550  0.8423318   1.103 0.270507    \n",
       "lnm_tot      -0.0002736  0.0001563  -1.751 0.080643 .  \n",
       "lnm_neg       0.0006953  0.0004271   1.628 0.104252    \n",
       "vlsm_tot      0.0006733  0.0002492   2.702 0.007163 ** \n",
       "lnm_tot_avg   1.0603320  0.2797014   3.791 0.000171 ***\n",
       "lnm_neg_avg  -1.3071226  0.6363356  -2.054 0.040565 *  \n",
       "vlsm_tot_avg -0.6648617  0.3403436  -1.954 0.051407 .  \n",
       "l_size        0.0008402  0.0003692   2.275 0.023374 *  \n",
       "---\n",
       "Signif. codes:  0 '***' 0.001 '**' 0.01 '*' 0.05 '.' 0.1 ' ' 1\n",
       "\n",
       "Residual standard error: 5.138 on 431 degrees of freedom\n",
       "Multiple R-squared:  0.3377,\tAdjusted R-squared:  0.327 \n",
       "F-statistic:  31.4 on 7 and 431 DF,  p-value: < 2.2e-16\n"
      ]
     },
     "metadata": {},
     "output_type": "display_data"
    }
   ],
   "source": [
    "summary(backward)"
   ]
  },
  {
   "cell_type": "code",
   "execution_count": 74,
   "metadata": {},
   "outputs": [],
   "source": [
    "both = step(int_only, direction=\"both\", scope=formula(all), trace=0)"
   ]
  },
  {
   "cell_type": "code",
   "execution_count": 75,
   "metadata": {},
   "outputs": [
    {
     "data": {
      "text/plain": [
       "\n",
       "Call:\n",
       "lm(formula = nih ~ lnm_pos_avg + l_size + vlsm_tot + vlsm_tot_avg, \n",
       "    data = data)\n",
       "\n",
       "Residuals:\n",
       "    Min      1Q  Median      3Q     Max \n",
       "-16.148  -2.895  -1.259   1.613  26.545 \n",
       "\n",
       "Coefficients:\n",
       "               Estimate Std. Error t value Pr(>|t|)    \n",
       "(Intercept)   1.360e+00  6.227e-01   2.185 0.029449 *  \n",
       "lnm_pos_avg   1.005e+00  2.941e-01   3.418 0.000689 ***\n",
       "l_size        2.030e-04  5.806e-05   3.497 0.000520 ***\n",
       "vlsm_tot      4.455e-04  1.530e-04   2.913 0.003770 ** \n",
       "vlsm_tot_avg -6.175e-01  2.996e-01  -2.061 0.039876 *  \n",
       "---\n",
       "Signif. codes:  0 '***' 0.001 '**' 0.01 '*' 0.05 '.' 0.1 ' ' 1\n",
       "\n",
       "Residual standard error: 5.146 on 434 degrees of freedom\n",
       "Multiple R-squared:  0.3312,\tAdjusted R-squared:  0.325 \n",
       "F-statistic: 53.72 on 4 and 434 DF,  p-value: < 2.2e-16\n"
      ]
     },
     "metadata": {},
     "output_type": "display_data"
    }
   ],
   "source": [
    "summary(both)"
   ]
  },
  {
   "cell_type": "code",
   "execution_count": null,
   "metadata": {},
   "outputs": [],
   "source": []
  }
 ],
 "metadata": {
  "kernelspec": {
   "display_name": "R(qiime2)",
   "language": "R",
   "name": "ir"
  },
  "language_info": {
   "codemirror_mode": "r",
   "file_extension": ".r",
   "mimetype": "text/x-r-source",
   "name": "R",
   "pygments_lexer": "r",
   "version": "3.5.1"
  }
 },
 "nbformat": 4,
 "nbformat_minor": 4
}
