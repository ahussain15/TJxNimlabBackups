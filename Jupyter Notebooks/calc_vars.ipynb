{
 "cells": [
  {
   "cell_type": "markdown",
   "metadata": {},
   "source": [
    "## Last Modified: 4/28/21"
   ]
  },
  {
   "cell_type": "code",
   "execution_count": 1,
   "metadata": {},
   "outputs": [],
   "source": [
    "import pandas as pd\n",
    "import numpy as np\n",
    "import nibabel as ni\n",
    "import scipy.stats as ss\n",
    "import os"
   ]
  },
  {
   "cell_type": "code",
   "execution_count": 2,
   "metadata": {},
   "outputs": [],
   "source": [
    "pd.set_option(\"display.max_rows\", None)\n",
    "pd.set_option(\"display.max_columns\", None)\n",
    "pd.set_option(\"display.width\", None)\n",
    "pd.set_option(\"display.max_colwidth\", None)"
   ]
  },
  {
   "cell_type": "code",
   "execution_count": 4,
   "metadata": {},
   "outputs": [],
   "source": [
    "dataset = \"acute\""
   ]
  },
  {
   "cell_type": "code",
   "execution_count": 5,
   "metadata": {},
   "outputs": [],
   "source": [
    "#inp = pd.read_csv(dataset+\"_ds.csv\")\n",
    "inp = pd.read_csv(dataset+\"_scores.csv\")\n",
    "subjects = inp[\"subject\"].to_list()"
   ]
  },
  {
   "cell_type": "code",
   "execution_count": 6,
   "metadata": {},
   "outputs": [],
   "source": [
    "cols = [\"nih\", \"lnm_tot\", \"lnm_pos\", \"lnm_neg\", \"vlsm_tot\", \"vlsm_pos\",\"lnm_tot_avg\", \"lnm_pos_avg\", \"lnm_neg_avg\", \"vlsm_tot_avg\", \"vlsm_pos_avg\", \"sp_corr_lnm\", \"sp_corr_vlsm\", \"l_size\"] # \"sp_corr_lnm\" and \"sp_corr_vlsm\" for sp corr vars \n",
    "df = pd.DataFrame(index=subjects, columns=cols)"
   ]
  },
  {
   "cell_type": "code",
   "execution_count": 5,
   "metadata": {},
   "outputs": [],
   "source": [
    "lnm_img = ni.load(\"template_palm_acute/_vox_tstat.nii\")\n",
    "lnm_ref = np.array(lnm_img.dataobj)\n",
    "vlsm_img = ni.load(\"vlsm_acute.nii\")\n",
    "vlsm_ref = np.array(vlsm_img.dataobj)\n",
    "mask_img = ni.load(\"mask.nii\")\n",
    "mask_ref = np.array(mask_img.dataobj)\n",
    "wm_img = ni.load(\"palm_dcn_acute/_vox_tstat.nii\")\n",
    "wm_ref = np.array(wm_img.dataobj)"
   ]
  },
  {
   "cell_type": "code",
   "execution_count": 8,
   "metadata": {},
   "outputs": [],
   "source": [
    "vlsm_x = []\n",
    "lnm_x = []\n",
    "for x in range(len(vlsm_ref)):\n",
    "    for y in range(len(vlsm_ref[x])):\n",
    "        for z in range(len(vlsm_ref[x][y])):\n",
    "                if mask_ref[x, y, z] > 0:\n",
    "                    if vlsm_ref[x, y, z] != np.nan:\n",
    "                        vlsm_x.append(vlsm_ref[x, y, z])\n",
    "                    if lnm_ref[x, y, z] != np.nan:\n",
    "                        lnm_x.append(lnm_ref[x, y, z])\n",
    "vlsm_x = np.array(vlsm_x)\n",
    "lnm_x = np.array(lnm_x)"
   ]
  },
  {
   "cell_type": "markdown",
   "metadata": {},
   "source": [
    "### Sums and Avgs"
   ]
  },
  {
   "cell_type": "code",
   "execution_count": 9,
   "metadata": {},
   "outputs": [],
   "source": [
    "for s in subjects:\n",
    "    #img = ni.load(inp.loc[inp[\"subject\"] == s, \"lesion\"].to_list()[0])\n",
    "    img = ni.load(inp.loc[inp[\"subject\"] == s, \"filenames\"].to_list()[0])\n",
    "    data = np.array(img.dataobj)\n",
    "    lnm_pos = []\n",
    "    lnm_neg = []\n",
    "    lnm_tot = []\n",
    "    vlsm_pos = []\n",
    "    vlsm_tot = []\n",
    "    for x in range(len(data)):\n",
    "        for y in range(len(data[x])):\n",
    "            for z in range(len(data[x][y])):\n",
    "                if data[x, y, z] != np.nan and data[x, y, z] > 0:\n",
    "                    lnm_tot.append(lnm_ref[x, y, z])\n",
    "                    vlsm_tot.append(vlsm_ref[x, y, z])\n",
    "                    if lnm_ref[x, y, z] > 0:\n",
    "                        lnm_pos.append(lnm_ref[x, y, z])\n",
    "                    if lnm_ref[x, y, z] < 0:\n",
    "                        lnm_neg.append(lnm_ref[x, y, z])\n",
    "                    if vlsm_ref[x, y, z] > 0:\n",
    "                        vlsm_pos.append(vlsm_ref[x, y, z])\n",
    "    #df.at[s, \"nih\"] = float(inp.loc[inp[\"subject\"] == s, \"nihss_\"+dataset].to_list()[0])\n",
    "    df.at[s, \"nih\"] = float(inp.loc[inp[\"subject\"] == s, \"NIHSS\"].to_list()[0])\n",
    "    df.at[s, \"lnm_tot\"] = np.sum(np.array(lnm_tot))\n",
    "    df.at[s, \"lnm_pos\"] = np.sum(np.array(lnm_pos))\n",
    "    df.at[s, \"lnm_neg\"] = np.sum(np.array(lnm_neg))\n",
    "    df.at[s, \"vlsm_tot\"] = np.sum(np.array(vlsm_tot))\n",
    "    df.at[s, \"vlsm_pos\"] = np.sum(np.array(vlsm_pos))\n",
    "    if len(lnm_tot) > 0:\n",
    "        df.at[s, \"lnm_tot_avg\"] = np.mean(np.array(lnm_tot))\n",
    "    else:\n",
    "        df.at[s, \"lnm_tot_avg\"] = 0\n",
    "    if len(lnm_pos) > 0:\n",
    "        df.at[s, \"lnm_pos_avg\"] = np.mean(np.array(lnm_pos))\n",
    "    else:\n",
    "        df.at[s, \"lnm_pos_avg\"] = 0\n",
    "    if len(lnm_neg) > 0:\n",
    "        df.at[s, \"lnm_neg_avg\"] = np.mean(np.array(lnm_neg))\n",
    "    else:\n",
    "        df.at[s, \"lnm_neg_avg\"] = 0\n",
    "    if len(vlsm_tot) > 0:\n",
    "        df.at[s, \"vlsm_tot_avg\"] = np.mean(np.array(vlsm_tot))\n",
    "    else:\n",
    "        df.at[s, \"vlsm_tot_avg\"] = 0\n",
    "    if len(vlsm_pos) > 0:\n",
    "        df.at[s, \"vlsm_pos_avg\"] = np.mean(np.array(vlsm_pos))\n",
    "    else:\n",
    "        df.at[s, \"vlsm_pos_avg\"] = 0\n",
    "    df.at[s, \"l_size\"] = len(lnm_tot)"
   ]
  },
  {
   "cell_type": "code",
   "execution_count": 10,
   "metadata": {},
   "outputs": [],
   "source": [
    "df[\"subject\"] = subjects"
   ]
  },
  {
   "cell_type": "code",
   "execution_count": 10,
   "metadata": {},
   "outputs": [],
   "source": [
    "df.to_csv(dataset+\"_vars_hospital.csv\", index=False)"
   ]
  },
  {
   "cell_type": "markdown",
   "metadata": {},
   "source": [
    "### Calculate Sp Corr Vars"
   ]
  },
  {
   "cell_type": "code",
   "execution_count": 13,
   "metadata": {},
   "outputs": [
    {
     "ename": "ValueError",
     "evalue": "invalid literal for int() with base 10: 'FCS_058'",
     "output_type": "error",
     "traceback": [
      "\u001b[0;31m---------------------------------------------------------------------------\u001b[0m",
      "\u001b[0;31mValueError\u001b[0m                                Traceback (most recent call last)",
      "\u001b[0;32m<ipython-input-13-15f65af415e6>\u001b[0m in \u001b[0;36m<module>\u001b[0;34m\u001b[0m\n\u001b[1;32m      1\u001b[0m \u001b[0mdf\u001b[0m \u001b[0;34m=\u001b[0m \u001b[0mpd\u001b[0m\u001b[0;34m.\u001b[0m\u001b[0mread_csv\u001b[0m\u001b[0;34m(\u001b[0m\u001b[0mdataset\u001b[0m\u001b[0;34m+\u001b[0m\u001b[0;34m\"_vars_cv.csv\"\u001b[0m\u001b[0;34m)\u001b[0m\u001b[0;34m\u001b[0m\u001b[0;34m\u001b[0m\u001b[0m\n\u001b[1;32m      2\u001b[0m \u001b[0;31m# subjects = list(df[\"subject\"])\u001b[0m\u001b[0;34m\u001b[0m\u001b[0;34m\u001b[0m\u001b[0;34m\u001b[0m\u001b[0m\n\u001b[0;32m----> 3\u001b[0;31m \u001b[0msubjects\u001b[0m \u001b[0;34m=\u001b[0m \u001b[0mset\u001b[0m\u001b[0;34m(\u001b[0m\u001b[0mint\u001b[0m\u001b[0;34m(\u001b[0m\u001b[0mk\u001b[0m\u001b[0;34m)\u001b[0m \u001b[0;32mfor\u001b[0m \u001b[0mk\u001b[0m \u001b[0;32min\u001b[0m \u001b[0mdf\u001b[0m\u001b[0;34m[\u001b[0m\u001b[0;34m\"subject\"\u001b[0m\u001b[0;34m]\u001b[0m\u001b[0;34m)\u001b[0m\u001b[0;34m\u001b[0m\u001b[0;34m\u001b[0m\u001b[0m\n\u001b[0m",
      "\u001b[0;32m<ipython-input-13-15f65af415e6>\u001b[0m in \u001b[0;36m<genexpr>\u001b[0;34m(.0)\u001b[0m\n\u001b[1;32m      1\u001b[0m \u001b[0mdf\u001b[0m \u001b[0;34m=\u001b[0m \u001b[0mpd\u001b[0m\u001b[0;34m.\u001b[0m\u001b[0mread_csv\u001b[0m\u001b[0;34m(\u001b[0m\u001b[0mdataset\u001b[0m\u001b[0;34m+\u001b[0m\u001b[0;34m\"_vars_cv.csv\"\u001b[0m\u001b[0;34m)\u001b[0m\u001b[0;34m\u001b[0m\u001b[0;34m\u001b[0m\u001b[0m\n\u001b[1;32m      2\u001b[0m \u001b[0;31m# subjects = list(df[\"subject\"])\u001b[0m\u001b[0;34m\u001b[0m\u001b[0;34m\u001b[0m\u001b[0;34m\u001b[0m\u001b[0m\n\u001b[0;32m----> 3\u001b[0;31m \u001b[0msubjects\u001b[0m \u001b[0;34m=\u001b[0m \u001b[0mset\u001b[0m\u001b[0;34m(\u001b[0m\u001b[0mint\u001b[0m\u001b[0;34m(\u001b[0m\u001b[0mk\u001b[0m\u001b[0;34m)\u001b[0m \u001b[0;32mfor\u001b[0m \u001b[0mk\u001b[0m \u001b[0;32min\u001b[0m \u001b[0mdf\u001b[0m\u001b[0;34m[\u001b[0m\u001b[0;34m\"subject\"\u001b[0m\u001b[0;34m]\u001b[0m\u001b[0;34m)\u001b[0m\u001b[0;34m\u001b[0m\u001b[0;34m\u001b[0m\u001b[0m\n\u001b[0m",
      "\u001b[0;31mValueError\u001b[0m: invalid literal for int() with base 10: 'FCS_058'"
     ]
    }
   ],
   "source": [
    "df = pd.read_csv(dataset+\"_vars.csv\")\n",
    "# subjects = list(df[\"subject\"])\n",
    "subjects = set(int(k) for k in df[\"subject\"])"
   ]
  },
  {
   "cell_type": "code",
   "execution_count": 11,
   "metadata": {},
   "outputs": [],
   "source": [
    "vlsm_corr = []\n",
    "lnm_corr = []\n",
    "#for s in subjects:\n",
    "for s in range(1, 491):\n",
    "    if s not in subjects:\n",
    "        continue\n",
    "    if s < 10:\n",
    "        num = \"00\"+str(s)\n",
    "    elif s < 100:\n",
    "        num = \"0\"+str(s)\n",
    "    else:\n",
    "        num = str(s)\n",
    "    file = ni.load(\"mgh_avgr_fz/subject\"+num+\"_AvgR_Fz.nii\")\n",
    "#     try:\n",
    "#         file = ni.load(\"brain_lesion_networks/\"+s+\"_A_lesion_ifhfix_func_seed_T.nii\")\n",
    "#     except:\n",
    "#         file = ni.load(\"brain_lesion_networks/\"+s+\"_A_lesion_func_seed_T.nii\")\n",
    "    nw = np.array(file.dataobj)\n",
    "    ind_corr = []\n",
    "    for x in range(len(nw)):\n",
    "        for y in range(len(nw[x])):\n",
    "            for z in range(len(nw[x][y])):\n",
    "                if mask_ref[x, y, z] > 0 and nw[x, y, z] != np.nan:\n",
    "                    ind_corr.append(nw[x, y, z])\n",
    "    vlsm_corr.append(ss.pearsonr(vlsm_x, ind_corr)[0])\n",
    "    lnm_corr.append(ss.pearsonr(lnm_x, ind_corr)[0])\n",
    "df[\"sp_corr_vlsm\"] = vlsm_corr\n",
    "df[\"sp_corr_lnm\"] = lnm_corr"
   ]
  },
  {
   "cell_type": "code",
   "execution_count": 13,
   "metadata": {},
   "outputs": [],
   "source": [
    "df.to_csv(dataset+\"_vars_hospital.csv\", index=False)"
   ]
  },
  {
   "cell_type": "markdown",
   "metadata": {},
   "source": [
    "### Calculate White Matter Vars"
   ]
  },
  {
   "cell_type": "code",
   "execution_count": 47,
   "metadata": {},
   "outputs": [],
   "source": [
    "df = pd.read_csv(dataset+\"_vars_cv.csv\")"
   ]
  },
  {
   "cell_type": "code",
   "execution_count": 48,
   "metadata": {},
   "outputs": [],
   "source": [
    "# dmaps = list(pd.read_csv(dataset+\"_dcn.csv\")[\"disconnectome\"])\n",
    "dmaps = list(pd.read_csv(dataset+\"_palm_dcn.csv\")[\"filenames\"])\n",
    "# lesions = list(pd.read_csv(dataset+\"_ds.csv\")[\"lesion\"])\n",
    "lesions = list(pd.read_csv(dataset+\"_scores.csv\")[\"filenames\"])"
   ]
  },
  {
   "cell_type": "code",
   "execution_count": 49,
   "metadata": {},
   "outputs": [],
   "source": [
    "wm_total = []\n",
    "wm_avg = []\n",
    "# wm_corr = []"
   ]
  },
  {
   "cell_type": "code",
   "execution_count": 50,
   "metadata": {},
   "outputs": [],
   "source": [
    "for i in range(len(lesions)):\n",
    "    lesion = np.array(ni.load(lesions[i]).dataobj)\n",
    "    dmap = np.array(ni.load(dmaps[i]).dataobj)\n",
    "    wm_val = []\n",
    "    ind_corr = []\n",
    "    ref_corr = []\n",
    "    for x in range(len(lesion)):\n",
    "        for y in range(len(lesion[x])):\n",
    "            for z in range(len(lesion[x][y])):\n",
    "                if lesion[x, y, z] != np.nan and lesion[x, y, z] > 0 and mask_ref[x, y, z] > 0:\n",
    "                    wm_val.append(wm_ref[x, y, z])\n",
    "#                 if mask_ref[x, y, z] != np.nan and mask_ref[x, y, z] > 0:\n",
    "#                     if wm_ref[x, y, z] != np.nan and dmap[x, y, z] != np.nan:\n",
    "#                         ind_corr.append(dmap[x, y, z])\n",
    "#                         ref_corr.append(wm_ref[x, y, z])\n",
    "    wm_total.append(np.sum(np.array(wm_val)))\n",
    "    wm_avg.append(np.mean(np.array(wm_val)))\n",
    "#     wm_corr.append(ss.pearsonr(ind_corr, ref_corr)[0])"
   ]
  },
  {
   "cell_type": "code",
   "execution_count": 51,
   "metadata": {},
   "outputs": [],
   "source": [
    "df[\"wm_total\"] = wm_total\n",
    "df[\"wm_avg\"] = wm_avg\n",
    "# df[\"sp_corr_wm\"] = wm_corr"
   ]
  },
  {
   "cell_type": "code",
   "execution_count": 53,
   "metadata": {},
   "outputs": [],
   "source": [
    "df.to_csv(dataset+\"_vars_cv.csv\", index=False)"
   ]
  },
  {
   "cell_type": "markdown",
   "metadata": {},
   "source": [
    "### Seed Region"
   ]
  },
  {
   "cell_type": "code",
   "execution_count": 14,
   "metadata": {},
   "outputs": [],
   "source": [
    "mask_img = ni.load(\"mask.nii\")\n",
    "mask_ref = np.array(mask_img.dataobj)\n",
    "seed_img = ni.load(\"functional_connectivity_-36_-4_-10.nii\")\n",
    "seed_ref = np.array(seed_img.dataobj)"
   ]
  },
  {
   "cell_type": "code",
   "execution_count": 15,
   "metadata": {},
   "outputs": [],
   "source": [
    "# inp = pd.read_csv(dataset+\"_scores.csv\")\n",
    "inp = pd.read_csv(dataset+\"_ds.csv\")\n",
    "subjects = inp[\"subject\"].to_list()\n",
    "# lesions = list(pd.read_csv(dataset+\"_scores.csv\")[\"filenames\"])\n",
    "lesions = list(pd.read_csv(dataset+\"_ds.csv\")[\"lesion\"])"
   ]
  },
  {
   "cell_type": "code",
   "execution_count": 16,
   "metadata": {},
   "outputs": [],
   "source": [
    "sr_x = []\n",
    "for x in range(len(seed_ref)):\n",
    "    for y in range(len(seed_ref[x])):\n",
    "        for z in range(len(seed_ref[x, y])):\n",
    "            if mask_ref[x, y, z] > 0:\n",
    "                sr_x.append(float(seed_ref[x, y, z]))"
   ]
  },
  {
   "cell_type": "code",
   "execution_count": 22,
   "metadata": {},
   "outputs": [],
   "source": [
    "sr_df = pd.DataFrame(index=subjects, columns=[\"sr_total\", \"sr_pos\", \"sr_neg\", \"sr_total_avg\", \"sr_pos_avg\", \"sr_neg_avg\", \"sr_sp_corr\"])"
   ]
  },
  {
   "cell_type": "code",
   "execution_count": 23,
   "metadata": {},
   "outputs": [],
   "source": [
    "# for s in range(1, 491):\n",
    "for s in range(len(subjects)):\n",
    "    total = []\n",
    "    pos = []\n",
    "    neg = []\n",
    "    ind_x = []\n",
    "#     if s not in subjects:\n",
    "#         continue\n",
    "#     if s < 10:\n",
    "#         num = \"00\"+str(s)\n",
    "#     elif s < 100:\n",
    "#         num = \"0\"+str(s)\n",
    "#     else:\n",
    "#         num = str(s)\n",
    "#     lesion = np.array(ni.load(\"mgh_lesions/subject\"+num+\".nii\").dataobj)\n",
    "#     network = np.array(ni.load(\"mgh_avgr_fz/subject\"+num+\"_AvgR_Fz.nii\").dataobj)\n",
    "    lesion = np.array(ni.load(lesions[s]).dataobj)\n",
    "    try:\n",
    "        network = np.array(ni.load(\"brain_lesion_networks/\"+subjects[s]+\"_A_lesion_ifhfix_func_seed_T.nii\").dataobj)\n",
    "    except:\n",
    "        network = np.array(ni.load(\"brain_lesion_networks/\"+subjects[s]+\"_A_lesion_func_seed_T.nii\").dataobj)\n",
    "    for x in range(len(lesion)):\n",
    "        for y in range(len(lesion[x])):\n",
    "            for z in range(len(lesion[x, y])):\n",
    "                if mask_ref[x, y, z] > 0 and lesion[x, y, z] > 0:\n",
    "                    total.append(seed_ref[x, y, z])\n",
    "                    if seed_ref[x, y, z] > 0:\n",
    "                        pos.append(seed_ref[x, y, z])\n",
    "                    if seed_ref[x, y, z] < 0:\n",
    "                        neg.append(seed_ref[x, y, z])\n",
    "                if mask_ref[x, y, z] > 0:\n",
    "                    ind_x.append(float(network[x, y, z]))\n",
    "    sr_df.at[subjects[s], \"sr_total\"] = np.sum(np.array(total))\n",
    "    sr_df.at[subjects[s], \"sr_pos\"] = np.sum(np.array(pos))\n",
    "    sr_df.at[subjects[s], \"sr_neg\"] = np.sum(np.array(neg))\n",
    "    if len(total) > 0:\n",
    "        sr_df.at[subjects[s], \"sr_total_avg\"] = np.mean(np.array(total))\n",
    "    else:\n",
    "        sr_df.at[subjects[s], \"sr_total_avg\"] = 0\n",
    "    if len(pos) > 0:\n",
    "        sr_df.at[subjects[s], \"sr_pos_avg\"] = np.mean(np.array(pos))\n",
    "    else:\n",
    "        sr_df.at[subjects[s], \"sr_pos_avg\"] = 0\n",
    "    if len(neg) > 0:\n",
    "        sr_df.at[subjects[s], \"sr_neg_avg\"] = np.mean(np.array(neg))\n",
    "    else:\n",
    "        sr_df.at[subjects[s], \"sr_neg_avg\"] = 0\n",
    "    corr = ss.pearsonr(np.array(sr_x), np.array(ind_x))[0]\n",
    "    sr_df.at[subjects[s], \"sr_sp_corr\"] = corr"
   ]
  },
  {
   "cell_type": "code",
   "execution_count": 25,
   "metadata": {},
   "outputs": [],
   "source": [
    "sr_df.to_csv(dataset+\"_seed_region_-36_-4.csv\", index=False)"
   ]
  },
  {
   "cell_type": "code",
   "execution_count": null,
   "metadata": {},
   "outputs": [],
   "source": []
  }
 ],
 "metadata": {
  "kernelspec": {
   "display_name": "Physics",
   "language": "python",
   "name": "physics"
  },
  "language_info": {
   "codemirror_mode": {
    "name": "ipython",
    "version": 3
   },
   "file_extension": ".py",
   "mimetype": "text/x-python",
   "name": "python",
   "nbconvert_exporter": "python",
   "pygments_lexer": "ipython3",
   "version": "3.8.5"
  }
 },
 "nbformat": 4,
 "nbformat_minor": 4
}
