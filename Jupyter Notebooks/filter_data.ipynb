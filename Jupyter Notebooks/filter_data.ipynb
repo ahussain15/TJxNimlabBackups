{
 "cells": [
  {
   "cell_type": "code",
   "execution_count": 1,
   "metadata": {},
   "outputs": [],
   "source": [
    "import pandas as pd\n",
    "import os"
   ]
  },
  {
   "cell_type": "code",
   "execution_count": 2,
   "metadata": {},
   "outputs": [],
   "source": [
    "pd.set_option(\"display.max_rows\", None)\n",
    "pd.set_option(\"display.max_columns\", None)\n",
    "pd.set_option(\"display.width\", None)\n",
    "pd.set_option(\"display.max_colwidth\", None)"
   ]
  },
  {
   "cell_type": "code",
   "execution_count": 3,
   "metadata": {},
   "outputs": [],
   "source": [
    "raw = pd.read_csv(\"FCS_Demographics_and_Behavior_MDF.csv\")"
   ]
  },
  {
   "cell_type": "code",
   "execution_count": 4,
   "metadata": {},
   "outputs": [],
   "source": [
    "img_ids = set()\n",
    "directory = \"brain_lesions\"\n",
    "for filename in os.listdir(directory):\n",
    "    img_ids.add(filename[:7])"
   ]
  },
  {
   "cell_type": "code",
   "execution_count": 5,
   "metadata": {},
   "outputs": [],
   "source": [
    "acute = raw[raw[\"redcap_event_name\"] == \"acute_arm_1\"]\n",
    "acute = acute[[\"study_id\", \"nih_total\"]]\n",
    "acute = acute.dropna()\n",
    "acute = acute.loc[acute['study_id'].isin(img_ids)]"
   ]
  },
  {
   "cell_type": "code",
   "execution_count": 6,
   "metadata": {},
   "outputs": [],
   "source": [
    "tmo = raw[raw[\"redcap_event_name\"] == \"3month_arm_1\"]\n",
    "tmo = tmo[[\"study_id\", \"nih_total\"]]\n",
    "tmo = tmo.dropna()\n",
    "tmo = tmo.loc[tmo['study_id'].isin(img_ids)]"
   ]
  },
  {
   "cell_type": "code",
   "execution_count": 7,
   "metadata": {},
   "outputs": [],
   "source": [
    "year = raw[raw[\"redcap_event_name\"] == \"1year_arm_1\"]\n",
    "year = year[[\"study_id\", \"nih_total\"]]\n",
    "year = year.dropna()\n",
    "year = year.loc[year['study_id'].isin(img_ids)]"
   ]
  },
  {
   "cell_type": "code",
   "execution_count": 3,
   "metadata": {},
   "outputs": [],
   "source": [
    "raw_mgh = pd.read_csv(\"MGH_Demographics.csv\")"
   ]
  },
  {
   "cell_type": "code",
   "execution_count": 4,
   "metadata": {},
   "outputs": [],
   "source": [
    "mgh_imgs = set()\n",
    "mgh_list = []\n",
    "directory = \"mgh_lesions\"\n",
    "for filename in os.listdir(directory):\n",
    "    if filename[:7] == \"subject\":\n",
    "        mgh_imgs.add(filename[7:10])\n",
    "        mgh_list.append(\"mgh_lesions/\"+filename)"
   ]
  },
  {
   "cell_type": "code",
   "execution_count": 5,
   "metadata": {},
   "outputs": [],
   "source": [
    "mgh = raw_mgh.loc[raw_mgh[\"subject\"].isin(mgh_imgs)]\n",
    "mgh_list.sort()\n",
    "mgh[\"filenames\"] = mgh_list\n",
    "mgh = mgh.dropna()"
   ]
  },
  {
   "cell_type": "code",
   "execution_count": 6,
   "metadata": {},
   "outputs": [
    {
     "data": {
      "text/plain": [
       "(488, 4)"
      ]
     },
     "execution_count": 6,
     "metadata": {},
     "output_type": "execute_result"
    }
   ],
   "source": [
    "mgh.shape"
   ]
  },
  {
   "cell_type": "code",
   "execution_count": 7,
   "metadata": {},
   "outputs": [],
   "source": [
    "mgh.to_csv(\"mgh_scores.csv\", index=False)"
   ]
  },
  {
   "cell_type": "code",
   "execution_count": null,
   "metadata": {},
   "outputs": [],
   "source": []
  }
 ],
 "metadata": {
  "kernelspec": {
   "display_name": "Physics",
   "language": "python",
   "name": "physics"
  },
  "language_info": {
   "codemirror_mode": {
    "name": "ipython",
    "version": 3
   },
   "file_extension": ".py",
   "mimetype": "text/x-python",
   "name": "python",
   "nbconvert_exporter": "python",
   "pygments_lexer": "ipython3",
   "version": "3.8.5"
  }
 },
 "nbformat": 4,
 "nbformat_minor": 4
}
