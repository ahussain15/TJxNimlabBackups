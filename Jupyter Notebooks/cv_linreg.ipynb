{
 "cells": [
  {
   "cell_type": "code",
   "execution_count": 1,
   "metadata": {},
   "outputs": [],
   "source": [
    "import pandas as pd\n",
    "import numpy as np\n",
    "import sklearn\n",
    "from sklearn.linear_model import LinearRegression"
   ]
  },
  {
   "cell_type": "code",
   "execution_count": 2,
   "metadata": {},
   "outputs": [],
   "source": [
    "pd.set_option(\"display.max_rows\", None)\n",
    "pd.set_option(\"display.max_columns\", None)\n",
    "pd.set_option(\"display.width\", None)\n",
    "pd.set_option(\"display.max_colwidth\", None)"
   ]
  },
  {
   "cell_type": "code",
   "execution_count": 3,
   "metadata": {},
   "outputs": [],
   "source": [
    "training = pd.read_csv(\"acute_vars.csv\")\n",
    "testing = pd.read_csv(\"mgh_vars.csv\")"
   ]
  },
  {
   "cell_type": "code",
   "execution_count": 4,
   "metadata": {},
   "outputs": [],
   "source": [
    "var_names = [\"lnm_tot\", \"lnm_pos\", \"lnm_neg\", \"vlsm_tot\", \"wm_total\", \"lnm_tot_avg\", \"lnm_pos_avg\", \"lnm_neg_avg\", \"vlsm_tot_avg\", \"vlsm_pos_avg\", \"wm_avg\", \"sp_corr_lnm\", \"sp_corr_vlsm\", \"sp_corr_wm\", \"l_size\"]\n",
    "full_names = [\"LNM Total\", \"LNM Pos\", \"LNM Neg\", \"VLSM Total\", \"WM Total\", \"LNM Total Avg\", \"LNM Pos Avg\", \"LNM Neg Avg\", \"VLSM Total Avg\", \"VLSM Pos Avg\", \"WM Total Avg\", \"Sp Corr LNM\", \"Sp Corr VLSM\", \"Sp Corr WM\", \"Lesion Size\"]"
   ]
  },
  {
   "cell_type": "code",
   "execution_count": 5,
   "metadata": {},
   "outputs": [],
   "source": [
    "tr_y = np.array(training[\"nih\"])\n",
    "te_y = np.array(testing[\"nih\"])"
   ]
  },
  {
   "cell_type": "code",
   "execution_count": 9,
   "metadata": {},
   "outputs": [],
   "source": [
    "single_var_output = pd.DataFrame(columns=[\"formula\", \"training_r2\", \"testing_r2\", \"cv_shrinkage\"])"
   ]
  },
  {
   "cell_type": "code",
   "execution_count": 10,
   "metadata": {},
   "outputs": [],
   "source": [
    "for p in var_names:\n",
    "    tr_x = np.array(training[p]).reshape(-1, 1)\n",
    "    model = sklearn.linear_model.LinearRegression().fit(tr_x, tr_y)\n",
    "    te_x = np.array(testing[p]).reshape(-1, 1)\n",
    "    row = [\"NIHSS=\"+str(model.intercept_)[:7]+\"+\"+str(model.coef_[0])[:10]+\"*x1\", model.score(tr_x, tr_y), model.score(te_x, te_y), (model.score(tr_x, tr_y)-model.score(te_x, te_y))/model.score(tr_x, tr_y)*100]\n",
    "    single_var_output.loc[p] = row"
   ]
  },
  {
   "cell_type": "code",
   "execution_count": 11,
   "metadata": {},
   "outputs": [
    {
     "data": {
      "text/html": [
       "<div>\n",
       "<style scoped>\n",
       "    .dataframe tbody tr th:only-of-type {\n",
       "        vertical-align: middle;\n",
       "    }\n",
       "\n",
       "    .dataframe tbody tr th {\n",
       "        vertical-align: top;\n",
       "    }\n",
       "\n",
       "    .dataframe thead th {\n",
       "        text-align: right;\n",
       "    }\n",
       "</style>\n",
       "<table border=\"1\" class=\"dataframe\">\n",
       "  <thead>\n",
       "    <tr style=\"text-align: right;\">\n",
       "      <th></th>\n",
       "      <th>formula</th>\n",
       "      <th>training_r2</th>\n",
       "      <th>testing_r2</th>\n",
       "      <th>cv_shrinkage</th>\n",
       "    </tr>\n",
       "  </thead>\n",
       "  <tbody>\n",
       "    <tr>\n",
       "      <th>lnm_tot</th>\n",
       "      <td>NIHSS=2.84956+0.00019213*x1</td>\n",
       "      <td>0.410530</td>\n",
       "      <td>0.205690</td>\n",
       "      <td>49.896527</td>\n",
       "    </tr>\n",
       "    <tr>\n",
       "      <th>lnm_pos</th>\n",
       "      <td>NIHSS=2.64695+0.00018513*x1</td>\n",
       "      <td>0.416424</td>\n",
       "      <td>0.241724</td>\n",
       "      <td>41.952441</td>\n",
       "    </tr>\n",
       "    <tr>\n",
       "      <th>lnm_neg</th>\n",
       "      <td>NIHSS=4.19804+-0.0002889*x1</td>\n",
       "      <td>0.032559</td>\n",
       "      <td>0.100816</td>\n",
       "      <td>-209.646053</td>\n",
       "    </tr>\n",
       "    <tr>\n",
       "      <th>vlsm_tot</th>\n",
       "      <td>NIHSS=2.25699+0.00069485*x1</td>\n",
       "      <td>0.522224</td>\n",
       "      <td>0.157803</td>\n",
       "      <td>69.782408</td>\n",
       "    </tr>\n",
       "    <tr>\n",
       "      <th>wm_total</th>\n",
       "      <td>NIHSS=2.53737+0.00020911*x1</td>\n",
       "      <td>0.415963</td>\n",
       "      <td>0.244378</td>\n",
       "      <td>41.250034</td>\n",
       "    </tr>\n",
       "    <tr>\n",
       "      <th>lnm_tot_avg</th>\n",
       "      <td>NIHSS=3.08428+1.14866737*x1</td>\n",
       "      <td>0.180912</td>\n",
       "      <td>0.000951</td>\n",
       "      <td>99.474320</td>\n",
       "    </tr>\n",
       "    <tr>\n",
       "      <th>lnm_pos_avg</th>\n",
       "      <td>NIHSS=0.67834+1.86186921*x1</td>\n",
       "      <td>0.224842</td>\n",
       "      <td>0.049759</td>\n",
       "      <td>77.869403</td>\n",
       "    </tr>\n",
       "    <tr>\n",
       "      <th>lnm_neg_avg</th>\n",
       "      <td>NIHSS=5.32448+0.77852515*x1</td>\n",
       "      <td>0.008311</td>\n",
       "      <td>-0.038081</td>\n",
       "      <td>558.219064</td>\n",
       "    </tr>\n",
       "    <tr>\n",
       "      <th>vlsm_tot_avg</th>\n",
       "      <td>NIHSS=3.83523+0.94552950*x1</td>\n",
       "      <td>0.045455</td>\n",
       "      <td>-0.048492</td>\n",
       "      <td>206.680629</td>\n",
       "    </tr>\n",
       "    <tr>\n",
       "      <th>vlsm_pos_avg</th>\n",
       "      <td>NIHSS=1.66804+1.20621646*x1</td>\n",
       "      <td>0.222215</td>\n",
       "      <td>0.051953</td>\n",
       "      <td>76.620243</td>\n",
       "    </tr>\n",
       "    <tr>\n",
       "      <th>wm_avg</th>\n",
       "      <td>NIHSS=1.92098+1.26025460*x1</td>\n",
       "      <td>0.093488</td>\n",
       "      <td>-0.060880</td>\n",
       "      <td>165.120519</td>\n",
       "    </tr>\n",
       "    <tr>\n",
       "      <th>sp_corr_lnm</th>\n",
       "      <td>NIHSS=2.97000+5.00298201*x1</td>\n",
       "      <td>0.169213</td>\n",
       "      <td>0.044678</td>\n",
       "      <td>73.596634</td>\n",
       "    </tr>\n",
       "    <tr>\n",
       "      <th>sp_corr_vlsm</th>\n",
       "      <td>NIHSS=3.05400+11.7246853*x1</td>\n",
       "      <td>0.123653</td>\n",
       "      <td>-0.035771</td>\n",
       "      <td>128.928556</td>\n",
       "    </tr>\n",
       "    <tr>\n",
       "      <th>sp_corr_wm</th>\n",
       "      <td>NIHSS=0.15686+20.0420613*x1</td>\n",
       "      <td>0.468247</td>\n",
       "      <td>0.174724</td>\n",
       "      <td>62.685584</td>\n",
       "    </tr>\n",
       "    <tr>\n",
       "      <th>l_size</th>\n",
       "      <td>NIHSS=2.67769+0.00042228*x1</td>\n",
       "      <td>0.328655</td>\n",
       "      <td>0.247132</td>\n",
       "      <td>24.804802</td>\n",
       "    </tr>\n",
       "  </tbody>\n",
       "</table>\n",
       "</div>"
      ],
      "text/plain": [
       "                                  formula  training_r2  testing_r2  \\\n",
       "lnm_tot       NIHSS=2.84956+0.00019213*x1     0.410530    0.205690   \n",
       "lnm_pos       NIHSS=2.64695+0.00018513*x1     0.416424    0.241724   \n",
       "lnm_neg       NIHSS=4.19804+-0.0002889*x1     0.032559    0.100816   \n",
       "vlsm_tot      NIHSS=2.25699+0.00069485*x1     0.522224    0.157803   \n",
       "wm_total      NIHSS=2.53737+0.00020911*x1     0.415963    0.244378   \n",
       "lnm_tot_avg   NIHSS=3.08428+1.14866737*x1     0.180912    0.000951   \n",
       "lnm_pos_avg   NIHSS=0.67834+1.86186921*x1     0.224842    0.049759   \n",
       "lnm_neg_avg   NIHSS=5.32448+0.77852515*x1     0.008311   -0.038081   \n",
       "vlsm_tot_avg  NIHSS=3.83523+0.94552950*x1     0.045455   -0.048492   \n",
       "vlsm_pos_avg  NIHSS=1.66804+1.20621646*x1     0.222215    0.051953   \n",
       "wm_avg        NIHSS=1.92098+1.26025460*x1     0.093488   -0.060880   \n",
       "sp_corr_lnm   NIHSS=2.97000+5.00298201*x1     0.169213    0.044678   \n",
       "sp_corr_vlsm  NIHSS=3.05400+11.7246853*x1     0.123653   -0.035771   \n",
       "sp_corr_wm    NIHSS=0.15686+20.0420613*x1     0.468247    0.174724   \n",
       "l_size        NIHSS=2.67769+0.00042228*x1     0.328655    0.247132   \n",
       "\n",
       "              cv_shrinkage  \n",
       "lnm_tot          49.896527  \n",
       "lnm_pos          41.952441  \n",
       "lnm_neg        -209.646053  \n",
       "vlsm_tot         69.782408  \n",
       "wm_total         41.250034  \n",
       "lnm_tot_avg      99.474320  \n",
       "lnm_pos_avg      77.869403  \n",
       "lnm_neg_avg     558.219064  \n",
       "vlsm_tot_avg    206.680629  \n",
       "vlsm_pos_avg     76.620243  \n",
       "wm_avg          165.120519  \n",
       "sp_corr_lnm      73.596634  \n",
       "sp_corr_vlsm    128.928556  \n",
       "sp_corr_wm       62.685584  \n",
       "l_size           24.804802  "
      ]
     },
     "execution_count": 11,
     "metadata": {},
     "output_type": "execute_result"
    }
   ],
   "source": [
    "single_var_output"
   ]
  },
  {
   "cell_type": "code",
   "execution_count": 15,
   "metadata": {},
   "outputs": [],
   "source": [
    "two_var_output = pd.DataFrame(columns=[\"predictors\", \"formula\", \"training_r2\", \"testing_r2\", \"cv_shrinkage\"])"
   ]
  },
  {
   "cell_type": "code",
   "execution_count": 16,
   "metadata": {},
   "outputs": [],
   "source": [
    "ind = 0\n",
    "for i in range(len(var_names)):\n",
    "    for ii in range(len(var_names)):\n",
    "        if i < ii:\n",
    "            tr_x = training[[var_names[i], var_names[ii]]].to_numpy()\n",
    "            model = sklearn.linear_model.LinearRegression().fit(tr_x, tr_y)\n",
    "            te_x = testing[[var_names[i], var_names[ii]]].to_numpy()\n",
    "            row = [str(full_names[i]+\" & \"+full_names[ii]), \"NIHSS = \"+str(model.intercept_)[:7]+\" + \"+str(model.coef_[0])[:10]+\"*x1 + \"+str(model.coef_[1])+\"*x2\", round(model.score(tr_x, tr_y), 3), round(model.score(te_x, te_y), 3), round(model.score(tr_x, tr_y)-model.score(te_x, te_y), 3)]\n",
    "            two_var_output.loc[ind] = row\n",
    "            ind += 1"
   ]
  },
  {
   "cell_type": "code",
   "execution_count": 12,
   "metadata": {},
   "outputs": [],
   "source": [
    "sr_training = pd.read_csv(\"acute_seed_region_-36_-4.csv\")\n",
    "sr_testing = pd.read_csv(\"mgh_seed_region.csv\")"
   ]
  },
  {
   "cell_type": "code",
   "execution_count": 13,
   "metadata": {},
   "outputs": [],
   "source": [
    "sr_tr_y = np.array(training[\"nih\"])\n",
    "sr_te_y = np.array(testing[\"nih\"])"
   ]
  },
  {
   "cell_type": "code",
   "execution_count": 14,
   "metadata": {},
   "outputs": [],
   "source": [
    "sr_vars = [\"sr_total\", \"sr_pos\", \"sr_neg\", \"sr_total_avg\", \"sr_pos_avg\", \"sr_neg_avg\", \"sr_sp_corr\"]"
   ]
  },
  {
   "cell_type": "code",
   "execution_count": 15,
   "metadata": {},
   "outputs": [],
   "source": [
    "sr_var_output = pd.DataFrame(columns=[\"formula\", \"training_r2\", \"testing_r2\", \"cv_shrinkage\"])"
   ]
  },
  {
   "cell_type": "code",
   "execution_count": 16,
   "metadata": {},
   "outputs": [],
   "source": [
    "for p in sr_vars:\n",
    "    tr_x = np.array(sr_training[p]).reshape(-1, 1)\n",
    "    model = sklearn.linear_model.LinearRegression().fit(tr_x, sr_tr_y)\n",
    "    te_x = np.array(sr_testing[p]).reshape(-1, 1)\n",
    "    row = [\"NIHSS=\"+str(model.intercept_)[:7]+\"+\"+str(model.coef_[0])[:10]+\"*x1\", model.score(tr_x, sr_tr_y), model.score(te_x, sr_te_y), (model.score(tr_x, sr_tr_y)-model.score(te_x, sr_te_y))/model.score(tr_x, sr_tr_y)*100]\n",
    "    sr_var_output.loc[p] = row"
   ]
  },
  {
   "cell_type": "code",
   "execution_count": 17,
   "metadata": {},
   "outputs": [
    {
     "data": {
      "text/html": [
       "<div>\n",
       "<style scoped>\n",
       "    .dataframe tbody tr th:only-of-type {\n",
       "        vertical-align: middle;\n",
       "    }\n",
       "\n",
       "    .dataframe tbody tr th {\n",
       "        vertical-align: top;\n",
       "    }\n",
       "\n",
       "    .dataframe thead th {\n",
       "        text-align: right;\n",
       "    }\n",
       "</style>\n",
       "<table border=\"1\" class=\"dataframe\">\n",
       "  <thead>\n",
       "    <tr style=\"text-align: right;\">\n",
       "      <th></th>\n",
       "      <th>formula</th>\n",
       "      <th>training_r2</th>\n",
       "      <th>testing_r2</th>\n",
       "      <th>cv_shrinkage</th>\n",
       "    </tr>\n",
       "  </thead>\n",
       "  <tbody>\n",
       "    <tr>\n",
       "      <th>sr_total</th>\n",
       "      <td>NIHSS=2.96077+0.00801017*x1</td>\n",
       "      <td>0.370487</td>\n",
       "      <td>0.218843</td>\n",
       "      <td>40.931060</td>\n",
       "    </tr>\n",
       "    <tr>\n",
       "      <th>sr_pos</th>\n",
       "      <td>NIHSS=2.81843+0.00714283*x1</td>\n",
       "      <td>0.373297</td>\n",
       "      <td>0.249997</td>\n",
       "      <td>33.030013</td>\n",
       "    </tr>\n",
       "    <tr>\n",
       "      <th>sr_neg</th>\n",
       "      <td>NIHSS=3.90282+-0.0158193*x1</td>\n",
       "      <td>0.095071</td>\n",
       "      <td>0.157486</td>\n",
       "      <td>-65.651668</td>\n",
       "    </tr>\n",
       "    <tr>\n",
       "      <th>sr_total_avg</th>\n",
       "      <td>NIHSS=3.22022+46.2927174*x1</td>\n",
       "      <td>0.132896</td>\n",
       "      <td>0.016720</td>\n",
       "      <td>87.418978</td>\n",
       "    </tr>\n",
       "    <tr>\n",
       "      <th>sr_pos_avg</th>\n",
       "      <td>NIHSS=1.04315+69.5060282*x1</td>\n",
       "      <td>0.190444</td>\n",
       "      <td>0.080272</td>\n",
       "      <td>57.850086</td>\n",
       "    </tr>\n",
       "    <tr>\n",
       "      <th>sr_neg_avg</th>\n",
       "      <td>NIHSS=4.56698+-1.9739547*x1</td>\n",
       "      <td>0.000073</td>\n",
       "      <td>-0.008981</td>\n",
       "      <td>12390.774498</td>\n",
       "    </tr>\n",
       "    <tr>\n",
       "      <th>sr_sp_corr</th>\n",
       "      <td>NIHSS=2.91147+5.47093157*x1</td>\n",
       "      <td>0.156068</td>\n",
       "      <td>0.031855</td>\n",
       "      <td>79.588860</td>\n",
       "    </tr>\n",
       "  </tbody>\n",
       "</table>\n",
       "</div>"
      ],
      "text/plain": [
       "                                  formula  training_r2  testing_r2  \\\n",
       "sr_total      NIHSS=2.96077+0.00801017*x1     0.370487    0.218843   \n",
       "sr_pos        NIHSS=2.81843+0.00714283*x1     0.373297    0.249997   \n",
       "sr_neg        NIHSS=3.90282+-0.0158193*x1     0.095071    0.157486   \n",
       "sr_total_avg  NIHSS=3.22022+46.2927174*x1     0.132896    0.016720   \n",
       "sr_pos_avg    NIHSS=1.04315+69.5060282*x1     0.190444    0.080272   \n",
       "sr_neg_avg    NIHSS=4.56698+-1.9739547*x1     0.000073   -0.008981   \n",
       "sr_sp_corr    NIHSS=2.91147+5.47093157*x1     0.156068    0.031855   \n",
       "\n",
       "              cv_shrinkage  \n",
       "sr_total         40.931060  \n",
       "sr_pos           33.030013  \n",
       "sr_neg          -65.651668  \n",
       "sr_total_avg     87.418978  \n",
       "sr_pos_avg       57.850086  \n",
       "sr_neg_avg    12390.774498  \n",
       "sr_sp_corr       79.588860  "
      ]
     },
     "execution_count": 17,
     "metadata": {},
     "output_type": "execute_result"
    }
   ],
   "source": [
    "sr_var_output"
   ]
  },
  {
   "cell_type": "code",
   "execution_count": null,
   "metadata": {},
   "outputs": [],
   "source": []
  }
 ],
 "metadata": {
  "kernelspec": {
   "display_name": "Machine-Learning",
   "language": "python",
   "name": "ml"
  },
  "language_info": {
   "codemirror_mode": {
    "name": "ipython",
    "version": 3
   },
   "file_extension": ".py",
   "mimetype": "text/x-python",
   "name": "python",
   "nbconvert_exporter": "python",
   "pygments_lexer": "ipython3",
   "version": "3.8.5"
  }
 },
 "nbformat": 4,
 "nbformat_minor": 4
}
