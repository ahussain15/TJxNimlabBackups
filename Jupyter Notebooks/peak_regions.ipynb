{
 "cells": [
  {
   "cell_type": "code",
   "execution_count": 1,
   "metadata": {},
   "outputs": [],
   "source": [
    "import numpy as np\n",
    "import nibabel as ni\n",
    "import pandas as pd"
   ]
  },
  {
   "cell_type": "code",
   "execution_count": 22,
   "metadata": {},
   "outputs": [],
   "source": [
    "vlsm = ni.load(\"vlsm_mgh.nii\")\n",
    "vlsm_data = np.array(vlsm.dataobj)"
   ]
  },
  {
   "cell_type": "code",
   "execution_count": 23,
   "metadata": {},
   "outputs": [],
   "source": [
    "lnm = ni.load(\"mgh_palm/_vox_tstat.nii\")\n",
    "lnm_data = np.array(lnm.dataobj)"
   ]
  },
  {
   "cell_type": "code",
   "execution_count": 24,
   "metadata": {},
   "outputs": [],
   "source": [
    "wm = ni.load(\"mgh_palm_dcn/_vox_tstat.nii\")\n",
    "wm_data = np.array(wm.dataobj)"
   ]
  },
  {
   "cell_type": "code",
   "execution_count": 5,
   "metadata": {},
   "outputs": [],
   "source": [
    "total_len = len(vlsm_data)*len(vlsm_data[0])*len(vlsm_data[0, 0])\n",
    "per10 = int(total_len*0.1)\n",
    "per5 = int(total_len*0.05)\n",
    "per1 = int(total_len*0.01)"
   ]
  },
  {
   "cell_type": "code",
   "execution_count": 13,
   "metadata": {},
   "outputs": [],
   "source": [
    "affine = vlsm.affine"
   ]
  },
  {
   "cell_type": "code",
   "execution_count": 7,
   "metadata": {},
   "outputs": [],
   "source": [
    "def change_voxels(zeros, sorted_list):\n",
    "    for i in range(len(sorted_list)):\n",
    "        x = sorted_list[i][1][0]\n",
    "        y = sorted_list[i][1][1]\n",
    "        z = sorted_list[i][1][2]\n",
    "        zeros[x, y, z] = sorted_list[i][0]\n",
    "    return zeros"
   ]
  },
  {
   "cell_type": "code",
   "execution_count": 22,
   "metadata": {},
   "outputs": [],
   "source": [
    "def peak_regions_imgs(data, mode):\n",
    "    voxels = []\n",
    "    for x in range(len(data)):\n",
    "        for y in range(len(data[x])):\n",
    "            for z in range(len(data[x, y])):\n",
    "                voxels.append((data[x, y, z], tuple([x, y, z])))\n",
    "    sorted_voxels = sorted(voxels, reverse=True)\n",
    "    per10_list = sorted_voxels[0:per10]\n",
    "    per5_list = sorted_voxels[0:per5]\n",
    "    per1_list = sorted_voxels[0:per1]\n",
    "    arr = np.zeros(tuple([len(data), len(data[0]), len(data[0, 0])]))\n",
    "    arr_per10 = change_voxels(arr, per10_list)\n",
    "    arr_per5 = change_voxels(arr, per5_list)\n",
    "    arr_per1 = change_voxels(arr, per1_list)\n",
    "    img_per10 = ni.nifti1.Nifti1Image(arr_per10, affine=affine)\n",
    "    img_per5 = ni.nifti1.Nifti1Image(arr_per5, affine=affine)\n",
    "    img_per1 = ni.nifti1.Nifti1Image(arr_per1, affine=affine)\n",
    "#     ni.save(img_per10, \"peak_regions/\"+mode+\"_per10.nii\")\n",
    "#     ni.save(img_per5, \"peak_regions/\"+mode+\"_per5.nii\")\n",
    "#     ni.save(img_per1, \"peak_regions/\"+mode+\"_per1.nii\")"
   ]
  },
  {
   "cell_type": "code",
   "execution_count": 23,
   "metadata": {},
   "outputs": [],
   "source": [
    "peak_regions_imgs(vlsm_data, \"vlsm\")\n",
    "peak_regions_imgs(lnm_data, \"lnm\")\n",
    "peak_regions_imgs(wm_data, \"wm\")"
   ]
  },
  {
   "cell_type": "code",
   "execution_count": 28,
   "metadata": {},
   "outputs": [],
   "source": [
    "def peak_regions_nonzeros(data, mode):\n",
    "    voxels = []\n",
    "    total_len = 0\n",
    "    for x in range(len(data)):\n",
    "        for y in range(len(data[x])):\n",
    "            for z in range(len(data[x, y])):\n",
    "                voxels.append((data[x, y, z], tuple([x, y, z])))\n",
    "                if data[x, y, z] > 0:\n",
    "                    total_len += 1\n",
    "    sorted_voxels = sorted(voxels, reverse=True)\n",
    "    per10 = int(total_len*0.1)\n",
    "    per5 = int(total_len*0.05)\n",
    "    per1 = int(total_len*0.01)\n",
    "    per10_list = sorted_voxels[0:per10]\n",
    "    per5_list = sorted_voxels[0:per5]\n",
    "    per1_list = sorted_voxels[0:per1]\n",
    "    arr = np.zeros(tuple([len(data), len(data[0]), len(data[0, 0])]))\n",
    "    arr_per10 = change_voxels(arr, per10_list)\n",
    "    arr_per5 = change_voxels(arr, per5_list)\n",
    "    arr_per1 = change_voxels(arr, per1_list)\n",
    "    img_per10 = ni.nifti1.Nifti1Image(arr_per10, affine=affine)\n",
    "    img_per5 = ni.nifti1.Nifti1Image(arr_per5, affine=affine)\n",
    "    img_per1 = ni.nifti1.Nifti1Image(arr_per1, affine=affine)\n",
    "#     ni.save(img_per10, \"peak_regions/\"+mode+\"_nz_per10.nii\")\n",
    "#     ni.save(img_per5, \"peak_regions/\"+mode+\"_nz_per5.nii\")\n",
    "#     ni.save(img_per1, \"peak_regions/\"+mode+\"_nz_per1.nii\")"
   ]
  },
  {
   "cell_type": "code",
   "execution_count": 29,
   "metadata": {},
   "outputs": [],
   "source": [
    "peak_regions_nonzeros(vlsm_data, \"vlsm\")\n",
    "peak_regions_nonzeros(lnm_data, \"lnm\")\n",
    "peak_regions_nonzeros(wm_data, \"wm\")"
   ]
  },
  {
   "cell_type": "code",
   "execution_count": 28,
   "metadata": {},
   "outputs": [],
   "source": [
    "def peak_regions_n(data, mode, n):\n",
    "    voxels = []\n",
    "    for x in range(len(data)):\n",
    "        for y in range(len(data[x])):\n",
    "            for z in range(len(data[x, y])):\n",
    "                voxels.append((data[x, y, z], tuple([x, y, z])))\n",
    "    sorted_voxels = sorted(voxels, reverse=True)\n",
    "    list_n = sorted_voxels[0:n]\n",
    "    arr = np.zeros(tuple([len(data), len(data[0]), len(data[0, 0])]))\n",
    "    arr_n = change_voxels(arr, list_n)\n",
    "    img_n = ni.nifti1.Nifti1Image(arr_n, affine=affine)\n",
    "    ni.save(img_n, \"peak_regions/mgh_\"+mode+\"_\"+str(n)+\"_.nii\")"
   ]
  },
  {
   "cell_type": "code",
   "execution_count": 29,
   "metadata": {},
   "outputs": [],
   "source": [
    "peak_regions_n(vlsm_data, \"vlsm\", 10000)\n",
    "peak_regions_n(lnm_data, \"lnm\", 10000)\n",
    "peak_regions_n(wm_data, \"wm\", 10000)\n",
    "peak_regions_n(vlsm_data, \"vlsm\", 5000)\n",
    "peak_regions_n(lnm_data, \"lnm\", 5000)\n",
    "peak_regions_n(wm_data, \"wm\", 5000)"
   ]
  },
  {
   "cell_type": "code",
   "execution_count": 25,
   "metadata": {},
   "outputs": [],
   "source": [
    "def peak_overlap(n):\n",
    "    vlsm_voxels = []\n",
    "    lnm_voxels = []\n",
    "    wm_voxels = []\n",
    "    for x in range(len(vlsm_data)):\n",
    "        for y in range(len(vlsm_data[x])):\n",
    "            for z in range(len(vlsm_data[x, y])):\n",
    "                vlsm_voxels.append(((vlsm_data[x, y, z]), tuple([x, y, z])))\n",
    "                lnm_voxels.append(((lnm_data[x, y, z]), tuple([x, y, z])))\n",
    "                wm_voxels.append(((wm_data[x, y, z]), tuple([x, y, z])))\n",
    "    sorted_vlsm = sorted(vlsm_voxels, reverse=True)\n",
    "    sorted_lnm = sorted(lnm_voxels, reverse=True)\n",
    "    sorted_wm = sorted(wm_voxels, reverse=True)\n",
    "    vlsm_list = sorted_vlsm[0:n]\n",
    "    lnm_list = sorted_lnm[0:n]\n",
    "    wm_list = sorted_wm[0:n]\n",
    "    vlsm_set = set([sorted_vlsm[k][1] for k in range(n)])\n",
    "    lnm_set = set([sorted_lnm[k][1] for k in range(n)])\n",
    "    wm_set = set([sorted_wm[k][1] for k in range(n)])\n",
    "    arr = np.zeros(tuple([len(vlsm_data), len(vlsm_data[0]), len(vlsm_data[0, 0])]))\n",
    "    for x in range(len(vlsm_data)):\n",
    "        for y in range(len(vlsm_data[x])):\n",
    "            for z in range(len(vlsm_data[x, y])):\n",
    "                if tuple([x, y, z]) in vlsm_set and tuple([x, y, z]) in lnm_set and tuple([x, y, z]) in wm_set:\n",
    "                    arr[x, y, z] = 3\n",
    "                elif (tuple([x, y, z]) in vlsm_set and tuple([x, y, z]) in lnm_set) or (tuple([x, y, z]) in vlsm_set and tuple([x, y, z]) in wm_set) or (tuple([x, y, z]) in wm_set and tuple([x, y, z]) in lnm_set):\n",
    "                    arr[x, y, z] = 2\n",
    "                elif tuple([x, y, z]) in vlsm_set or tuple([x, y, z]) in lnm_set or tuple([x, y, z]) in wm_set:\n",
    "                    arr[x, y, z] = 1\n",
    "    img = ni.nifti1.Nifti1Image(arr, affine=affine)\n",
    "    ni.save(img, \"peak_regions/mgh_overlap_\"+str(n)+\".nii\")"
   ]
  },
  {
   "cell_type": "code",
   "execution_count": 26,
   "metadata": {},
   "outputs": [],
   "source": [
    "peak_overlap(10000)"
   ]
  },
  {
   "cell_type": "code",
   "execution_count": 27,
   "metadata": {},
   "outputs": [],
   "source": [
    "peak_overlap(5000)"
   ]
  },
  {
   "cell_type": "code",
   "execution_count": 9,
   "metadata": {},
   "outputs": [],
   "source": [
    "peak_overlap(1000)"
   ]
  },
  {
   "cell_type": "code",
   "execution_count": null,
   "metadata": {},
   "outputs": [],
   "source": []
  }
 ],
 "metadata": {
  "kernelspec": {
   "display_name": "Physics",
   "language": "python",
   "name": "physics"
  },
  "language_info": {
   "codemirror_mode": {
    "name": "ipython",
    "version": 3
   },
   "file_extension": ".py",
   "mimetype": "text/x-python",
   "name": "python",
   "nbconvert_exporter": "python",
   "pygments_lexer": "ipython3",
   "version": "3.8.5"
  }
 },
 "nbformat": 4,
 "nbformat_minor": 4
}
