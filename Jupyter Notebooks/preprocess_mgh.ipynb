{
 "cells": [
  {
   "cell_type": "code",
   "execution_count": 1,
   "metadata": {},
   "outputs": [],
   "source": [
    "import nibabel as ni\n",
    "import numpy as np\n",
    "import pandas as pd\n",
    "import nilearn.image as nli"
   ]
  },
  {
   "cell_type": "code",
   "execution_count": 2,
   "metadata": {},
   "outputs": [],
   "source": [
    "dataset = \"mgh\""
   ]
  },
  {
   "cell_type": "code",
   "execution_count": 3,
   "metadata": {},
   "outputs": [],
   "source": [
    "df = pd.read_csv(dataset+\"_vars_cv.csv\")\n",
    "subjects = set(int(k) for k in df[\"subject\"])"
   ]
  },
  {
   "cell_type": "code",
   "execution_count": 4,
   "metadata": {},
   "outputs": [],
   "source": [
    "affine = ni.load(\"mgh_lesions/subject001.nii\").affine"
   ]
  },
  {
   "cell_type": "code",
   "execution_count": 5,
   "metadata": {},
   "outputs": [
    {
     "name": "stdout",
     "output_type": "stream",
     "text": [
      "(2.0, 2.0, 2.0)\n"
     ]
    }
   ],
   "source": [
    "print(ni.load(\"mgh_lesions_binary_an/subject001_an.nii\").header.get_zooms())"
   ]
  },
  {
   "cell_type": "code",
   "execution_count": 6,
   "metadata": {},
   "outputs": [],
   "source": [
    "for s in range(1, 491):\n",
    "    if s not in subjects:\n",
    "        continue\n",
    "    if s < 10:\n",
    "        num = \"00\"+str(s)\n",
    "    elif s < 100:\n",
    "        num = \"0\"+str(s)\n",
    "    else:\n",
    "        num = str(s)\n",
    "    file = ni.load(\"mgh_lesions_bin_an_reslice/\"+num+\".nii\")\n",
    "    dat = np.array(file.dataobj)\n",
    "#     near_int = np.zeros((len(dat), len(dat[0]), len(dat[0, 0])))\n",
    "    all_noth = np.zeros((len(dat), len(dat[0]), len(dat[0, 0])))\n",
    "    for x in range(len(dat)):\n",
    "        for y in range(len(dat[x])):\n",
    "            for z in range(len(dat[x, y])):\n",
    "                if dat[x, y, z] > 0:\n",
    "#                     near_int[x, y, z] = round(dat[x, y, z])\n",
    "                    all_noth[x, y, z] = 1\n",
    "#     new_ni = ni.Nifti1Image(near_int, affine=affine)\n",
    "    new_an = ni.Nifti1Image(all_noth, affine=new_affine)\n",
    "#     ni.save(new_ni, \"mgh_lesions_binary_ni/subject\"+num+\"_ni.nii\")\n",
    "    ni.save(new_an, \"mgh_lesions_bin_an_reslice/\"+num+\".nii\")"
   ]
  },
  {
   "cell_type": "code",
   "execution_count": 9,
   "metadata": {},
   "outputs": [
    {
     "name": "stdout",
     "output_type": "stream",
     "text": [
      "91,109,91\n"
     ]
    }
   ],
   "source": [
    "ori = ni.load(\"mgh_lesions/subject001.nii\")\n",
    "ori_dat = np.array(ori.dataobj)\n",
    "print(str(len(ori_dat))+\",\"+str(len(ori_dat[0]))+\",\"+str(len(ori_dat[0, 0])))"
   ]
  },
  {
   "cell_type": "code",
   "execution_count": 18,
   "metadata": {},
   "outputs": [],
   "source": [
    "new_affine = np.diag((1, 1, 1))"
   ]
  },
  {
   "cell_type": "code",
   "execution_count": 19,
   "metadata": {},
   "outputs": [],
   "source": [
    "for s in range(1, 491):\n",
    "    if s not in subjects:\n",
    "        continue\n",
    "    if s < 10:\n",
    "        num = \"00\"+str(s)\n",
    "    elif s < 100:\n",
    "        num = \"0\"+str(s)\n",
    "    else:\n",
    "        num = str(s)\n",
    "    file = ni.load(\"mgh_lesions_binary_an/subject\"+num+\"_an.nii\")\n",
    "    resample = nli.resample_img(file, target_affine=new_affine, interpolation=\"linear\")\n",
    "    ni.save(resample, \"mgh_lesions_bin_an_reslice/\"+num+\".nii\")"
   ]
  },
  {
   "cell_type": "code",
   "execution_count": 17,
   "metadata": {},
   "outputs": [],
   "source": [
    "ex = ni.load(\"MNI152.nii\")\n",
    "new_affine = ex.affine\n",
    "dat = ex.dataobj"
   ]
  },
  {
   "cell_type": "code",
   "execution_count": 18,
   "metadata": {},
   "outputs": [
    {
     "name": "stdout",
     "output_type": "stream",
     "text": [
      "(1.0, 1.0, 1.0)\n"
     ]
    }
   ],
   "source": [
    "print(ex.header.get_zooms())"
   ]
  },
  {
   "cell_type": "code",
   "execution_count": null,
   "metadata": {},
   "outputs": [],
   "source": []
  }
 ],
 "metadata": {
  "kernelspec": {
   "display_name": "Machine-Learning",
   "language": "python",
   "name": "ml"
  },
  "language_info": {
   "codemirror_mode": {
    "name": "ipython",
    "version": 3
   },
   "file_extension": ".py",
   "mimetype": "text/x-python",
   "name": "python",
   "nbconvert_exporter": "python",
   "pygments_lexer": "ipython3",
   "version": "3.8.5"
  }
 },
 "nbformat": 4,
 "nbformat_minor": 4
}
