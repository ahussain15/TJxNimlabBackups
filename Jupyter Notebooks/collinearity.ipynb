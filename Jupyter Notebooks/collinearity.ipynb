{
 "cells": [
  {
   "cell_type": "code",
   "execution_count": 1,
   "metadata": {},
   "outputs": [],
   "source": [
    "import pandas as pd\n",
    "import matplotlib.pyplot as plt\n",
    "import statsmodels.api as sm\n",
    "import statsmodels.formula.api as smf\n",
    "from statsmodels.stats.outliers_influence import variance_inflation_factor\n",
    "import numpy as np\n",
    "import seaborn as sns"
   ]
  },
  {
   "cell_type": "code",
   "execution_count": 2,
   "metadata": {},
   "outputs": [],
   "source": [
    "pd.set_option(\"display.max_rows\", None)\n",
    "pd.set_option(\"display.max_columns\", None)\n",
    "pd.set_option(\"display.width\", None)\n",
    "pd.set_option(\"display.max_colwidth\", None)"
   ]
  },
  {
   "cell_type": "code",
   "execution_count": 24,
   "metadata": {},
   "outputs": [],
   "source": [
    "df = pd.read_csv(\"year_vars.csv\")"
   ]
  },
  {
   "cell_type": "code",
   "execution_count": 25,
   "metadata": {},
   "outputs": [],
   "source": [
    "df[\"l_size_x_vlsm_tot_avg\"] = df[\"l_size\"] * df[\"vlsm_tot_avg\"]\n",
    "df[\"l_size_x_lnm_pos_avg\"] = df[\"l_size\"] * df[\"lnm_pos_avg\"]\n",
    "df[\"l_size_x_lnm_neg_avg\"] = df[\"l_size\"] * df[\"lnm_neg_avg\"]\n",
    "df[\"l_size_x_sp_corr_lnm\"] = df[\"l_size\"] * df[\"sp_corr_lnm\"]\n",
    "df[\"l_size_x_wm_avg\"] = df[\"l_size\"] * df[\"wm_avg\"]"
   ]
  },
  {
   "cell_type": "code",
   "execution_count": 15,
   "metadata": {},
   "outputs": [],
   "source": [
    "var_names = [\"lnm_tot\", \"lnm_pos\", \"lnm_neg\", \"vlsm_tot\", \"lnm_tot_avg\", \"lnm_pos_avg\", \"lnm_neg_avg\", \"vlsm_tot_avg\", \"vlsm_pos_avg\", \"sp_corr_lnm\", \"sp_corr_vlsm\", \"l_size\", \"wm_total\", \"wm_avg\", \"sp_corr_wm\"] #sp_corr_vlsm and sp_corr_lnm for sp. corr vars"
   ]
  },
  {
   "cell_type": "code",
   "execution_count": 6,
   "metadata": {},
   "outputs": [],
   "source": [
    "all_vars = \"+\".join(var_names)\n",
    "all_vars\n",
    "model = smf.ols(formula= str(\"nih~\"+all_vars), data=df).fit()\n",
    "# print(model.summary())\n",
    "# print()"
   ]
  },
  {
   "cell_type": "code",
   "execution_count": 7,
   "metadata": {},
   "outputs": [],
   "source": [
    "vif = pd.DataFrame()\n",
    "X = df[var_names]\n",
    "vif[\"feature\"] = X.columns\n",
    "vif[\"VIF\"] = [variance_inflation_factor(X.values, i) for i in range(len(X.columns))] \n",
    "# print(vif)"
   ]
  },
  {
   "cell_type": "code",
   "execution_count": 27,
   "metadata": {},
   "outputs": [],
   "source": [
    "plt.rcParams['figure.figsize'] = [12, 6]"
   ]
  },
  {
   "cell_type": "code",
   "execution_count": 8,
   "metadata": {},
   "outputs": [],
   "source": [
    "df_corr = df[var_names]\n",
    "#sns.heatmap(df_corr.corr(), vmin=-1, vmax=1, cmap=\"coolwarm\", annot=True)"
   ]
  },
  {
   "cell_type": "code",
   "execution_count": 26,
   "metadata": {},
   "outputs": [
    {
     "name": "stdout",
     "output_type": "stream",
     "text": [
      "        feature        VIF\n",
      "0        l_size   2.403829\n",
      "1  vlsm_tot_avg   2.525925\n",
      "2   lnm_pos_avg  12.357869\n",
      "3   lnm_neg_avg   3.051989\n",
      "4   sp_corr_lnm   5.609271\n",
      "5        wm_avg   4.659060\n"
     ]
    }
   ],
   "source": [
    "simple = [\"l_size\",\"vlsm_tot_avg\",\"lnm_pos_avg\",\"lnm_neg_avg\",\"sp_corr_lnm\", \"wm_avg\"]\n",
    "vif = pd.DataFrame()\n",
    "X = df[simple]\n",
    "vif[\"feature\"] = X.columns\n",
    "vif[\"VIF\"] = [variance_inflation_factor(X.values, i) for i in range(len(X.columns))] \n",
    "print(vif)"
   ]
  },
  {
   "cell_type": "code",
   "execution_count": 27,
   "metadata": {},
   "outputs": [
    {
     "name": "stdout",
     "output_type": "stream",
     "text": [
      "                  feature         VIF\n",
      "0                  l_size   62.016049\n",
      "1            vlsm_tot_avg    3.522668\n",
      "2             lnm_pos_avg   18.955814\n",
      "3             lnm_neg_avg    5.026447\n",
      "4             sp_corr_lnm   12.840214\n",
      "5                  wm_avg    6.169870\n",
      "6   l_size_x_vlsm_tot_avg    5.917417\n",
      "7    l_size_x_lnm_pos_avg  104.398425\n",
      "8    l_size_x_lnm_neg_avg   23.825410\n",
      "9    l_size_x_sp_corr_lnm   13.522698\n",
      "10        l_size_x_wm_avg   45.136140\n"
     ]
    }
   ],
   "source": [
    "size_multi = simple+[\"l_size_x_vlsm_tot_avg\",\"l_size_x_lnm_pos_avg\",\"l_size_x_lnm_neg_avg\",\"l_size_x_sp_corr_lnm\",\"l_size_x_wm_avg\"]\n",
    "vif = pd.DataFrame()\n",
    "X = df[size_multi]\n",
    "vif[\"feature\"] = X.columns\n",
    "vif[\"VIF\"] = [variance_inflation_factor(X.values, i) for i in range(len(X.columns))] \n",
    "print(vif)"
   ]
  },
  {
   "cell_type": "code",
   "execution_count": 28,
   "metadata": {},
   "outputs": [
    {
     "name": "stdout",
     "output_type": "stream",
     "text": [
      "                 feature         VIF\n",
      "0                 l_size   94.845723\n",
      "1           vlsm_tot_avg    3.356432\n",
      "2            lnm_pos_avg   19.456274\n",
      "3            lnm_neg_avg    3.722120\n",
      "4            sp_corr_lnm   12.767661\n",
      "5                 wm_avg    5.947777\n",
      "6               vlsm_tot    6.393221\n",
      "7                lnm_pos  115.612050\n",
      "8                lnm_neg   17.229488\n",
      "9               wm_total   40.447844\n",
      "10  l_size_x_sp_corr_lnm   35.745679\n"
     ]
    }
   ],
   "source": [
    "totals = simple+[\"vlsm_tot\",\"lnm_pos\",\"lnm_neg\",\"wm_total\",\"l_size_x_sp_corr_lnm\"]\n",
    "vif = pd.DataFrame()\n",
    "X = df[totals]\n",
    "vif[\"feature\"] = X.columns\n",
    "vif[\"VIF\"] = [variance_inflation_factor(X.values, i) for i in range(len(X.columns))] \n",
    "print(vif)"
   ]
  },
  {
   "cell_type": "code",
   "execution_count": null,
   "metadata": {},
   "outputs": [],
   "source": []
  }
 ],
 "metadata": {
  "kernelspec": {
   "display_name": "Machine-Learning",
   "language": "python",
   "name": "ml"
  },
  "language_info": {
   "codemirror_mode": {
    "name": "ipython",
    "version": 3
   },
   "file_extension": ".py",
   "mimetype": "text/x-python",
   "name": "python",
   "nbconvert_exporter": "python",
   "pygments_lexer": "ipython3",
   "version": "3.8.5"
  }
 },
 "nbformat": 4,
 "nbformat_minor": 4
}
