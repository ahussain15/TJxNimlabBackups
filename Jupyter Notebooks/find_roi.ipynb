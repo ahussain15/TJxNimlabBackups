{
 "cells": [
  {
   "cell_type": "code",
   "execution_count": 1,
   "metadata": {},
   "outputs": [],
   "source": [
    "import nibabel as ni\n",
    "import numpy as np"
   ]
  },
  {
   "cell_type": "code",
   "execution_count": 2,
   "metadata": {},
   "outputs": [],
   "source": [
    "pmap = np.array(ni.load(\"template_palm/_vox_tstat_fwep.nii\").dataobj)"
   ]
  },
  {
   "cell_type": "code",
   "execution_count": 3,
   "metadata": {},
   "outputs": [
    {
     "name": "stdout",
     "output_type": "stream",
     "text": [
      "25, 52, 33\n",
      "25, 53, 32\n",
      "25, 54, 31\n",
      "25, 54, 32\n",
      "25, 55, 31\n",
      "25, 56, 30\n",
      "25, 57, 29\n",
      "26, 51, 34\n",
      "26, 51, 35\n",
      "26, 52, 33\n",
      "26, 52, 34\n",
      "26, 53, 32\n",
      "26, 53, 33\n",
      "26, 54, 32\n",
      "26, 55, 31\n",
      "26, 56, 30\n",
      "26, 56, 31\n",
      "26, 57, 29\n",
      "26, 57, 30\n",
      "26, 58, 29\n",
      "26, 59, 28\n",
      "26, 60, 28\n",
      "27, 56, 31\n",
      "27, 57, 30\n",
      "27, 58, 30\n",
      "27, 59, 29\n",
      "27, 60, 29\n",
      "27, 61, 28\n",
      "28, 63, 30\n",
      "28, 64, 30\n",
      "30, 63, 29\n",
      "30, 64, 29\n",
      "30, 65, 29\n",
      "58, 65, 28\n",
      "59, 64, 28\n",
      "59, 64, 29\n",
      "59, 65, 29\n",
      "60, 64, 29\n",
      "60, 65, 29\n",
      "62, 59, 31\n",
      "62, 59, 32\n",
      "62, 60, 30\n",
      "62, 60, 31\n",
      "62, 60, 32\n",
      "62, 61, 30\n",
      "62, 61, 31\n",
      "62, 61, 32\n",
      "62, 62, 30\n",
      "62, 62, 31\n",
      "62, 62, 32\n",
      "62, 63, 30\n",
      "62, 63, 31\n",
      "62, 63, 32\n",
      "62, 64, 30\n",
      "62, 64, 31\n",
      "62, 64, 32\n",
      "62, 65, 30\n",
      "62, 65, 31\n",
      "63, 54, 32\n",
      "63, 55, 31\n",
      "63, 56, 30\n",
      "63, 56, 31\n",
      "63, 57, 30\n",
      "63, 57, 31\n",
      "63, 58, 29\n",
      "63, 58, 30\n",
      "63, 59, 29\n",
      "63, 59, 30\n",
      "63, 60, 29\n",
      "63, 60, 30\n",
      "63, 60, 31\n",
      "63, 61, 28\n",
      "63, 61, 29\n",
      "63, 61, 30\n",
      "63, 61, 31\n",
      "63, 62, 28\n",
      "63, 62, 29\n",
      "63, 62, 30\n",
      "64, 53, 32\n",
      "64, 54, 31\n",
      "64, 55, 30\n",
      "64, 55, 31\n",
      "64, 56, 30\n",
      "64, 57, 29\n",
      "64, 58, 29\n",
      "64, 59, 28\n",
      "64, 59, 29\n",
      "64, 60, 28\n",
      "65, 55, 30\n"
     ]
    }
   ],
   "source": [
    "for x in range(len(pmap)):\n",
    "    for y in range(len(pmap[x])):\n",
    "        for z in range(len(pmap[x, y])):\n",
    "            if pmap[x, y, z] >= .99999:\n",
    "                print(str(x)+\", \"+str(y)+\", \"+str(z))"
   ]
  },
  {
   "cell_type": "code",
   "execution_count": null,
   "metadata": {},
   "outputs": [],
   "source": []
  }
 ],
 "metadata": {
  "kernelspec": {
   "display_name": "Machine-Learning",
   "language": "python",
   "name": "ml"
  },
  "language_info": {
   "codemirror_mode": {
    "name": "ipython",
    "version": 3
   },
   "file_extension": ".py",
   "mimetype": "text/x-python",
   "name": "python",
   "nbconvert_exporter": "python",
   "pygments_lexer": "ipython3",
   "version": "3.8.5"
  }
 },
 "nbformat": 4,
 "nbformat_minor": 4
}
