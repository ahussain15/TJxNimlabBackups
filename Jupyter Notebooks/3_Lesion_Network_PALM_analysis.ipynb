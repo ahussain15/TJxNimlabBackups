{
 "cells": [
  {
   "cell_type": "markdown",
   "metadata": {},
   "source": [
    "# Perform a Lesion Network Mapping GLM using FSL's PALM\n",
    "\n",
    "### Authors: Alexander Cohen, Christopher Lin\n",
    "\n",
    "Use this to run/test a statistical model (e.g., regression or T-tests) on lesion network maps (or lesions alone!) using PALM, potentially taking into account specific covariates of interest and/or nuisance regressors.\n",
    "\n",
    "Notes:\n",
    "- To best use this notebook, you should be familar with GLM design and Contrast Matrix design. See this webpage to get started:\n",
    "[FSL's GLM page](https://fsl.fmrib.ox.ac.uk/fsl/fslwiki/GLM)\n",
    "- This notebook is a combination of the old PALM Notebooks and Christopher's palm_analysis notebooks (does the same thing) and requires the NIMLAB Python 3 environment as a kernel. Directions are on the [NIMLAB software_env README.md](https://github.com/nimlab/software_env)\n",
    "- You will need a csv file that provides the paths to your fcMaps, usually created from the [Preprocessing](https://github.com/nimlab/templates/blob/master/py3_notebooks/1_Preprocessing_LesionQA_fcGen_XNATupload.ipynb) or [xnat_grabber](https://github.com/nimlab/templates/blob/master/xnat_grabber.ipynb) notebooks.\n",
    "- Christopher wrote up a really nice description of how to modify code to set up your design matrix within the notebook here: [PALM-Analysis](https://github.com/nimlab/documentation/wiki/PALM-Analyses)\n",
    "- I would also recommend reviewing Fred's [slides](https://github.com/nimlab/documentation/blob/master/presentations/presentation_palm_multidataset_analyses_labmeeting_13.4.2020.pdf) from his May 2020 lab meeting For details regarding the difference between implementing a random effects and fixed effects analysis and use of exchangeability blocks"
   ]
  },
  {
   "cell_type": "code",
   "execution_count": 1,
   "metadata": {},
   "outputs": [],
   "source": [
    "## Packages and environmental settings:\n",
    "##Packages:\n",
    "import os\n",
    "import sys\n",
    "import shutil\n",
    "import numpy as np\n",
    "import pandas as pd\n",
    "from tqdm import tqdm\n",
    "from matplotlib import pyplot as plt\n",
    "from nilearn import image\n",
    "from nimlab import software as sf\n",
    "%matplotlib inline"
   ]
  },
  {
   "cell_type": "code",
   "execution_count": 2,
   "metadata": {},
   "outputs": [],
   "source": [
    "# pd.set_option(\"display.max_rows\", None)\n",
    "# pd.set_option(\"display.max_columns\", None)\n",
    "# pd.set_option(\"display.width\", None)\n",
    "# pd.set_option(\"display.max_colwidth\", None)"
   ]
  },
  {
   "cell_type": "code",
   "execution_count": 2,
   "metadata": {},
   "outputs": [
    {
     "name": "stdout",
     "output_type": "stream",
     "text": [
      "env: PATH=\"/usr/local/sbin:/usr/local/bin:/usr/sbin:/usr/bin:/sbin:/bin:/snap/bin:/usr/lib/fsl/5.0:/cluster/2021ahussain/usr/share/fsl:/cluster/2021ahussain/palm:/cluster/2021ahussain/.local/bin:/cluster/2021ahussain/bin:/cluster/2021ahussain/usr/share/fsl/5.0:/cluster/2021ahussain/palm:/cluster/2021ahussain/usr/share/fsl/5.0:palm\"\n"
     ]
    }
   ],
   "source": [
    "%env PATH=\"/usr/local/sbin:/usr/local/bin:/usr/sbin:/usr/bin:/sbin:/bin:/snap/bin:/usr/lib/fsl/5.0:/cluster/2021ahussain/usr/share/fsl:/cluster/2021ahussain/palm:/cluster/2021ahussain/.local/bin:/cluster/2021ahussain/bin:/cluster/2021ahussain/usr/share/fsl/5.0:/cluster/2021ahussain/palm:/cluster/2021ahussain/usr/share/fsl/5.0:palm\""
   ]
  },
  {
   "cell_type": "markdown",
   "metadata": {},
   "source": [
    "# Input/Output Setup"
   ]
  },
  {
   "cell_type": "markdown",
   "metadata": {},
   "source": [
    "### 1. Provide your email address for future reference:"
   ]
  },
  {
   "cell_type": "code",
   "execution_count": 4,
   "metadata": {},
   "outputs": [],
   "source": [
    "# Enter your email address here in quotes:\n",
    "creator_email = \"alexander.cohen2@childrens.harvard.edu\""
   ]
  },
  {
   "cell_type": "markdown",
   "metadata": {},
   "source": [
    "### 2. Where are your data? and where do you want the results to go?\n",
    "NOTES: \n",
    "- `dataset_csv` is the csv file created from the `Preprocessing` or `xnat_grabber` notebooks that points to your Lesions and fcMaps (will also work with older csv files from `xnat_gate`).\n",
    "- If you are comparing multiple datasets, your csv should contain both, i.e., specify both in xnat_grabber, or just concatenate the files in excel, etc...\n",
    "- Don't worry about any covariate variables yet, we'll get to that below..."
   ]
  },
  {
   "cell_type": "code",
   "execution_count": 3,
   "metadata": {},
   "outputs": [
    {
     "name": "stdout",
     "output_type": "stream",
     "text": [
      "I found 488 participants in 1 different datasets: ['MGH']\n",
      "\n",
      "Results will be stored in a sub-directory named:  mgh_palm_dcn\n"
     ]
    },
    {
     "data": {
      "text/html": [
       "<div>\n",
       "<style scoped>\n",
       "    .dataframe tbody tr th:only-of-type {\n",
       "        vertical-align: middle;\n",
       "    }\n",
       "\n",
       "    .dataframe tbody tr th {\n",
       "        vertical-align: top;\n",
       "    }\n",
       "\n",
       "    .dataframe thead th {\n",
       "        text-align: right;\n",
       "    }\n",
       "</style>\n",
       "<table border=\"1\" class=\"dataframe\">\n",
       "  <thead>\n",
       "    <tr style=\"text-align: right;\">\n",
       "      <th></th>\n",
       "      <th>dataset</th>\n",
       "      <th>rrsubject</th>\n",
       "      <th>mRS</th>\n",
       "      <th>NIHSS</th>\n",
       "      <th>filenames</th>\n",
       "    </tr>\n",
       "  </thead>\n",
       "  <tbody>\n",
       "    <tr>\n",
       "      <th>0</th>\n",
       "      <td>MGH</td>\n",
       "      <td>1</td>\n",
       "      <td>0</td>\n",
       "      <td>2</td>\n",
       "      <td>mgh_rr_dcn/rrsubject001.nii</td>\n",
       "    </tr>\n",
       "    <tr>\n",
       "      <th>1</th>\n",
       "      <td>MGH</td>\n",
       "      <td>2</td>\n",
       "      <td>1</td>\n",
       "      <td>7</td>\n",
       "      <td>mgh_rr_dcn/rrsubject002.nii</td>\n",
       "    </tr>\n",
       "    <tr>\n",
       "      <th>2</th>\n",
       "      <td>MGH</td>\n",
       "      <td>3</td>\n",
       "      <td>6</td>\n",
       "      <td>31</td>\n",
       "      <td>mgh_rr_dcn/rrsubject003.nii</td>\n",
       "    </tr>\n",
       "    <tr>\n",
       "      <th>3</th>\n",
       "      <td>MGH</td>\n",
       "      <td>4</td>\n",
       "      <td>1</td>\n",
       "      <td>2</td>\n",
       "      <td>mgh_rr_dcn/rrsubject004.nii</td>\n",
       "    </tr>\n",
       "    <tr>\n",
       "      <th>4</th>\n",
       "      <td>MGH</td>\n",
       "      <td>5</td>\n",
       "      <td>1</td>\n",
       "      <td>1</td>\n",
       "      <td>mgh_rr_dcn/rrsubject005.nii</td>\n",
       "    </tr>\n",
       "    <tr>\n",
       "      <th>...</th>\n",
       "      <td>...</td>\n",
       "      <td>...</td>\n",
       "      <td>...</td>\n",
       "      <td>...</td>\n",
       "      <td>...</td>\n",
       "    </tr>\n",
       "    <tr>\n",
       "      <th>483</th>\n",
       "      <td>MGH</td>\n",
       "      <td>486</td>\n",
       "      <td>1</td>\n",
       "      <td>4</td>\n",
       "      <td>mgh_rr_dcn/rrsubject486.nii</td>\n",
       "    </tr>\n",
       "    <tr>\n",
       "      <th>484</th>\n",
       "      <td>MGH</td>\n",
       "      <td>487</td>\n",
       "      <td>0</td>\n",
       "      <td>1</td>\n",
       "      <td>mgh_rr_dcn/rrsubject487.nii</td>\n",
       "    </tr>\n",
       "    <tr>\n",
       "      <th>485</th>\n",
       "      <td>MGH</td>\n",
       "      <td>488</td>\n",
       "      <td>6</td>\n",
       "      <td>15</td>\n",
       "      <td>mgh_rr_dcn/rrsubject488.nii</td>\n",
       "    </tr>\n",
       "    <tr>\n",
       "      <th>486</th>\n",
       "      <td>MGH</td>\n",
       "      <td>489</td>\n",
       "      <td>0</td>\n",
       "      <td>0</td>\n",
       "      <td>mgh_rr_dcn/rrsubject489.nii</td>\n",
       "    </tr>\n",
       "    <tr>\n",
       "      <th>487</th>\n",
       "      <td>MGH</td>\n",
       "      <td>490</td>\n",
       "      <td>6</td>\n",
       "      <td>9</td>\n",
       "      <td>mgh_rr_dcn/rrsubject490.nii</td>\n",
       "    </tr>\n",
       "  </tbody>\n",
       "</table>\n",
       "<p>488 rows × 5 columns</p>\n",
       "</div>"
      ],
      "text/plain": [
       "    dataset  rrsubject  mRS  NIHSS                    filenames\n",
       "0       MGH          1    0      2  mgh_rr_dcn/rrsubject001.nii\n",
       "1       MGH          2    1      7  mgh_rr_dcn/rrsubject002.nii\n",
       "2       MGH          3    6     31  mgh_rr_dcn/rrsubject003.nii\n",
       "3       MGH          4    1      2  mgh_rr_dcn/rrsubject004.nii\n",
       "4       MGH          5    1      1  mgh_rr_dcn/rrsubject005.nii\n",
       "..      ...        ...  ...    ...                          ...\n",
       "483     MGH        486    1      4  mgh_rr_dcn/rrsubject486.nii\n",
       "484     MGH        487    0      1  mgh_rr_dcn/rrsubject487.nii\n",
       "485     MGH        488    6     15  mgh_rr_dcn/rrsubject488.nii\n",
       "486     MGH        489    0      0  mgh_rr_dcn/rrsubject489.nii\n",
       "487     MGH        490    6      9  mgh_rr_dcn/rrsubject490.nii\n",
       "\n",
       "[488 rows x 5 columns]"
      ]
     },
     "metadata": {},
     "output_type": "display_data"
    }
   ],
   "source": [
    "# Specify the path to your dataset.csv file\n",
    "\n",
    "# dataset_csv = \"your_dataset_csv_file.csv\"\n",
    "# output_dir = \"3_PALM_Analysis_of_datasetA_and_covariateB\"\n",
    "\n",
    "dataset_csv = \"mgh_palm_dcn.csv\"\n",
    "output_dir = \"mgh_palm_dcn\"\n",
    "\n",
    "clean_df = pd.read_csv(dataset_csv)\n",
    "\n",
    "### Code to remove rows where a particular column has no data:\n",
    "# clean_df.dropna(how='any', subset=['language_f'],inplace=True)\n",
    "### Code to remove rows where a particular column has no data:\n",
    "\n",
    "### Code for LOOCV computation\n",
    "# Set LOOCV to True and run the notebook as an ipython script with a single argument\n",
    "# (which row to drop, starts from 1 for the non-pythonic user)\n",
    "LOOCV = False\n",
    "if LOOCV:\n",
    "    dropnumber=int(sys.argv[1])-1\n",
    "    LOO_subject=clean_df.loc[dropnumber,'subject']\n",
    "    LOO_lesion=clean_df.loc[dropnumber,'filename']\n",
    "    print(\"I am going to Leave Out person #\",sys.argv[1],\"which was:\",LOO_subject)\n",
    "    clean_df.drop(dropnumber,inplace=True)\n",
    "    output_dir = output_dir + \"_\" + sys.argv[1]\n",
    "    print(\"Output will now be saved in\",output_dir)\n",
    "### Code for LOOCV computation\n",
    "\n",
    "# Specify which files are to be used as input:\n",
    "# This is usually 'func_T' but the other files could be used as well\n",
    "# ('Lesion', 'AvgR', 'AvgR_Fz', or 'func_T')\n",
    "input_imgs = clean_df['filenames']\n",
    "\n",
    "working_dir = os.path.join(output_dir,\"palm_config\")\n",
    "if not os.path.exists(working_dir):\n",
    "    os.makedirs(working_dir)\n",
    "\n",
    "print(\"I found\", len(clean_df), \"participants in\", len(clean_df['dataset'].unique()),\"different datasets:\",clean_df['dataset'].unique())\n",
    "print(\"\")\n",
    "print(\"Results will be stored in a sub-directory named: \",output_dir)\n",
    "display(clean_df)"
   ]
  },
  {
   "cell_type": "markdown",
   "metadata": {},
   "source": [
    "### 3. Create a design matrix\n",
    "\n",
    "NOTES:\n",
    "- The design matrix tells PALM about the statistical structure of your data\n",
    "- Rows = subjects/maps/observations\n",
    "- Columns = \"explanatory variables\" or EVs\n",
    "    - EVs can be independent binary or continuous variables that you are interested in studying.\n",
    "    - EVs can also be 'nuisance' variables you are not interested in (like lesion size, or type of data).\n",
    "    - By including any EVs you think could effect the fcMaps, your statistical estimate for the EV of interest (your 'contrast' of interest) will be more specific and less likely to be due to a confound, but there are specific reasons to *not* include a nuisance variable from time to time.\n",
    "- Examples:\n",
    "    - [Two Sample T-Test](https://fsl.fmrib.ox.ac.uk/fsl/fslwiki/GLM#Two-Group_Difference_.28Two-Sample_Unpaired_T-Test.29)\n",
    "    - [One Sample with Covariate](https://fsl.fmrib.ox.ac.uk/fsl/fslwiki/GLM#Single-Group_Average_with_Additional_Covariate)\n",
    "    \n",
    "Only run **ONE** of the following two sets of cells depending on how you want to create your design matrix:\n",
    "- If you want to manually edit your design matrix, i.e., in Excel, choose **Option 1**.\n",
    "- If you want to generate your design matrix with code, i.e., using Christopher's [examples](https://github.com/nimlab/documentation/wiki/PALM-Analyses), choose **Option 2**.\n",
    "- **Both** options allow you to automatically add lesion sizes."
   ]
  },
  {
   "cell_type": "markdown",
   "metadata": {},
   "source": [
    "### OPTION ONE (part A) - If you are going to manually add your EVs, first use this cell:\n",
    "NOTE: If a `dataset_phenotype.csv` already exists (you are re-running this notebook), the file will NOT be overwritten. If you want a new template to be created, delete the file first."
   ]
  },
  {
   "cell_type": "code",
   "execution_count": 5,
   "metadata": {},
   "outputs": [
    {
     "name": "stdout",
     "output_type": "stream",
     "text": [
      "\n",
      "A Template Design Matrix (with labels) has been created at mgh_palm_dcn_phenotype.csv\n"
     ]
    }
   ],
   "source": [
    "# This cell will create a template phenotype file that lists your files and the dataset and subject names:\n",
    "\n",
    "# Do you want me to add lesion sizes to the phenotype file for you?\n",
    "add_lesion_sizes = False\n",
    "\n",
    "phenotype_csv = os.path.splitext(dataset_csv)[0]+\"_phenotype.csv\"\n",
    "\n",
    "if not os.path.exists(phenotype_csv):\n",
    "    template_design_matrix = clean_df[['dataset','rrsubject']].copy()\n",
    "    template_design_matrix.insert(0,'files',input_imgs)\n",
    "    if add_lesion_sizes:\n",
    "        lesion_sizes=[]\n",
    "        for lesion in tqdm(clean_df.Lesion):\n",
    "            lesion_sizes.append(np.count_nonzero(np.nan_to_num(image.load_img(lesion, dtype=\"int16\").get_fdata())))\n",
    "        template_design_matrix['lesion_sizes']=lesion_sizes\n",
    "    template_design_matrix.to_csv(phenotype_csv, index=False)\n",
    "    print(\"\")\n",
    "    print(\"A Template Design Matrix (with labels) has been created at\",phenotype_csv)\n",
    "else:\n",
    "    print(\"There is already a file named:\",phenotype_csv)\n",
    "    print(\"If you want to make a new one, delete this file first and re-run this cell.\")"
   ]
  },
  {
   "cell_type": "markdown",
   "metadata": {},
   "source": [
    "### OPTION ONE (part B) - After you have manually added your EVs, then use this cell to load your modified phenotype.csv:\n",
    "NOTE: Don't change the name, just edit/modify the file in place, and this code will load the content"
   ]
  },
  {
   "cell_type": "code",
   "execution_count": 7,
   "metadata": {},
   "outputs": [],
   "source": [
    "# Load your modified phenotype file and create a design matrix from it:\n",
    "design_matrix = pd.read_csv(phenotype_csv)\n",
    "ordered_input_imgs=design_matrix['files']\n",
    "design_matrix = design_matrix.drop(columns=['files','dataset','rrsubject'])"
   ]
  },
  {
   "cell_type": "markdown",
   "metadata": {},
   "source": [
    "### OPTION TWO - If you are going to construct your design matrix using code, uncomment (Cmd+/ or Control+/) and use this cell:\n",
    "\n",
    "The instructions/examples Christopher put together are on [GitHub](https://github.com/nimlab/documentation/wiki/PALM-Analyses), and the possible patterns are listed on the FSL [GLM website](https://fsl.fmrib.ox.ac.uk/fsl/fslwiki/GLM).\n",
    "\n",
    "- Typical Examples:\n",
    "    - [Two Sample T-Test](https://fsl.fmrib.ox.ac.uk/fsl/fslwiki/GLM#Two-Group_Difference_.28Two-Sample_Unpaired_T-Test.29)\n",
    "    - [One Sample with Covariate](https://fsl.fmrib.ox.ac.uk/fsl/fslwiki/GLM#Single-Group_Average_with_Additional_Covariate)"
   ]
  },
  {
   "cell_type": "code",
   "execution_count": 7,
   "metadata": {},
   "outputs": [],
   "source": [
    "# # Modify this cell according to the documentation page:\n",
    "# # https://github.com/nimlab/documentation/wiki/PALM-Analyses\n",
    "\n",
    "# # Keep these two lines:\n",
    "# design_matrix = pd.DataFrame()\n",
    "# ordered_input_imgs=input_imgs\n",
    "\n",
    "\n",
    "# coding_key = {\"Corbetta_Lesions\": 1}\n",
    "# design_matrix[\"Intercept\"] = clean_df['dataset'].replace(coding_key)\n",
    "\n",
    "# design_matrix[\"language_f\"] = clean_df['language_f'].copy()\n",
    "\n",
    "\n",
    "# # Do you want to also add lesion sizes to the design matrix?\n",
    "# add_lesion_sizes = True\n",
    "\n",
    "\n",
    "# if add_lesion_sizes:\n",
    "#     lesion_sizes=[]\n",
    "#     for lesion in tqdm(clean_df.Lesion):\n",
    "#         lesion_sizes.append(np.count_nonzero(np.nan_to_num(image.load_img(lesion, dtype=\"int16\").get_fdata())))\n",
    "#     design_matrix['lesion_sizes']=lesion_sizes"
   ]
  },
  {
   "cell_type": "markdown",
   "metadata": {},
   "source": [
    "### 3b. Mean-Center your covariates\n",
    "NOTES:\n",
    "- This is described [here](http://mumford.fmripower.org/mean_centering/) and on the FSL FSL [GLM website](https://fsl.fmrib.ox.ac.uk/fsl/fslwiki/GLM).\n",
    "- Add lines as necessary for your covariates.\n",
    "- Your 'dummy' variables (0 vs 1) for group membership do not need to bee mean-centered"
   ]
  },
  {
   "cell_type": "code",
   "execution_count": 8,
   "metadata": {},
   "outputs": [],
   "source": [
    "### mean center any continous variables\n",
    "# design_matrix['covariateA'] = design_matrix['covariateA'].sub(design_matrix['covariateA'].mean())  \n",
    "# design_matrix['nihss_hospital'] = design_matrix['nihss_hospital'].sub(design_matrix['nihss_hospital'].mean())  \n",
    "\n",
    "# ### mean center the lesion sizes AND divide by 1000 to get the numbers ~0-100s or so:\n",
    "# # (According to Anderson, having values in the 10,000s could cause statistical weirdness...)\n",
    "# design_matrix['lesion_sizes'] = design_matrix['lesion_sizes'].sub(design_matrix['lesion_sizes'].mean()).div(1000)"
   ]
  },
  {
   "cell_type": "markdown",
   "metadata": {},
   "source": [
    "### 4. Show me what the design matrix looks like"
   ]
  },
  {
   "cell_type": "code",
   "execution_count": 8,
   "metadata": {},
   "outputs": [
    {
     "name": "stdout",
     "output_type": "stream",
     "text": [
      "I found 2 EVs IN THIS ORDER: ['int', 'nihss']\n"
     ]
    },
    {
     "data": {
      "image/png": "[encoded data removed]",
      "text/plain": [
       "<Figure size 432x288 with 2 Axes>"
      ]
     },
     "metadata": {
      "needs_background": "light"
     },
     "output_type": "display_data"
    }
   ],
   "source": [
    "print(\"I found\",len(design_matrix. columns),\"EVs IN THIS ORDER:\",list(design_matrix.columns))\n",
    "\n",
    "if 'lesion_sizes' in design_matrix.columns:\n",
    "    fig, axs = plt.subplots(1,2,sharey=True)\n",
    "    a1 = axs[0].imshow(design_matrix.drop(columns=['lesion_sizes']), aspect='auto')\n",
    "    a2 = axs[1].imshow(design_matrix.filter(['lesion_sizes']), aspect='auto')\n",
    "    plt.colorbar(a1,ax=axs[0])\n",
    "    plt.colorbar(a2,ax=axs[1])\n",
    "    print(\"Plotting the lesion sizes separately b/c they overwhelm the 1s and 0s\")\n",
    "else:\n",
    "    plt.imshow(design_matrix, aspect='auto')\n",
    "    plt.colorbar()"
   ]
  },
  {
   "cell_type": "markdown",
   "metadata": {},
   "source": [
    "### 5. Now, Create a contrast matrix\n",
    "\n",
    "NOTES:\n",
    "- Each 'contrast' is a statistical test where you are asking the question: **where** in the brain do the values behave like the single EV, or combination of EVs, that you specifiy in your contrast. This is also discussed on the FSL [GLM website](https://fsl.fmrib.ox.ac.uk/fsl/fslwiki/GLM).\n",
    "- Each 'contrast' is a short list of numbers, one per EV, typically +1,0,-1 that are **in the same order as the columns of your design matrix**.\n",
    "- There are different ways to organize your design matrix and contrast matrix to achieve the same goals, this is where collaborating with someone who has done this before is important to make sure you are 'asking' the question you think you are asking."
   ]
  },
  {
   "cell_type": "code",
   "execution_count": 9,
   "metadata": {},
   "outputs": [
    {
     "name": "stdout",
     "output_type": "stream",
     "text": [
      "       0  1\n",
      "nihss  0  1\n",
      "Each row is a contrast, each column is an EV:\n",
      "\n"
     ]
    },
    {
     "data": {
      "text/html": [
       "<div>\n",
       "<style scoped>\n",
       "    .dataframe tbody tr th:only-of-type {\n",
       "        vertical-align: middle;\n",
       "    }\n",
       "\n",
       "    .dataframe tbody tr th {\n",
       "        vertical-align: top;\n",
       "    }\n",
       "\n",
       "    .dataframe thead th {\n",
       "        text-align: right;\n",
       "    }\n",
       "</style>\n",
       "<table border=\"1\" class=\"dataframe\">\n",
       "  <thead>\n",
       "    <tr style=\"text-align: right;\">\n",
       "      <th></th>\n",
       "      <th>int</th>\n",
       "      <th>nihss</th>\n",
       "    </tr>\n",
       "  </thead>\n",
       "  <tbody>\n",
       "    <tr>\n",
       "      <th>nihss</th>\n",
       "      <td>0</td>\n",
       "      <td>1</td>\n",
       "    </tr>\n",
       "  </tbody>\n",
       "</table>\n",
       "</div>"
      ],
      "text/plain": [
       "       int  nihss\n",
       "nihss    0      1"
      ]
     },
     "metadata": {},
     "output_type": "display_data"
    }
   ],
   "source": [
    "# Modify this cell according to the documentation page:\n",
    "# https://github.com/nimlab/documentation/wiki/PALM-Analyses\n",
    "\n",
    "contrast_df = pd.DataFrame()\n",
    "\n",
    "contrast_df['nihss'] = [0, 1]\n",
    "\n",
    "contrast_matrix = contrast_df.T\n",
    "print(contrast_matrix)\n",
    "contrast_matrix.columns = design_matrix.columns\n",
    "print(\"Each row is a contrast, each column is an EV:\")\n",
    "print(\"\")\n",
    "display(contrast_matrix)"
   ]
  },
  {
   "cell_type": "markdown",
   "metadata": {},
   "source": [
    "### 5b. (Optional) Generate exchangeability blocks if needed\n",
    "NOTES:\n",
    "- This is optional and for when you are doing a 'meta-analysis' of multiple data types, e.g. strokes and DBS sites\n",
    "- This is a column of integers that can usually be generated from the dataset names. Details on the [PALM website](https://fsl.fmrib.ox.ac.uk/fsl/fslwiki/PALM/ExchangeabilityBlocks)\n",
    "- To use this, add the following to the `call_palm` command below `eb=eb_matrix`."
   ]
  },
  {
   "cell_type": "code",
   "execution_count": 11,
   "metadata": {},
   "outputs": [],
   "source": [
    "### This is just an example, you will have to edit to adapt to your data, \n",
    "### but it should be integers, starting with 1,2,3....\n",
    "\n",
    "# coding_key = {\"Prosopagnosia_w_Yeo1000\": 1,\n",
    "#              \"Corbetta_Lesions\": 1,\n",
    "#              \"DBS_dataset\": 2\n",
    "#              }\n",
    "\n",
    "# eb_matrix = pd.DataFrame()\n",
    "# eb_matrix = clean_df['dataset'].replace(coding_key)\n",
    "# display(eb_matrix)"
   ]
  },
  {
   "cell_type": "markdown",
   "metadata": {},
   "source": [
    "### 6. FINALLY, Run PALM\n",
    "\n",
    "NOTES:\n",
    "- This can take awhile depending on the number of subjects and the number of contrasts, make sure you are running this in a 'protected' session, i.e., jupyter was run in a `tmux` session or an onDemand session.\n",
    "- There are options for the `call_palm` function to allow for getting tfce-fwe results, using exchangeability blocks, 1-p, etc... See the documentation here: [GitHub](https://github.com/nimlab/documentation/wiki/PALM-Analyses)\n",
    "    - `accel = \"tail\"` only applies to the FWE results, not the FDR or uncorrected results.\n",
    "    - `corrcon_flag = True` does FWER-correction across all contrasts, taking into account any dependency that may exist between these contrasts.\n",
    "    - **The default is to save 1-p maps**, but set `save_1p=False` and `logp=True` to instead save **-log10(p) maps**, i.e., 0.05 ~ 1.3, 0.01 ~ 2, 0.001 ~3, etc... which is **great** for visualization\n",
    "    - ~5000 permutations is considered standard, running less, like ~1000 with tail acceleration on can be useful for testing, but *the uncorrected p values can be misleading* (more iterations = more precision, not more significance)"
   ]
  },
  {
   "cell_type": "code",
   "execution_count": 10,
   "metadata": {},
   "outputs": [
    {
     "name": "stdout",
     "output_type": "stream",
     "text": [
      "concatenating input...\n",
      "Calling PALM with following command:\n",
      "palm -i mgh_palm_dcn/palm_config/concat.nii -o mgh_palm_dcn/ -d mgh_palm_dcn/palm_config/design.mat -t mgh_palm_dcn/palm_config/contrast.con -n 1000 -m mgh_palm_dcn/palm_config/MNI152_T1_2mm_brain_mask_dil.nii -save1-p -twotail -accel tail\n",
      "Script saved to: mgh_palm_dcn/palm_config/submit.sh\n",
      "\n",
      "\n",
      "Time elapsed: 0 seconds\n"
     ]
    }
   ],
   "source": [
    "# Edit this according to documentation page\n",
    "\n",
    "# Current best default settings:\n",
    "sf.call_palm(ordered_input_imgs,\n",
    "             design_matrix,\n",
    "             contrast_matrix,\n",
    "             working_dir,\n",
    "             output_dir,\n",
    "             1000,\n",
    "             accel=\"tail\",\n",
    "             eb=None,\n",
    "             mask=\"\",\n",
    "             save_1p=True,\n",
    "             logp=False,\n",
    "             tfce=False,\n",
    "             ise_flag=False,\n",
    "             two_tailed_flag=True,\n",
    "             corrcon_flag=False,\n",
    "             fdr_flag=False,\n",
    "             cluster_submit=\"erisone_script\")\n",
    "\n",
    "# Settings that are more consistent with prior usage:\n",
    "# sf.call_palm(ordered_input_imgs,\n",
    "#              design_matrix,\n",
    "#              contrast_matrix,\n",
    "#              working_dir,\n",
    "#              output_dir,\n",
    "#              1000,\n",
    "#              tfce=True,\n",
    "#              fdr_flag=True,\n",
    "#              accel=\"tail\")\n",
    "\n",
    "\n",
    "### Code for LOOCV execution, Should not need to change:\n",
    "if LOOCV:\n",
    "    LOO_dir = os.path.join(output_dir,\"LOOCV_test\")\n",
    "    if not os.path.exists(LOO_dir):\n",
    "        os.makedirs(LOO_dir)\n",
    "    shutil.copy2(LOO_lesion,LOO_dir)"
   ]
  },
  {
   "cell_type": "markdown",
   "metadata": {},
   "source": [
    "## 7. Clean up working directory"
   ]
  },
  {
   "cell_type": "code",
   "execution_count": 16,
   "metadata": {},
   "outputs": [],
   "source": [
    "os.remove(os.path.join(working_dir,'concat.nii'))"
   ]
  },
  {
   "cell_type": "code",
   "execution_count": null,
   "metadata": {},
   "outputs": [],
   "source": []
  }
 ],
 "metadata": {
  "kernelspec": {
   "display_name": "Machine-Learning",
   "language": "python",
   "name": "ml"
  },
  "language_info": {
   "codemirror_mode": {
    "name": "ipython",
    "version": 3
   },
   "file_extension": ".py",
   "mimetype": "text/x-python",
   "name": "python",
   "nbconvert_exporter": "python",
   "pygments_lexer": "ipython3",
   "version": "3.8.5"
  }
 },
 "nbformat": 4,
 "nbformat_minor": 4
}
