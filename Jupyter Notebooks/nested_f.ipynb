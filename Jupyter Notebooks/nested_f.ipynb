{
 "cells": [
  {
   "cell_type": "code",
   "execution_count": 1,
   "metadata": {},
   "outputs": [],
   "source": [
    "import pandas as pd\n",
    "import statsmodels.formula.api as smf\n",
    "from statsmodels.stats.anova import anova_lm"
   ]
  },
  {
   "cell_type": "code",
   "execution_count": 2,
   "metadata": {},
   "outputs": [],
   "source": [
    "pd.set_option(\"display.max_rows\", None)\n",
    "pd.set_option(\"display.max_columns\", None)\n",
    "pd.set_option(\"display.width\", None)\n",
    "pd.set_option(\"display.max_colwidth\", None)"
   ]
  },
  {
   "cell_type": "code",
   "execution_count": 3,
   "metadata": {},
   "outputs": [],
   "source": [
    "mgh = pd.read_csv(\"mgh_vars.csv\")\n",
    "hospital = pd.read_csv(\"hospital_vars.csv\")\n",
    "acute = pd.read_csv(\"acute_vars.csv\")\n",
    "thmo = pd.read_csv(\"thmo_vars.csv\")\n",
    "year = pd.read_csv(\"year_vars.csv\")"
   ]
  },
  {
   "cell_type": "code",
   "execution_count": 4,
   "metadata": {},
   "outputs": [],
   "source": [
    "datasets = [hospital, acute, thmo, year, mgh]\n",
    "names = [\"hospital\", \"acute\", \"thmo\", \"year\", \"mgh\"]"
   ]
  },
  {
   "cell_type": "markdown",
   "metadata": {},
   "source": [
    "### Sizes and Sums"
   ]
  },
  {
   "cell_type": "code",
   "execution_count": 8,
   "metadata": {},
   "outputs": [],
   "source": [
    "for d in range(len(datasets)):\n",
    "    two_var = smf.ols(formula=\"nih~lnm_pos+vlsm_tot\", data=datasets[d]).fit()\n",
    "    lnm_only = smf.ols(formula=\"nih~lnm_pos\", data=datasets[d]).fit()\n",
    "    vlsm_only = smf.ols(formula=\"nih~vlsm_tot\", data=datasets[d]).fit()\n",
    "#     print(names[d])\n",
    "#     lnm_is_i = anova_lm(vlsm_only, two_var)\n",
    "#     print(\"LNM Removed\")\n",
    "#     print(lnm_is_i)\n",
    "#     vlsm_is_i = anova_lm(lnm_only, two_var)\n",
    "#     print(\"VLSM Removed\")\n",
    "#     print(vlsm_is_i)\n",
    "#     print()"
   ]
  },
  {
   "cell_type": "code",
   "execution_count": 15,
   "metadata": {},
   "outputs": [],
   "source": [
    "for d in range(len(datasets)):\n",
    "    three_var = smf.ols(formula=\"nih~lnm_pos+l_size+vlsm_tot\", data=datasets[d]).fit()\n",
    "    lnm_rev = smf.ols(formula=\"nih~vlsm_tot+l_size\", data=datasets[d]).fit()\n",
    "    vlsm_rev = smf.ols(formula=\"nih~lnm_pos+l_size\", data=datasets[d]).fit()\n",
    "    size_rev = smf.ols(formula=\"nih~lnm_pos+vlsm_tot\", data=datasets[d]).fit()\n",
    "#     print(names[d])\n",
    "#     lnm_is_i = anova_lm(lnm_rev, three_var)\n",
    "#     print(\"LNM Removed\")\n",
    "#     print(lnm_is_i)\n",
    "#     vlsm_is_i = anova_lm(vlsm_rev, three_var)\n",
    "#     print(\"VLSM Removed\")\n",
    "#     print(vlsm_is_i)\n",
    "#     lsize_is_i = anova_lm(size_rev, three_var)\n",
    "#     print(\"Size Removed\")\n",
    "#     print(lsize_is_i)\n",
    "#     print()"
   ]
  },
  {
   "cell_type": "code",
   "execution_count": 18,
   "metadata": {},
   "outputs": [],
   "source": [
    "for d in range(len(datasets)):\n",
    "    three_var = smf.ols(formula=\"nih~lnm_pos+l_size+vlsm_tot\", data=datasets[d]).fit()\n",
    "    lnm_only = smf.ols(formula=\"nih~lnm_pos\", data=datasets[d]).fit()\n",
    "    vlsm_only = smf.ols(formula=\"nih~vlsm_tot\", data=datasets[d]).fit()\n",
    "    size_only = smf.ols(formula=\"nih~l_size\", data=datasets[d]).fit()\n",
    "#     print(names[d])\n",
    "#     lsize_is_not_i = anova_lm(size_only, three_var)\n",
    "#     print(\"Size Only\")\n",
    "#     print(lsize_is_not_i)\n",
    "#     vlsm_is_not_i = anova_lm(vlsm_only, three_var)\n",
    "#     print(\"VLSM Only\")\n",
    "#     print(vlsm_is_not_i)\n",
    "#     lnm_is_not_i = anova_lm(lnm_only, three_var)\n",
    "#     print(\"LNM Only\")\n",
    "#     print(lnm_is_not_i)\n",
    "#     print()"
   ]
  },
  {
   "cell_type": "code",
   "execution_count": 20,
   "metadata": {},
   "outputs": [],
   "source": [
    "for d in range(len(datasets)):\n",
    "    three_var = smf.ols(formula=\"nih~lnm_pos+lnm_neg+vlsm_tot\", data=datasets[d]).fit()\n",
    "    lnm_pos_rev = smf.ols(formula=\"nih~vlsm_tot+lnm_neg\", data=datasets[d]).fit()\n",
    "    lnm_neg_rev = smf.ols(formula=\"nih~vlsm_tot+lnm_pos\", data=datasets[d]).fit()\n",
    "    vlsm_rev = smf.ols(formula=\"nih~lnm_pos+lnm_neg\", data=datasets[d]).fit()\n",
    "#     print(names[d])\n",
    "#     lnm_pos_is_i = anova_lm(lnm_pos_rev, three_var)\n",
    "#     print(\"LNM Pos Removed\")\n",
    "#     print(lnm_pos_is_i)\n",
    "#     lnm_neg_is_i = anova_lm(lnm_neg_rev, three_var)\n",
    "#     print(\"LNM Neg Removed\")\n",
    "#     print(lnm_neg_is_i)\n",
    "#     vlsm_is_i = anova_lm(vlsm_rev, three_var)\n",
    "#     print(\"VLSM Removed\")\n",
    "#     print(vlsm_is_i)\n",
    "#     print()"
   ]
  },
  {
   "cell_type": "code",
   "execution_count": 22,
   "metadata": {},
   "outputs": [],
   "source": [
    "for d in range(len(datasets)):\n",
    "    three_var = smf.ols(formula=\"nih~lnm_pos+lnm_neg+vlsm_tot\", data=datasets[d]).fit()\n",
    "    lnm_pos_only = smf.ols(formula=\"nih~lnm_pos\", data=datasets[d]).fit()\n",
    "    vlsm_only = smf.ols(formula=\"nih~vlsm_tot\", data=datasets[d]).fit()\n",
    "    lnm_neg_only = smf.ols(formula=\"nih~lnm_neg\", data=datasets[d]).fit()\n",
    "#     print(names[d])\n",
    "#     vlsm_is_not_i = anova_lm(vlsm_only, three_var)\n",
    "#     print(\"VLSM Only\")\n",
    "#     print(vlsm_is_not_i)\n",
    "#     lnm_neg_is_not_i = anova_lm(lnm_neg_only, three_var)\n",
    "#     print(\"LNM Neg Only\")\n",
    "#     print(lnm_neg_is_not_i)\n",
    "#     lnm_pos_is_not_i = anova_lm(lnm_pos_only, three_var)\n",
    "#     print(\"LNM Pos Only\")\n",
    "#     print(lnm_pos_is_not_i)\n",
    "#     print()"
   ]
  },
  {
   "cell_type": "code",
   "execution_count": 24,
   "metadata": {},
   "outputs": [],
   "source": [
    "for d in range(len(datasets)):\n",
    "    four_var = smf.ols(formula=\"nih~lnm_pos+lnm_neg+vlsm_tot+l_size\", data=datasets[d]).fit()\n",
    "    lnm_pos_rev = smf.ols(formula=\"nih~vlsm_tot+lnm_neg+l_size\", data=datasets[d]).fit()\n",
    "    lnm_neg_rev = smf.ols(formula=\"nih~vlsm_tot+lnm_pos+l_size\", data=datasets[d]).fit()\n",
    "    vlsm_rev = smf.ols(formula=\"nih~lnm_pos+lnm_neg+l_size\", data=datasets[d]).fit()\n",
    "    size_rev = smf.ols(formula=\"nih~lnm_pos+lnm_neg+vlsm_tot\", data=datasets[d]).fit()\n",
    "#     print(names[d])\n",
    "#     lnm_pos_is_i = anova_lm(lnm_pos_rev, four_var)\n",
    "#     print(\"LNM Pos Removed\")\n",
    "#     print(lnm_pos_is_i)\n",
    "#     lnm_neg_is_i = anova_lm(lnm_neg_rev, four_var)\n",
    "#     print(\"LNM Neg Removed\")\n",
    "#     print(lnm_neg_is_i)\n",
    "#     vlsm_is_i = anova_lm(vlsm_rev, four_var)\n",
    "#     print(\"VLSM Removed\")\n",
    "#     print(vlsm_is_i)\n",
    "#     size_is_i = anova_lm(size_rev, four_var)\n",
    "#     print(\"Size Removed\")\n",
    "#     print(size_is_i)\n",
    "#     print()"
   ]
  },
  {
   "cell_type": "code",
   "execution_count": 6,
   "metadata": {},
   "outputs": [],
   "source": [
    "for d in range(len(datasets)):\n",
    "    four_var = smf.ols(formula=\"nih~lnm_pos+lnm_neg+vlsm_tot+l_size\", data=datasets[d]).fit()\n",
    "    lnm_pos_lnm_neg_rev = smf.ols(formula=\"nih~vlsm_tot+l_size\", data=datasets[d]).fit()\n",
    "    lnm_pos_size_rev = smf.ols(formula=\"nih~vlsm_tot+lnm_neg\", data=datasets[d]).fit()\n",
    "    lnm_pos_vlsm_rev = smf.ols(formula=\"nih~lnm_neg+l_size\", data=datasets[d]).fit()\n",
    "    lnm_neg_size_rev = smf.ols(formula=\"nih~lnm_pos+vlsm_tot\", data=datasets[d]).fit()\n",
    "    lnm_neg_vlsm_rev = smf.ols(formula=\"nih~lnm_pos+l_size\", data=datasets[d]).fit()\n",
    "    size_vlsm_rev = smf.ols(formula=\"nih~lnm_pos+lnm_neg\", data=datasets[d]).fit()\n",
    "#     print(names[d])\n",
    "#     lnm_pos_lnm_neg_i = anova_lm(lnm_pos_lnm_neg_rev, four_var)\n",
    "#     print(\"LNM Pos and LNM Neg Removed\")\n",
    "#     print(lnm_pos_lnm_neg_i)\n",
    "#     lnm_pos_size_i = anova_lm(lnm_pos_size_rev, four_var)\n",
    "#     print(\"LNM Pos and Size Removed\")\n",
    "#     print(lnm_pos_size_i)\n",
    "#     lnm_pos_vlsm_i = anova_lm(lnm_pos_vlsm_rev, four_var)\n",
    "#     print(\"LNM Pos and VLSM Removed\")\n",
    "#     print(lnm_pos_vlsm_i)\n",
    "#     lnm_neg_size_i = anova_lm(lnm_neg_size_rev, four_var)\n",
    "#     print(\"LNM Neg and Size Removed\")\n",
    "#     print(lnm_neg_size_i)\n",
    "#     lnm_neg_vlsm_i = anova_lm(lnm_neg_vlsm_rev, four_var)\n",
    "#     print(\"LNM Neg and VLSM Removed\")\n",
    "#     print(lnm_neg_vlsm_i)\n",
    "#     size_vlsm_i = anova_lm(size_vlsm_rev, four_var)\n",
    "#     print(\"Size and VLSM Removed\")\n",
    "#     print(size_vlsm_i)\n",
    "#     print()"
   ]
  },
  {
   "cell_type": "code",
   "execution_count": 8,
   "metadata": {},
   "outputs": [],
   "source": [
    "for d in range(len(datasets)):\n",
    "    four_var = smf.ols(formula=\"nih~lnm_pos+lnm_neg+vlsm_tot+l_size\", data=datasets[d]).fit()\n",
    "    lnm_pos_only = smf.ols(formula=\"nih~lnm_pos\", data=datasets[d]).fit()\n",
    "    vlsm_only = smf.ols(formula=\"nih~vlsm_tot\", data=datasets[d]).fit()\n",
    "    lnm_neg_only = smf.ols(formula=\"nih~lnm_neg\", data=datasets[d]).fit()\n",
    "    size_only = smf.ols(formula=\"nih~l_size\", data=datasets[d]).fit()\n",
    "#     print(names[d])\n",
    "#     vlsm_is_not_i = anova_lm(vlsm_only, four_var)\n",
    "#     print(\"VLSM Only\")\n",
    "#     print(vlsm_is_not_i)\n",
    "#     lnm_neg_is_not_i = anova_lm(lnm_neg_only, four_var)\n",
    "#     print(\"LNM Neg Only\")\n",
    "#     print(lnm_neg_is_not_i)\n",
    "#     lnm_pos_is_not_i = anova_lm(lnm_pos_only, four_var)\n",
    "#     print(\"LNM Pos Only\")\n",
    "#     print(lnm_pos_is_not_i)\n",
    "#     size_is_not_i = anova_lm(size_only, four_var)\n",
    "#     print(\"Size Only\")\n",
    "#     print(size_is_not_i)\n",
    "#     print()"
   ]
  },
  {
   "cell_type": "markdown",
   "metadata": {},
   "source": [
    "### Sizes and Averages"
   ]
  },
  {
   "cell_type": "code",
   "execution_count": 6,
   "metadata": {},
   "outputs": [],
   "source": [
    "for d in range(len(datasets)):\n",
    "    two_var = smf.ols(formula=\"nih~lnm_pos_avg+vlsm_pos_avg\", data=datasets[d]).fit()\n",
    "    lnm_only = smf.ols(formula=\"nih~lnm_pos_avg\", data=datasets[d]).fit()\n",
    "    vlsm_only = smf.ols(formula=\"nih~vlsm_pos_avg\", data=datasets[d]).fit()\n",
    "#     print(names[d])\n",
    "#     lnm_is_i = anova_lm(vlsm_only, two_var)\n",
    "#     print(\"LNM Removed\")\n",
    "#     print(lnm_is_i)\n",
    "#     vlsm_is_i = anova_lm(lnm_only, two_var)\n",
    "#     print(\"VLSM Removed\")\n",
    "#     print(vlsm_is_i)\n",
    "#     print()"
   ]
  },
  {
   "cell_type": "code",
   "execution_count": 15,
   "metadata": {},
   "outputs": [],
   "source": [
    "for d in range(len(datasets)):\n",
    "    three_var = smf.ols(formula=\"nih~lnm_pos_avg+l_size+vlsm_pos_avg\", data=datasets[d]).fit()\n",
    "    lnm_rev = smf.ols(formula=\"nih~vlsm_pos_avg+l_size\", data=datasets[d]).fit()\n",
    "    vlsm_rev = smf.ols(formula=\"nih~lnm_pos_avg+l_size\", data=datasets[d]).fit()\n",
    "    size_rev = smf.ols(formula=\"nih~lnm_pos_avg+vlsm_pos_avg\", data=datasets[d]).fit()\n",
    "#     print(names[d])\n",
    "#     lnm_is_i = anova_lm(lnm_rev, three_var)\n",
    "#     print(\"LNM Removed\")\n",
    "#     print(lnm_is_i)\n",
    "#     vlsm_is_i = anova_lm(vlsm_rev, three_var)\n",
    "#     print(\"VLSM Removed\")\n",
    "#     print(vlsm_is_i)\n",
    "#     lsize_is_i = anova_lm(size_rev, three_var)\n",
    "#     print(\"Size Removed\")\n",
    "#     print(lsize_is_i)\n",
    "#     print()"
   ]
  },
  {
   "cell_type": "code",
   "execution_count": 13,
   "metadata": {},
   "outputs": [],
   "source": [
    "for d in range(len(datasets)):\n",
    "    three_var = smf.ols(formula=\"nih~lnm_pos_avg+l_size+vlsm_pos_avg\", data=datasets[d]).fit()\n",
    "    lnm_only = smf.ols(formula=\"nih~lnm_pos_avg\", data=datasets[d]).fit()\n",
    "    vlsm_only = smf.ols(formula=\"nih~vlsm_pos_avg\", data=datasets[d]).fit()\n",
    "    size_only = smf.ols(formula=\"nih~l_size\", data=datasets[d]).fit()\n",
    "#     print(names[d])\n",
    "#     lsize_is_not_i = anova_lm(size_only, three_var)\n",
    "#     print(\"Size Only\")\n",
    "#     print(lsize_is_not_i)\n",
    "#     vlsm_is_not_i = anova_lm(vlsm_only, three_var)\n",
    "#     print(\"VLSM Only\")\n",
    "#     print(vlsm_is_not_i)\n",
    "#     lnm_is_not_i = anova_lm(lnm_only, three_var)\n",
    "#     print(\"LNM Only\")\n",
    "#     print(lnm_is_not_i)\n",
    "#     print()"
   ]
  },
  {
   "cell_type": "code",
   "execution_count": 16,
   "metadata": {},
   "outputs": [],
   "source": [
    "for d in range(len(datasets)):\n",
    "    three_var = smf.ols(formula=\"nih~lnm_pos_avg+lnm_neg_avg+vlsm_pos_avg\", data=datasets[d]).fit()\n",
    "    lnm_pos_rev = smf.ols(formula=\"nih~vlsm_pos_avg+lnm_neg_avg\", data=datasets[d]).fit()\n",
    "    lnm_neg_rev = smf.ols(formula=\"nih~vlsm_pos_avg+lnm_pos_avg\", data=datasets[d]).fit()\n",
    "    vlsm_rev = smf.ols(formula=\"nih~lnm_pos_avg+lnm_neg_avg\", data=datasets[d]).fit()\n",
    "#     print(names[d])\n",
    "#     lnm_pos_is_i = anova_lm(lnm_pos_rev, three_var)\n",
    "#     print(\"LNM Pos Removed\")\n",
    "#     print(lnm_pos_is_i)\n",
    "#     lnm_neg_is_i = anova_lm(lnm_neg_rev, three_var)\n",
    "#     print(\"LNM Neg Removed\")\n",
    "#     print(lnm_neg_is_i)\n",
    "#     vlsm_is_i = anova_lm(vlsm_rev, three_var)\n",
    "#     print(\"VLSM Removed\")\n",
    "#     print(vlsm_is_i)\n",
    "#     print()"
   ]
  },
  {
   "cell_type": "code",
   "execution_count": 18,
   "metadata": {},
   "outputs": [],
   "source": [
    "for d in range(len(datasets)):\n",
    "    three_var = smf.ols(formula=\"nih~lnm_pos_avg+lnm_neg_avg+vlsm_pos_avg\", data=datasets[d]).fit()\n",
    "    lnm_pos_only = smf.ols(formula=\"nih~lnm_pos_avg\", data=datasets[d]).fit()\n",
    "    vlsm_only = smf.ols(formula=\"nih~vlsm_pos_avg\", data=datasets[d]).fit()\n",
    "    lnm_neg_only = smf.ols(formula=\"nih~lnm_neg_avg\", data=datasets[d]).fit()\n",
    "#     print(names[d])\n",
    "#     vlsm_is_not_i = anova_lm(vlsm_only, three_var)\n",
    "#     print(\"VLSM Only\")\n",
    "#     print(vlsm_is_not_i)\n",
    "#     lnm_neg_is_not_i = anova_lm(lnm_neg_only, three_var)\n",
    "#     print(\"LNM Neg Only\")\n",
    "#     print(lnm_neg_is_not_i)\n",
    "#     lnm_pos_is_not_i = anova_lm(lnm_pos_only, three_var)\n",
    "#     print(\"LNM Pos Only\")\n",
    "#     print(lnm_pos_is_not_i)\n",
    "#     print()"
   ]
  },
  {
   "cell_type": "code",
   "execution_count": 20,
   "metadata": {},
   "outputs": [],
   "source": [
    "for d in range(len(datasets)):\n",
    "    four_var = smf.ols(formula=\"nih~lnm_pos_avg+lnm_neg_avg+vlsm_pos_avg+l_size\", data=datasets[d]).fit()\n",
    "    lnm_pos_rev = smf.ols(formula=\"nih~vlsm_pos_avg+lnm_neg_avg+l_size\", data=datasets[d]).fit()\n",
    "    lnm_neg_rev = smf.ols(formula=\"nih~vlsm_pos_avg+lnm_pos_avg+l_size\", data=datasets[d]).fit()\n",
    "    vlsm_rev = smf.ols(formula=\"nih~lnm_pos_avg+lnm_neg_avg+l_size\", data=datasets[d]).fit()\n",
    "    size_rev = smf.ols(formula=\"nih~lnm_pos_avg+lnm_neg_avg+vlsm_pos_avg\", data=datasets[d]).fit()\n",
    "#     print(names[d])\n",
    "#     lnm_pos_is_i = anova_lm(lnm_pos_rev, four_var)\n",
    "#     print(\"LNM Pos Removed\")\n",
    "#     print(lnm_pos_is_i)\n",
    "#     lnm_neg_is_i = anova_lm(lnm_neg_rev, four_var)\n",
    "#     print(\"LNM Neg Removed\")\n",
    "#     print(lnm_neg_is_i)\n",
    "#     vlsm_is_i = anova_lm(vlsm_rev, four_var)\n",
    "#     print(\"VLSM Removed\")\n",
    "#     print(vlsm_is_i)\n",
    "#     size_is_i = anova_lm(size_rev, four_var)\n",
    "#     print(\"Size Removed\")\n",
    "#     print(size_is_i)\n",
    "#     print()"
   ]
  },
  {
   "cell_type": "code",
   "execution_count": 22,
   "metadata": {},
   "outputs": [],
   "source": [
    "for d in range(len(datasets)):\n",
    "    four_var = smf.ols(formula=\"nih~lnm_pos_avg+lnm_neg_avg+vlsm_pos_avg+l_size\", data=datasets[d]).fit()\n",
    "    lnm_pos_lnm_neg_rev = smf.ols(formula=\"nih~vlsm_pos_avg+l_size\", data=datasets[d]).fit()\n",
    "    lnm_pos_size_rev = smf.ols(formula=\"nih~vlsm_pos_avg+lnm_neg_avg\", data=datasets[d]).fit()\n",
    "    lnm_pos_vlsm_rev = smf.ols(formula=\"nih~lnm_neg_avg+l_size\", data=datasets[d]).fit()\n",
    "    lnm_neg_size_rev = smf.ols(formula=\"nih~lnm_pos_avg+vlsm_pos_avg\", data=datasets[d]).fit()\n",
    "    lnm_neg_vlsm_rev = smf.ols(formula=\"nih~lnm_pos_avg+l_size\", data=datasets[d]).fit()\n",
    "    size_vlsm_rev = smf.ols(formula=\"nih~lnm_pos_avg+lnm_neg_avg\", data=datasets[d]).fit()\n",
    "#     print(names[d])\n",
    "#     lnm_pos_lnm_neg_i = anova_lm(lnm_pos_lnm_neg_rev, four_var)\n",
    "#     print(\"LNM Pos and LNM Neg Removed\")\n",
    "#     print(lnm_pos_lnm_neg_i)\n",
    "#     lnm_pos_size_i = anova_lm(lnm_pos_size_rev, four_var)\n",
    "#     print(\"LNM Pos and Size Removed\")\n",
    "#     print(lnm_pos_size_i)\n",
    "#     lnm_pos_vlsm_i = anova_lm(lnm_pos_vlsm_rev, four_var)\n",
    "#     print(\"LNM Pos and VLSM Removed\")\n",
    "#     print(lnm_pos_vlsm_i)\n",
    "#     lnm_neg_size_i = anova_lm(lnm_neg_size_rev, four_var)\n",
    "#     print(\"LNM Neg and Size Removed\")\n",
    "#     print(lnm_neg_size_i)\n",
    "#     lnm_neg_vlsm_i = anova_lm(lnm_neg_vlsm_rev, four_var)\n",
    "#     print(\"LNM Neg and VLSM Removed\")\n",
    "#     print(lnm_neg_vlsm_i)\n",
    "#     size_vlsm_i = anova_lm(size_vlsm_rev, four_var)\n",
    "#     print(\"Size and VLSM Removed\")\n",
    "#     print(size_vlsm_i)\n",
    "#     print()"
   ]
  },
  {
   "cell_type": "code",
   "execution_count": 24,
   "metadata": {},
   "outputs": [],
   "source": [
    "for d in range(len(datasets)):\n",
    "    four_var = smf.ols(formula=\"nih~lnm_pos_avg+lnm_neg_avg+vlsm_pos_avg+l_size\", data=datasets[d]).fit()\n",
    "    lnm_pos_only = smf.ols(formula=\"nih~lnm_pos_avg\", data=datasets[d]).fit()\n",
    "    vlsm_only = smf.ols(formula=\"nih~vlsm_pos_avg\", data=datasets[d]).fit()\n",
    "    lnm_neg_only = smf.ols(formula=\"nih~lnm_neg_avg\", data=datasets[d]).fit()\n",
    "    size_only = smf.ols(formula=\"nih~l_size\", data=datasets[d]).fit()\n",
    "#     print(names[d])\n",
    "#     vlsm_is_not_i = anova_lm(vlsm_only, four_var)\n",
    "#     print(\"VLSM Only\")\n",
    "#     print(vlsm_is_not_i)\n",
    "#     lnm_neg_is_not_i = anova_lm(lnm_neg_only, four_var)\n",
    "#     print(\"LNM Neg Only\")\n",
    "#     print(lnm_neg_is_not_i)\n",
    "#     lnm_pos_is_not_i = anova_lm(lnm_pos_only, four_var)\n",
    "#     print(\"LNM Pos Only\")\n",
    "#     print(lnm_pos_is_not_i)\n",
    "#     size_is_not_i = anova_lm(size_only, four_var)\n",
    "#     print(\"Size Only\")\n",
    "#     print(size_is_not_i)\n",
    "#     print()"
   ]
  },
  {
   "cell_type": "markdown",
   "metadata": {},
   "source": [
    "### Presentation"
   ]
  },
  {
   "cell_type": "code",
   "execution_count": 7,
   "metadata": {},
   "outputs": [],
   "source": [
    "vlsm_only = smf.ols(formula=\"nih~vlsm_tot\", data=mgh).fit()\n",
    "lnm_only = smf.ols(formula=\"nih~lnm_pos\", data=mgh).fit()\n",
    "wm_only = smf.ols(formula=\"nih~wm_total\", data=mgh).fit()\n",
    "vlsm_lnm = smf.ols(formula=\"nih~vlsm_tot+lnm_pos\", data=mgh).fit()\n",
    "vlsm_wm = smf.ols(formula=\"nih~vlsm_tot+wm_total\", data=mgh).fit()\n",
    "lnm_wm = smf.ols(formula=\"nih~lnm_pos+wm_total\", data=mgh).fit()\n",
    "vlsm_lnm_wm = smf.ols(formula=\"nih~lnm_pos+vlsm_tot+wm_total\", data=mgh).fit()"
   ]
  },
  {
   "cell_type": "code",
   "execution_count": 8,
   "metadata": {},
   "outputs": [
    {
     "name": "stdout",
     "output_type": "stream",
     "text": [
      "VLSM Only - Full = VLSM and LNM\n",
      "   df_resid           ssr  df_diff     ss_diff          F    Pr(>F)\n",
      "0     486.0  15657.919699      0.0         NaN        NaN       NaN\n",
      "1     485.0  15116.644131      1.0  541.275568  17.366199  0.000037\n",
      "\n",
      "LNM Only - Full = VLSM and LNM\n",
      "   df_resid           ssr  df_diff    ss_diff         F    Pr(>F)\n",
      "0     486.0  15172.118764      0.0        NaN       NaN       NaN\n",
      "1     485.0  15116.644131      1.0  55.474633  1.779839  0.182795\n"
     ]
    }
   ],
   "source": [
    "lnm_is_i = anova_lm(vlsm_only, vlsm_lnm)\n",
    "print(\"VLSM Only - Full = VLSM and LNM\")\n",
    "print(lnm_is_i)\n",
    "print()\n",
    "vlsm_is_i = anova_lm(lnm_only, vlsm_lnm)\n",
    "print(\"LNM Only - Full = VLSM and LNM\")\n",
    "print(vlsm_is_i)"
   ]
  },
  {
   "cell_type": "code",
   "execution_count": 10,
   "metadata": {},
   "outputs": [
    {
     "name": "stdout",
     "output_type": "stream",
     "text": [
      "VLSM Only - Full = VLSM and WM\n",
      "   df_resid           ssr  df_diff     ss_diff          F        Pr(>F)\n",
      "0     486.0  15657.919699      0.0         NaN        NaN           NaN\n",
      "1     485.0  14856.250697      1.0  801.669002  26.171439  4.508134e-07\n",
      "\n",
      "WM Only - Full = VLSM and WM\n",
      "   df_resid           ssr  df_diff    ss_diff         F    Pr(>F)\n",
      "0     486.0  14941.835655      0.0        NaN       NaN       NaN\n",
      "1     485.0  14856.250697      1.0  85.584958  2.794023  0.095261\n"
     ]
    }
   ],
   "source": [
    "wm_is_i = anova_lm(vlsm_only, vlsm_wm)\n",
    "print(\"VLSM Only - Full = VLSM and WM\")\n",
    "print(wm_is_i)\n",
    "print()\n",
    "vlsm_is_i = anova_lm(wm_only, vlsm_wm)\n",
    "print(\"WM Only - Full = VLSM and WM\")\n",
    "print(vlsm_is_i)"
   ]
  },
  {
   "cell_type": "code",
   "execution_count": 11,
   "metadata": {},
   "outputs": [
    {
     "name": "stdout",
     "output_type": "stream",
     "text": [
      "WM Only - Full = WM and LNM\n",
      "   df_resid           ssr  df_diff   ss_diff         F    Pr(>F)\n",
      "0     486.0  14941.835655      0.0       NaN       NaN       NaN\n",
      "1     485.0  14939.484336      1.0  2.351319  0.076334  0.782446\n",
      "\n",
      "LNM Only - Full = WM and LNM\n",
      "   df_resid           ssr  df_diff     ss_diff         F    Pr(>F)\n",
      "0     486.0  15172.118764      0.0         NaN       NaN       NaN\n",
      "1     485.0  14939.484336      1.0  232.634428  7.552315  0.006217\n"
     ]
    }
   ],
   "source": [
    "lnm_is_i = anova_lm(wm_only, lnm_wm)\n",
    "print(\"WM Only - Full = WM and LNM\")\n",
    "print(lnm_is_i)\n",
    "print()\n",
    "wm_is_i = anova_lm(lnm_only, lnm_wm)\n",
    "print(\"LNM Only - Full = WM and LNM\")\n",
    "print(wm_is_i)"
   ]
  },
  {
   "cell_type": "code",
   "execution_count": 13,
   "metadata": {},
   "outputs": [
    {
     "name": "stdout",
     "output_type": "stream",
     "text": [
      "LNM is i - Full\n",
      "   df_resid           ssr  df_diff    ss_diff         F    Pr(>F)\n",
      "0     485.0  14856.250697      0.0        NaN       NaN       NaN\n",
      "1     484.0  14837.501068      1.0  18.749629  0.611614  0.434563\n",
      "\n",
      "WM is i - Full\n",
      "   df_resid           ssr  df_diff     ss_diff        F    Pr(>F)\n",
      "0     485.0  15116.644131      0.0         NaN      NaN       NaN\n",
      "1     484.0  14837.501068      1.0  279.143062  9.10566  0.002682\n",
      "\n",
      "VLSM is i - Full\n",
      "   df_resid           ssr  df_diff     ss_diff         F   Pr(>F)\n",
      "0     485.0  14939.484336      0.0         NaN       NaN      NaN\n",
      "1     484.0  14837.501068      1.0  101.983268  3.326699  0.06878\n"
     ]
    }
   ],
   "source": [
    "lnm_is_i = anova_lm(vlsm_wm, vlsm_lnm_wm)\n",
    "print(\"LNM is i - Full\")\n",
    "print(lnm_is_i)\n",
    "print()\n",
    "wm_is_i = anova_lm(vlsm_lnm, vlsm_lnm_wm)\n",
    "print(\"WM is i - Full\")\n",
    "print(wm_is_i)\n",
    "print()\n",
    "vlsm_is_i = anova_lm(lnm_wm, vlsm_lnm_wm)\n",
    "print(\"VLSM is i - Full\")\n",
    "print(vlsm_is_i)"
   ]
  },
  {
   "cell_type": "code",
   "execution_count": null,
   "metadata": {},
   "outputs": [],
   "source": []
  }
 ],
 "metadata": {
  "kernelspec": {
   "display_name": "Physics",
   "language": "python",
   "name": "physics"
  },
  "language_info": {
   "codemirror_mode": {
    "name": "ipython",
    "version": 3
   },
   "file_extension": ".py",
   "mimetype": "text/x-python",
   "name": "python",
   "nbconvert_exporter": "python",
   "pygments_lexer": "ipython3",
   "version": "3.8.5"
  }
 },
 "nbformat": 4,
 "nbformat_minor": 4
}
