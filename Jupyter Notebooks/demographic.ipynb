{
 "cells": [
  {
   "cell_type": "code",
   "execution_count": 1,
   "metadata": {},
   "outputs": [],
   "source": [
    "import pandas as pd\n",
    "import statsmodels.formula.api as smf\n",
    "import matplotlib.pyplot as plt\n",
    "import numpy as np\n",
    "import scipy.stats as ss"
   ]
  },
  {
   "cell_type": "code",
   "execution_count": 2,
   "metadata": {},
   "outputs": [],
   "source": [
    "pd.set_option(\"display.max_rows\", None)\n",
    "pd.set_option(\"display.max_columns\", None)\n",
    "pd.set_option(\"display.width\", None)\n",
    "pd.set_option(\"display.max_colwidth\", None)"
   ]
  },
  {
   "cell_type": "code",
   "execution_count": 3,
   "metadata": {},
   "outputs": [],
   "source": [
    "raw = pd.read_csv(\"FCS_Demographics_and_Behavior_MDF.csv\")"
   ]
  },
  {
   "cell_type": "code",
   "execution_count": 49,
   "metadata": {},
   "outputs": [],
   "source": [
    "dataset = \"year\""
   ]
  },
  {
   "cell_type": "code",
   "execution_count": 50,
   "metadata": {},
   "outputs": [],
   "source": [
    "pred = pd.read_csv(dataset+\"_vars.csv\")"
   ]
  },
  {
   "cell_type": "code",
   "execution_count": 51,
   "metadata": {},
   "outputs": [],
   "source": [
    "subjects = pred[\"subject\"].to_list()"
   ]
  },
  {
   "cell_type": "code",
   "execution_count": 52,
   "metadata": {},
   "outputs": [],
   "source": [
    "all_demo = raw[raw[\"redcap_event_name\"] == \"basic_subject_info_arm_1\"]\n",
    "all_demo = all_demo[[\"study_id\", \"age\", \"ethnicity\", \"race\", \"gender\", \"education\", \"handed\", \"smoke\"]]\n",
    "all_demo = all_demo[all_demo[\"study_id\"].isin(subjects)]"
   ]
  },
  {
   "cell_type": "code",
   "execution_count": 53,
   "metadata": {},
   "outputs": [],
   "source": [
    "pred[\"age\"] = all_demo[\"age\"].to_list()\n",
    "pred[\"ethnicity\"] = all_demo[\"ethnicity\"].to_list()\n",
    "pred[\"race\"] = all_demo[\"race\"].to_list()\n",
    "pred[\"gender\"] = all_demo[\"gender\"].to_list()\n",
    "pred[\"education\"] = all_demo[\"education\"].to_list()\n",
    "pred[\"handed\"] = all_demo[\"handed\"].to_list()\n",
    "pred[\"smoke\"] = all_demo[\"smoke\"].to_list()"
   ]
  },
  {
   "cell_type": "code",
   "execution_count": 9,
   "metadata": {},
   "outputs": [],
   "source": [
    "var_names = [\"lnm_tot\", \"lnm_pos\", \"lnm_neg\", \"vlsm_tot\", \"wm_total\", \"lnm_tot_avg\", \"lnm_pos_avg\", \"lnm_neg_avg\", \"vlsm_tot_avg\", \"vlsm_pos_avg\", \"wm_avg\", \"sp_corr_lnm\", \"sp_corr_vlsm\", \"sp_corr_wm\", \"l_size\"]"
   ]
  },
  {
   "cell_type": "markdown",
   "metadata": {},
   "source": [
    "### Age"
   ]
  },
  {
   "cell_type": "code",
   "execution_count": 55,
   "metadata": {},
   "outputs": [],
   "source": [
    "# plt.scatter(np.array(pred[\"age\"]), np.array(pred[\"nih\"]))\n",
    "# plt.xlabel(\"Age (years)\")\n",
    "# plt.ylabel(\"NIHSS\")"
   ]
  },
  {
   "cell_type": "code",
   "execution_count": 57,
   "metadata": {},
   "outputs": [],
   "source": [
    "model = smf.ols(formula= str(\"nih~age\"), data=pred).fit()\n",
    "# print(model.summary())"
   ]
  },
  {
   "cell_type": "code",
   "execution_count": 59,
   "metadata": {},
   "outputs": [],
   "source": [
    "for i in range(len(var_names)):\n",
    "    model = smf.ols(formula= str(\"nih~age+\"+var_names[i]), data=pred).fit()\n",
    "#     print(var_names[i])\n",
    "#     print(model.summary())"
   ]
  },
  {
   "cell_type": "markdown",
   "metadata": {},
   "source": [
    "### Gender"
   ]
  },
  {
   "cell_type": "code",
   "execution_count": 60,
   "metadata": {},
   "outputs": [
    {
     "data": {
      "text/plain": [
       "39"
      ]
     },
     "execution_count": 60,
     "metadata": {},
     "output_type": "execute_result"
    }
   ],
   "source": [
    "females = pred[pred[\"gender\"] == 1]\n",
    "females.shape[0]"
   ]
  },
  {
   "cell_type": "code",
   "execution_count": 153,
   "metadata": {},
   "outputs": [],
   "source": [
    "for i in range(len(var_names)):\n",
    "#     print(var_names[i])\n",
    "    model = smf.ols(formula= str(\"nih~\"+var_names[i]), data=females).fit()\n",
    "#     print(model.summary())"
   ]
  },
  {
   "cell_type": "code",
   "execution_count": 61,
   "metadata": {},
   "outputs": [
    {
     "data": {
      "text/plain": [
       "49"
      ]
     },
     "execution_count": 61,
     "metadata": {},
     "output_type": "execute_result"
    }
   ],
   "source": [
    "males = pred[pred[\"gender\"] == 0]\n",
    "males.shape[0]"
   ]
  },
  {
   "cell_type": "code",
   "execution_count": 156,
   "metadata": {},
   "outputs": [],
   "source": [
    "for i in range(len(var_names)):\n",
    "#     print(var_names[i])\n",
    "    model = smf.ols(formula= str(\"nih~\"+var_names[i]), data=males).fit()\n",
    "#     print(model.summary())"
   ]
  },
  {
   "cell_type": "code",
   "execution_count": 63,
   "metadata": {},
   "outputs": [],
   "source": [
    "t = ss.ttest_ind(np.array(females[\"nih\"]), np.array(males[\"nih\"]), equal_var=False)\n",
    "# print(\"nih\")\n",
    "# print(t)\n",
    "# print()\n",
    "for i in range(len(var_names)):\n",
    "    t = ss.ttest_ind(np.array(females[var_names[i]]), np.array(males[var_names[i]]), equal_var=False)\n",
    "#     print(var_names[i])\n",
    "#     print(t)\n",
    "#     print()"
   ]
  },
  {
   "cell_type": "markdown",
   "metadata": {},
   "source": [
    "### Smoking"
   ]
  },
  {
   "cell_type": "code",
   "execution_count": 64,
   "metadata": {},
   "outputs": [
    {
     "data": {
      "text/plain": [
       "40"
      ]
     },
     "execution_count": 64,
     "metadata": {},
     "output_type": "execute_result"
    }
   ],
   "source": [
    "smokers = pred[pred[\"smoke\"] == 1]\n",
    "smokers.shape[0]"
   ]
  },
  {
   "cell_type": "code",
   "execution_count": 163,
   "metadata": {},
   "outputs": [],
   "source": [
    "for i in range(len(var_names)):\n",
    "#     print(var_names[i])\n",
    "    model = smf.ols(formula= str(\"nih~\"+var_names[i]), data=smokers).fit()\n",
    "#     print(model.summary())"
   ]
  },
  {
   "cell_type": "code",
   "execution_count": 65,
   "metadata": {},
   "outputs": [
    {
     "data": {
      "text/plain": [
       "48"
      ]
     },
     "execution_count": 65,
     "metadata": {},
     "output_type": "execute_result"
    }
   ],
   "source": [
    "nonsmokers = pred[pred[\"smoke\"] == 0]\n",
    "nonsmokers.shape[0]"
   ]
  },
  {
   "cell_type": "code",
   "execution_count": 166,
   "metadata": {},
   "outputs": [],
   "source": [
    "for i in range(len(var_names)):\n",
    "#     print(var_names[i])\n",
    "    model = smf.ols(formula= str(\"nih~\"+var_names[i]), data=nonsmokers).fit()\n",
    "#     print(model.summary())"
   ]
  },
  {
   "cell_type": "code",
   "execution_count": 67,
   "metadata": {},
   "outputs": [],
   "source": [
    "t = ss.ttest_ind(np.array(smokers[\"nih\"]), np.array(nonsmokers[\"nih\"]), equal_var=False)\n",
    "# print(\"nih\")\n",
    "# print(t)\n",
    "# print()\n",
    "for i in range(len(var_names)):\n",
    "    t = ss.ttest_ind(np.array(smokers[var_names[i]]), np.array(nonsmokers[var_names[i]]), equal_var=False)\n",
    "#     print(var_names[i])\n",
    "#     print(t)\n",
    "#     print()"
   ]
  },
  {
   "cell_type": "markdown",
   "metadata": {},
   "source": [
    "### Hand"
   ]
  },
  {
   "cell_type": "code",
   "execution_count": 13,
   "metadata": {},
   "outputs": [],
   "source": [
    "left = pred[pred[\"handed\"] == 0]"
   ]
  },
  {
   "cell_type": "code",
   "execution_count": 12,
   "metadata": {},
   "outputs": [],
   "source": [
    "for i in range(len(var_names)):\n",
    "#     print(var_names[i])\n",
    "    model = smf.ols(formula= str(\"nih~\"+var_names[i]), data=left).fit()\n",
    "#     print(model.summary())"
   ]
  },
  {
   "cell_type": "code",
   "execution_count": 14,
   "metadata": {},
   "outputs": [],
   "source": [
    "right = pred[pred[\"handed\"] == 1]"
   ]
  },
  {
   "cell_type": "code",
   "execution_count": 15,
   "metadata": {},
   "outputs": [],
   "source": [
    "for i in range(len(var_names)):\n",
    "#     print(var_names[i])\n",
    "    model = smf.ols(formula= str(\"nih~\"+var_names[i]), data=right).fit()\n",
    "#     print(model.summary())"
   ]
  },
  {
   "cell_type": "markdown",
   "metadata": {},
   "source": [
    "### Ethnicity"
   ]
  },
  {
   "cell_type": "code",
   "execution_count": 170,
   "metadata": {},
   "outputs": [],
   "source": [
    "hl = pred[pred[\"ethnicity\"] == 0]"
   ]
  },
  {
   "cell_type": "code",
   "execution_count": null,
   "metadata": {},
   "outputs": [],
   "source": [
    "for i in range(len(var_names)):\n",
    "#     print(var_names[i])\n",
    "    model = smf.ols(formula= str(\"nih~\"+var_names[i]), data=hl).fit()\n",
    "#     print(model.summary())"
   ]
  },
  {
   "cell_type": "code",
   "execution_count": null,
   "metadata": {},
   "outputs": [],
   "source": [
    "nhl = pred[pred[\"ethnicity\"] == 1]"
   ]
  },
  {
   "cell_type": "code",
   "execution_count": null,
   "metadata": {},
   "outputs": [],
   "source": [
    "for i in range(len(var_names)):\n",
    "#     print(var_names[i])\n",
    "    model = smf.ols(formula= str(\"nih~\"+var_names[i]), data=nhl).fit()\n",
    "#     print(model.summary())"
   ]
  },
  {
   "cell_type": "markdown",
   "metadata": {},
   "source": [
    "### Race"
   ]
  },
  {
   "cell_type": "code",
   "execution_count": 171,
   "metadata": {},
   "outputs": [
    {
     "data": {
      "text/html": [
       "<div>\n",
       "<style scoped>\n",
       "    .dataframe tbody tr th:only-of-type {\n",
       "        vertical-align: middle;\n",
       "    }\n",
       "\n",
       "    .dataframe tbody tr th {\n",
       "        vertical-align: top;\n",
       "    }\n",
       "\n",
       "    .dataframe thead th {\n",
       "        text-align: right;\n",
       "    }\n",
       "</style>\n",
       "<table border=\"1\" class=\"dataframe\">\n",
       "  <thead>\n",
       "    <tr style=\"text-align: right;\">\n",
       "      <th></th>\n",
       "      <th>nih</th>\n",
       "      <th>lnm_tot</th>\n",
       "      <th>lnm_pos</th>\n",
       "      <th>lnm_neg</th>\n",
       "      <th>vlsm_tot</th>\n",
       "      <th>vlsm_pos</th>\n",
       "      <th>sp_corr_lnm</th>\n",
       "      <th>sp_corr_vlsm</th>\n",
       "      <th>lnm_tot_avg</th>\n",
       "      <th>lnm_pos_avg</th>\n",
       "      <th>lnm_neg_avg</th>\n",
       "      <th>vlsm_tot_avg</th>\n",
       "      <th>vlsm_pos_avg</th>\n",
       "      <th>l_size</th>\n",
       "      <th>subject</th>\n",
       "      <th>wm_total</th>\n",
       "      <th>wm_avg</th>\n",
       "      <th>sp_corr_wm</th>\n",
       "      <th>age</th>\n",
       "      <th>ethnicity</th>\n",
       "      <th>race</th>\n",
       "      <th>gender</th>\n",
       "      <th>education</th>\n",
       "      <th>handed</th>\n",
       "      <th>smoke</th>\n",
       "    </tr>\n",
       "  </thead>\n",
       "  <tbody>\n",
       "  </tbody>\n",
       "</table>\n",
       "</div>"
      ],
      "text/plain": [
       "Empty DataFrame\n",
       "Columns: [nih, lnm_tot, lnm_pos, lnm_neg, vlsm_tot, vlsm_pos, sp_corr_lnm, sp_corr_vlsm, lnm_tot_avg, lnm_pos_avg, lnm_neg_avg, vlsm_tot_avg, vlsm_pos_avg, l_size, subject, wm_total, wm_avg, sp_corr_wm, age, ethnicity, race, gender, education, handed, smoke]\n",
       "Index: []"
      ]
     },
     "execution_count": 171,
     "metadata": {},
     "output_type": "execute_result"
    }
   ],
   "source": [
    "ai_an = pred[pred[\"race\"] == 0]\n",
    "ai_an"
   ]
  },
  {
   "cell_type": "code",
   "execution_count": 172,
   "metadata": {},
   "outputs": [
    {
     "data": {
      "text/html": [
       "<div>\n",
       "<style scoped>\n",
       "    .dataframe tbody tr th:only-of-type {\n",
       "        vertical-align: middle;\n",
       "    }\n",
       "\n",
       "    .dataframe tbody tr th {\n",
       "        vertical-align: top;\n",
       "    }\n",
       "\n",
       "    .dataframe thead th {\n",
       "        text-align: right;\n",
       "    }\n",
       "</style>\n",
       "<table border=\"1\" class=\"dataframe\">\n",
       "  <thead>\n",
       "    <tr style=\"text-align: right;\">\n",
       "      <th></th>\n",
       "      <th>nih</th>\n",
       "      <th>lnm_tot</th>\n",
       "      <th>lnm_pos</th>\n",
       "      <th>lnm_neg</th>\n",
       "      <th>vlsm_tot</th>\n",
       "      <th>vlsm_pos</th>\n",
       "      <th>sp_corr_lnm</th>\n",
       "      <th>sp_corr_vlsm</th>\n",
       "      <th>lnm_tot_avg</th>\n",
       "      <th>lnm_pos_avg</th>\n",
       "      <th>lnm_neg_avg</th>\n",
       "      <th>vlsm_tot_avg</th>\n",
       "      <th>vlsm_pos_avg</th>\n",
       "      <th>l_size</th>\n",
       "      <th>subject</th>\n",
       "      <th>wm_total</th>\n",
       "      <th>wm_avg</th>\n",
       "      <th>sp_corr_wm</th>\n",
       "      <th>age</th>\n",
       "      <th>ethnicity</th>\n",
       "      <th>race</th>\n",
       "      <th>gender</th>\n",
       "      <th>education</th>\n",
       "      <th>handed</th>\n",
       "      <th>smoke</th>\n",
       "    </tr>\n",
       "  </thead>\n",
       "  <tbody>\n",
       "  </tbody>\n",
       "</table>\n",
       "</div>"
      ],
      "text/plain": [
       "Empty DataFrame\n",
       "Columns: [nih, lnm_tot, lnm_pos, lnm_neg, vlsm_tot, vlsm_pos, sp_corr_lnm, sp_corr_vlsm, lnm_tot_avg, lnm_pos_avg, lnm_neg_avg, vlsm_tot_avg, vlsm_pos_avg, l_size, subject, wm_total, wm_avg, sp_corr_wm, age, ethnicity, race, gender, education, handed, smoke]\n",
       "Index: []"
      ]
     },
     "execution_count": 172,
     "metadata": {},
     "output_type": "execute_result"
    }
   ],
   "source": [
    "asi = pred[pred[\"race\"] == 1]\n",
    "asi"
   ]
  },
  {
   "cell_type": "code",
   "execution_count": 173,
   "metadata": {},
   "outputs": [
    {
     "data": {
      "text/html": [
       "<div>\n",
       "<style scoped>\n",
       "    .dataframe tbody tr th:only-of-type {\n",
       "        vertical-align: middle;\n",
       "    }\n",
       "\n",
       "    .dataframe tbody tr th {\n",
       "        vertical-align: top;\n",
       "    }\n",
       "\n",
       "    .dataframe thead th {\n",
       "        text-align: right;\n",
       "    }\n",
       "</style>\n",
       "<table border=\"1\" class=\"dataframe\">\n",
       "  <thead>\n",
       "    <tr style=\"text-align: right;\">\n",
       "      <th></th>\n",
       "      <th>nih</th>\n",
       "      <th>lnm_tot</th>\n",
       "      <th>lnm_pos</th>\n",
       "      <th>lnm_neg</th>\n",
       "      <th>vlsm_tot</th>\n",
       "      <th>vlsm_pos</th>\n",
       "      <th>sp_corr_lnm</th>\n",
       "      <th>sp_corr_vlsm</th>\n",
       "      <th>lnm_tot_avg</th>\n",
       "      <th>lnm_pos_avg</th>\n",
       "      <th>lnm_neg_avg</th>\n",
       "      <th>vlsm_tot_avg</th>\n",
       "      <th>vlsm_pos_avg</th>\n",
       "      <th>l_size</th>\n",
       "      <th>subject</th>\n",
       "      <th>wm_total</th>\n",
       "      <th>wm_avg</th>\n",
       "      <th>sp_corr_wm</th>\n",
       "      <th>age</th>\n",
       "      <th>ethnicity</th>\n",
       "      <th>race</th>\n",
       "      <th>gender</th>\n",
       "      <th>education</th>\n",
       "      <th>handed</th>\n",
       "      <th>smoke</th>\n",
       "    </tr>\n",
       "  </thead>\n",
       "  <tbody>\n",
       "  </tbody>\n",
       "</table>\n",
       "</div>"
      ],
      "text/plain": [
       "Empty DataFrame\n",
       "Columns: [nih, lnm_tot, lnm_pos, lnm_neg, vlsm_tot, vlsm_pos, sp_corr_lnm, sp_corr_vlsm, lnm_tot_avg, lnm_pos_avg, lnm_neg_avg, vlsm_tot_avg, vlsm_pos_avg, l_size, subject, wm_total, wm_avg, sp_corr_wm, age, ethnicity, race, gender, education, handed, smoke]\n",
       "Index: []"
      ]
     },
     "execution_count": 173,
     "metadata": {},
     "output_type": "execute_result"
    }
   ],
   "source": [
    "nh_pi = pred[pred[\"race\"] == 2]\n",
    "nh_pi"
   ]
  },
  {
   "cell_type": "code",
   "execution_count": 68,
   "metadata": {},
   "outputs": [
    {
     "data": {
      "text/plain": [
       "60"
      ]
     },
     "execution_count": 68,
     "metadata": {},
     "output_type": "execute_result"
    }
   ],
   "source": [
    "b_aa = pred[pred[\"race\"] == 3]\n",
    "b_aa.shape[0]"
   ]
  },
  {
   "cell_type": "code",
   "execution_count": 126,
   "metadata": {},
   "outputs": [],
   "source": [
    "for i in range(len(var_names)):\n",
    "#     print(var_names[i])\n",
    "    model = smf.ols(formula= str(\"nih~\"+var_names[i]), data=b_aa).fit()\n",
    "#     print(model.summary())"
   ]
  },
  {
   "cell_type": "code",
   "execution_count": 69,
   "metadata": {},
   "outputs": [
    {
     "data": {
      "text/plain": [
       "28"
      ]
     },
     "execution_count": 69,
     "metadata": {},
     "output_type": "execute_result"
    }
   ],
   "source": [
    "wh = pred[pred[\"race\"] == 4]\n",
    "wh.shape[0]"
   ]
  },
  {
   "cell_type": "code",
   "execution_count": 129,
   "metadata": {},
   "outputs": [],
   "source": [
    "for i in range(len(var_names)):\n",
    "#     print(var_names[i])\n",
    "    model = smf.ols(formula= str(\"nih~\"+var_names[i]), data=wh).fit()\n",
    "#     print(model.summary())"
   ]
  },
  {
   "cell_type": "code",
   "execution_count": 71,
   "metadata": {},
   "outputs": [],
   "source": [
    "t = ss.ttest_ind(np.array(b_aa[\"nih\"]), np.array(wh[\"nih\"]), equal_var=False)\n",
    "# print(\"nih\")\n",
    "# print(t)\n",
    "# print()\n",
    "for i in range(len(var_names)):\n",
    "    t = ss.ttest_ind(np.array(b_aa[var_names[i]]), np.array(wh[var_names[i]]), equal_var=False)\n",
    "#     print(var_names[i])\n",
    "#     print(t)\n",
    "#     print()"
   ]
  },
  {
   "cell_type": "markdown",
   "metadata": {},
   "source": [
    "### Education"
   ]
  },
  {
   "cell_type": "code",
   "execution_count": 72,
   "metadata": {},
   "outputs": [
    {
     "data": {
      "text/plain": [
       "45"
      ]
     },
     "execution_count": 72,
     "metadata": {},
     "output_type": "execute_result"
    }
   ],
   "source": [
    "hs_less = pred[pred[\"education\"] <= 12]\n",
    "hs_less.shape[0]"
   ]
  },
  {
   "cell_type": "code",
   "execution_count": 183,
   "metadata": {},
   "outputs": [],
   "source": [
    "for i in range(len(var_names)):\n",
    "#     print(var_names[i])\n",
    "    model = smf.ols(formula= str(\"nih~\"+var_names[i]), data=hs_less).fit()\n",
    "#     print(model.summary())"
   ]
  },
  {
   "cell_type": "code",
   "execution_count": 73,
   "metadata": {},
   "outputs": [
    {
     "data": {
      "text/plain": [
       "43"
      ]
     },
     "execution_count": 73,
     "metadata": {},
     "output_type": "execute_result"
    }
   ],
   "source": [
    "more_hs = pred[pred[\"education\"] > 12]\n",
    "more_hs.shape[0]"
   ]
  },
  {
   "cell_type": "code",
   "execution_count": 186,
   "metadata": {},
   "outputs": [],
   "source": [
    "for i in range(len(var_names)):\n",
    "#     print(var_names[i])\n",
    "    model = smf.ols(formula= str(\"nih~\"+var_names[i]), data=more_hs).fit()\n",
    "#     print(model.summary())"
   ]
  },
  {
   "cell_type": "code",
   "execution_count": 76,
   "metadata": {},
   "outputs": [],
   "source": [
    "t = ss.ttest_ind(np.array(hs_less[\"nih\"]), np.array(more_hs[\"nih\"]), equal_var=False)\n",
    "# print(\"nih\")\n",
    "# print(t)\n",
    "# print()\n",
    "for i in range(len(var_names)):\n",
    "    t = ss.ttest_ind(np.array(hs_less[var_names[i]]), np.array(more_hs[var_names[i]]), equal_var=False)\n",
    "#     print(var_names[i])\n",
    "#     print(t)\n",
    "#     print()"
   ]
  },
  {
   "cell_type": "code",
   "execution_count": null,
   "metadata": {},
   "outputs": [],
   "source": []
  }
 ],
 "metadata": {
  "kernelspec": {
   "display_name": "Physics",
   "language": "python",
   "name": "physics"
  },
  "language_info": {
   "codemirror_mode": {
    "name": "ipython",
    "version": 3
   },
   "file_extension": ".py",
   "mimetype": "text/x-python",
   "name": "python",
   "nbconvert_exporter": "python",
   "pygments_lexer": "ipython3",
   "version": "3.8.5"
  }
 },
 "nbformat": 4,
 "nbformat_minor": 4
}
