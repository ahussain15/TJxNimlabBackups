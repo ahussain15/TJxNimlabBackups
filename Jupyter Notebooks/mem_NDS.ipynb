{
 "cells": [
  {
   "cell_type": "code",
   "execution_count": 1,
   "metadata": {},
   "outputs": [],
   "source": [
    "import pandas as pd\n",
    "import numpy as np\n",
    "import nibabel as ni\n",
    "import scipy.stats as ss"
   ]
  },
  {
   "cell_type": "code",
   "execution_count": 2,
   "metadata": {},
   "outputs": [],
   "source": [
    "pd.set_option(\"display.max_rows\", None)\n",
    "pd.set_option(\"display.max_columns\", None)\n",
    "pd.set_option(\"display.width\", None)\n",
    "pd.set_option(\"display.max_colwidth\", None)"
   ]
  },
  {
   "cell_type": "code",
   "execution_count": 3,
   "metadata": {},
   "outputs": [],
   "source": [
    "mem_ref = np.array(ni.load(\"memory_network_T_map.nii\").dataobj)"
   ]
  },
  {
   "cell_type": "code",
   "execution_count": 26,
   "metadata": {},
   "outputs": [],
   "source": [
    "mem_df = pd.read_csv(\"year_mem.csv\")\n",
    "ids = list(mem_df[\"study_id\"])"
   ]
  },
  {
   "cell_type": "code",
   "execution_count": 32,
   "metadata": {},
   "outputs": [],
   "source": [
    "NDS_all=[]\n",
    "NDS_pos_only=[]\n",
    "NDS_neg_only=[]\n",
    "\n",
    "NDS_all_avg=[]\n",
    "NDS_pos_only_avg=[]\n",
    "NDS_neg_only_avg=[]"
   ]
  },
  {
   "cell_type": "code",
   "execution_count": 28,
   "metadata": {},
   "outputs": [],
   "source": [
    "for i in ids:\n",
    "    try:\n",
    "        nw = np.array(ni.load(\"brain_lesion_networks/\"+i+\"_A_lesion_ifhfix_func_seed_T.nii\").dataobj)\n",
    "    except:\n",
    "        nw = np.array(ni.load(\"brain_lesion_networks/\"+i+\"_A_lesion_func_seed_T.nii\").dataobj)\n",
    "    tot = []\n",
    "    pos = []\n",
    "    neg = []\n",
    "    for x in range(len(nw)):\n",
    "        for y in range(len(nw[x])):\n",
    "            for z in range(len(nw[x][y])):\n",
    "                if mem_ref[x, y, z] != 0:\n",
    "                    tot.append(nw[x, y, z])\n",
    "                    if nw[x, y, z] > 0:\n",
    "                        pos.append(nw[x, y, z])\n",
    "                    if nw[x, y, z] < 0:\n",
    "                        neg.append(nw[x, y, z])\n",
    "    NDS_all.append(np.sum(np.array(tot)))\n",
    "    NDS_pos_only.append(np.sum(np.array(pos)))\n",
    "    NDS_neg_only.append(np.sum(np.array(neg)))\n",
    "    NDS_all_avg.append(np.mean(np.array(tot)))\n",
    "    if len(pos) > 0:\n",
    "        NDS_pos_only_avg.append(np.mean(np.array(pos)))\n",
    "    else:\n",
    "        NDS_pos_only_avg.append(0)\n",
    "    if len(neg) > 0:\n",
    "        NDS_neg_only_avg.append(np.mean(np.array(neg)))\n",
    "    else:\n",
    "        NDS_neg_only_avg.append(0)"
   ]
  },
  {
   "cell_type": "code",
   "execution_count": 33,
   "metadata": {},
   "outputs": [],
   "source": [
    "for i in ids:\n",
    "    try:\n",
    "        lesion = np.array(ni.load(\"brain_lesions/\"+i+\"_A_lesion_ifhfix.nii\").dataobj)\n",
    "    except:\n",
    "        lesion = np.array(ni.load(\"brain_lesions/\"+i+\"_A_lesion.nii\").dataobj)\n",
    "    tot = []\n",
    "    pos = []\n",
    "    neg = []\n",
    "    for x in range(len(lesion)):\n",
    "        for y in range(len(lesion[x])):\n",
    "            for z in range(len(lesion[x][y])):\n",
    "                if lesion[x, y, z] != 0:\n",
    "                    tot.append(mem_ref[x, y, z])\n",
    "                    if mem_ref[x, y, z] > 0:\n",
    "                        pos.append(mem_ref[x, y, z])\n",
    "                    if mem_ref[x, y, z] < 0:\n",
    "                        neg.append(mem_ref[x, y, z])\n",
    "    NDS_all.append(np.sum(np.array(tot)))\n",
    "    NDS_pos_only.append(np.sum(np.array(pos)))\n",
    "    NDS_neg_only.append(np.sum(np.array(neg)))\n",
    "    NDS_all_avg.append(np.mean(np.array(tot)))\n",
    "    if len(pos) > 0:\n",
    "        NDS_pos_only_avg.append(np.mean(np.array(pos)))\n",
    "    else:\n",
    "        NDS_pos_only_avg.append(0)\n",
    "    if len(neg) > 0:\n",
    "        NDS_neg_only_avg.append(np.mean(np.array(neg)))\n",
    "    else:\n",
    "        NDS_neg_only_avg.append(0)"
   ]
  },
  {
   "cell_type": "code",
   "execution_count": 34,
   "metadata": {},
   "outputs": [],
   "source": [
    "mem_df[\"mem_NDS_true_tot\"] = NDS_all\n",
    "mem_df[\"mem_NDS_true_pos_only\"] = NDS_pos_only\n",
    "mem_df[\"mem_NDS_true_neg_only\"] = NDS_neg_only\n",
    "\n",
    "mem_df[\"mem_NDS_true_tot_avg\"] = NDS_all_avg\n",
    "mem_df[\"mem_NDS_true_pos_avg\"] = NDS_pos_only_avg\n",
    "mem_df[\"mem_NDS_true_neg_avg\"] = NDS_neg_only_avg"
   ]
  },
  {
   "cell_type": "code",
   "execution_count": 29,
   "metadata": {},
   "outputs": [],
   "source": [
    "mem_df[\"mem_NDS_tot\"] = NDS_all\n",
    "mem_df[\"mem_NDS_pos_only\"] = NDS_pos_only\n",
    "mem_df[\"mem_NDS_neg_only\"] = NDS_neg_only\n",
    "\n",
    "mem_df[\"mem_NDS_tot_avg\"] = NDS_all_avg\n",
    "mem_df[\"mem_NDS_pos_avg\"] = NDS_pos_only_avg\n",
    "mem_df[\"mem_NDS_neg_avg\"] = NDS_neg_only_avg"
   ]
  },
  {
   "cell_type": "code",
   "execution_count": 30,
   "metadata": {},
   "outputs": [],
   "source": [
    "mem_corr = []\n",
    "for i in ids:\n",
    "    try:\n",
    "        nw = np.array(ni.load(\"brain_lesion_networks/\"+i+\"_A_lesion_ifhfix_func_seed_T.nii\").dataobj)\n",
    "    except:\n",
    "        nw = np.array(ni.load(\"brain_lesion_networks/\"+i+\"_A_lesion_func_seed_T.nii\").dataobj)\n",
    "    ind_corr = []\n",
    "    ref_corr = []\n",
    "    for x in range(len(nw)):\n",
    "        for y in range(len(nw[x])):\n",
    "            for z in range(len(nw[x][y])):\n",
    "                if mem_ref[x, y, z] != 0:\n",
    "                    ind_corr.append(nw[x, y, z])\n",
    "                    ref_corr.append(mem_ref[x, y, z])\n",
    "    mem_corr.append(ss.pearsonr(ind_corr, ref_corr)[0])\n",
    "mem_df[\"mem_sp_corr\"] = mem_corr"
   ]
  },
  {
   "cell_type": "code",
   "execution_count": 35,
   "metadata": {},
   "outputs": [],
   "source": [
    "mem_df.to_csv(\"year_mem.csv\", index=False)"
   ]
  },
  {
   "cell_type": "code",
   "execution_count": null,
   "metadata": {},
   "outputs": [],
   "source": []
  }
 ],
 "metadata": {
  "kernelspec": {
   "display_name": "Machine-Learning",
   "language": "python",
   "name": "ml"
  },
  "language_info": {
   "codemirror_mode": {
    "name": "ipython",
    "version": 3
   },
   "file_extension": ".py",
   "mimetype": "text/x-python",
   "name": "python",
   "nbconvert_exporter": "python",
   "pygments_lexer": "ipython3",
   "version": "3.8.5"
  }
 },
 "nbformat": 4,
 "nbformat_minor": 4
}
