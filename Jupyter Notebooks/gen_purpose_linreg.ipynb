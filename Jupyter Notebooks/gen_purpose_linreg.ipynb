{
 "cells": [
  {
   "cell_type": "code",
   "execution_count": 1,
   "metadata": {},
   "outputs": [],
   "source": [
    "import pandas as pd\n",
    "import numpy as np\n",
    "import nibabel as ni\n",
    "import matplotlib.pyplot as plt\n",
    "import statsmodels.api as sm\n",
    "import statsmodels.formula.api as smf\n",
    "from statsmodels.stats.outliers_influence import variance_inflation_factor\n",
    "# import seaborn as sns"
   ]
  },
  {
   "cell_type": "code",
   "execution_count": 2,
   "metadata": {},
   "outputs": [],
   "source": [
    "pd.set_option(\"display.max_rows\", None)\n",
    "pd.set_option(\"display.max_columns\", None)\n",
    "pd.set_option(\"display.width\", None)\n",
    "pd.set_option(\"display.max_colwidth\", None)"
   ]
  },
  {
   "cell_type": "code",
   "execution_count": 3,
   "metadata": {},
   "outputs": [],
   "source": [
    "df = pd.read_csv(\"mgh_vars.csv\")"
   ]
  },
  {
   "cell_type": "code",
   "execution_count": 45,
   "metadata": {},
   "outputs": [],
   "source": [
    "var_names = [\"lnm_tot\", \"lnm_pos\", \"lnm_neg\", \"vlsm_tot\", \"wm_total\", \"lnm_tot_avg\", \"lnm_pos_avg\", \"lnm_neg_avg\", \"vlsm_tot_avg\", \"vlsm_pos_avg\", \"wm_avg\", \"sp_corr_lnm\", \"sp_corr_vlsm\", \"sp_corr_wm\", \"l_size\"] #sp_corr_vlsm and sp_corr_lnm for sp corr vars amd \"wm_total\", \"wm_avg\", \"sp_corr_wm\" for wm vars\n",
    "#var_names = [\"lnm_tot\", \"lnm_pos\", \"lnm_neg\", \"vlsm_tot\", \"lnm_tot_avg\", \"lnm_pos_avg\", \"lnm_neg_avg\", \"vlsm_tot_avg\", \"vlsm_pos_avg\", \"sp_corr_lnm\", \"sp_corr_vlsm\", \"l_size\"] #sp_corr_vlsm and sp_corr_lnm for sp corr vars amd \"wm_total\", \"wm_avg\", \"sp_corr_wm\" for wm vars"
   ]
  },
  {
   "cell_type": "code",
   "execution_count": 5,
   "metadata": {},
   "outputs": [],
   "source": [
    "plt.rcParams['figure.figsize'] = [8, 6]\n",
    "plt.rcParams['figure.dpi'] = 100"
   ]
  },
  {
   "cell_type": "code",
   "execution_count": 16,
   "metadata": {},
   "outputs": [],
   "source": [
    "for i in range(len(var_names)):\n",
    "    model = smf.ols(formula= str(\"nih\"+\"~\"+var_names[i]), data=df).fit()\n",
    "#     print(var_names[i])\n",
    "#     print()\n",
    "#     sm.graphics.plot_regress_exog(model, var_names[i])\n",
    "#     plt.show()\n",
    "#     print(model.summary())\n",
    "#     print()"
   ]
  },
  {
   "cell_type": "code",
   "execution_count": 4,
   "metadata": {},
   "outputs": [
    {
     "ename": "NameError",
     "evalue": "name 'df' is not defined",
     "output_type": "error",
     "traceback": [
      "\u001b[0;31m---------------------------------------------------------------------------\u001b[0m",
      "\u001b[0;31mNameError\u001b[0m                                 Traceback (most recent call last)",
      "\u001b[0;32m<ipython-input-4-a14e54e33376>\u001b[0m in \u001b[0;36m<module>\u001b[0;34m\u001b[0m\n\u001b[1;32m      2\u001b[0m     \u001b[0;32mfor\u001b[0m \u001b[0mii\u001b[0m \u001b[0;32min\u001b[0m \u001b[0mrange\u001b[0m\u001b[0;34m(\u001b[0m\u001b[0mlen\u001b[0m\u001b[0;34m(\u001b[0m\u001b[0mvar_names\u001b[0m\u001b[0;34m)\u001b[0m\u001b[0;34m)\u001b[0m\u001b[0;34m:\u001b[0m\u001b[0;34m\u001b[0m\u001b[0;34m\u001b[0m\u001b[0m\n\u001b[1;32m      3\u001b[0m         \u001b[0;32mif\u001b[0m \u001b[0mi\u001b[0m \u001b[0;34m!=\u001b[0m \u001b[0mii\u001b[0m \u001b[0;32mand\u001b[0m \u001b[0mi\u001b[0m \u001b[0;34m<\u001b[0m \u001b[0mii\u001b[0m \u001b[0;32mand\u001b[0m \u001b[0;34m(\u001b[0m\u001b[0mi\u001b[0m \u001b[0;34m==\u001b[0m \u001b[0;36m4\u001b[0m \u001b[0;32mor\u001b[0m \u001b[0mii\u001b[0m \u001b[0;34m==\u001b[0m \u001b[0;36m4\u001b[0m \u001b[0;32mor\u001b[0m \u001b[0mi\u001b[0m \u001b[0;34m==\u001b[0m \u001b[0;36m10\u001b[0m \u001b[0;32mor\u001b[0m \u001b[0mii\u001b[0m \u001b[0;34m==\u001b[0m \u001b[0;36m10\u001b[0m\u001b[0;34m)\u001b[0m\u001b[0;34m:\u001b[0m\u001b[0;34m\u001b[0m\u001b[0;34m\u001b[0m\u001b[0m\n\u001b[0;32m----> 4\u001b[0;31m             \u001b[0mmodel\u001b[0m \u001b[0;34m=\u001b[0m \u001b[0msmf\u001b[0m\u001b[0;34m.\u001b[0m\u001b[0mols\u001b[0m\u001b[0;34m(\u001b[0m\u001b[0mformula\u001b[0m\u001b[0;34m=\u001b[0m \u001b[0mstr\u001b[0m\u001b[0;34m(\u001b[0m\u001b[0;34m\"nih~\"\u001b[0m\u001b[0;34m+\u001b[0m\u001b[0mvar_names\u001b[0m\u001b[0;34m[\u001b[0m\u001b[0mi\u001b[0m\u001b[0;34m]\u001b[0m\u001b[0;34m+\u001b[0m\u001b[0;34m\"+\"\u001b[0m\u001b[0;34m+\u001b[0m\u001b[0mvar_names\u001b[0m\u001b[0;34m[\u001b[0m\u001b[0mii\u001b[0m\u001b[0;34m]\u001b[0m\u001b[0;34m)\u001b[0m\u001b[0;34m,\u001b[0m \u001b[0mdata\u001b[0m\u001b[0;34m=\u001b[0m\u001b[0mdf\u001b[0m\u001b[0;34m)\u001b[0m\u001b[0;34m.\u001b[0m\u001b[0mfit\u001b[0m\u001b[0;34m(\u001b[0m\u001b[0;34m)\u001b[0m\u001b[0;34m\u001b[0m\u001b[0;34m\u001b[0m\u001b[0m\n\u001b[0m\u001b[1;32m      5\u001b[0m \u001b[0;31m#             print(var_names[i])\u001b[0m\u001b[0;34m\u001b[0m\u001b[0;34m\u001b[0m\u001b[0;34m\u001b[0m\u001b[0m\n\u001b[1;32m      6\u001b[0m \u001b[0;31m#             print(var_names[ii])\u001b[0m\u001b[0;34m\u001b[0m\u001b[0;34m\u001b[0m\u001b[0;34m\u001b[0m\u001b[0m\n",
      "\u001b[0;31mNameError\u001b[0m: name 'df' is not defined"
     ]
    }
   ],
   "source": [
    "for i in range(len(var_names)):\n",
    "    for ii in range(len(var_names)):\n",
    "        if i != ii and i < ii and (i == 4 or ii == 4 or i == 10 or ii == 10):\n",
    "            model = smf.ols(formula= str(\"nih~\"+var_names[i]+\"+\"+var_names[ii]), data=df).fit()\n",
    "#             print(var_names[i])\n",
    "#             print(var_names[ii])\n",
    "#             print()\n",
    "#             print(model.summary())\n",
    "#             print()"
   ]
  },
  {
   "cell_type": "code",
   "execution_count": 47,
   "metadata": {},
   "outputs": [
    {
     "name": "stdout",
     "output_type": "stream",
     "text": [
      "                            OLS Regression Results                            \n",
      "==============================================================================\n",
      "Dep. Variable:                    nih   R-squared:                       0.278\n",
      "Model:                            OLS   Adj. R-squared:                  0.274\n",
      "Method:                 Least Squares   F-statistic:                     62.12\n",
      "Date:                Fri, 30 Apr 2021   Prob (F-statistic):           5.43e-34\n",
      "Time:                        21:52:17   Log-Likelihood:                -1525.6\n",
      "No. Observations:                 488   AIC:                             3059.\n",
      "Df Residuals:                     484   BIC:                             3076.\n",
      "Df Model:                           3                                         \n",
      "Covariance Type:            nonrobust                                         \n",
      "==============================================================================\n",
      "                 coef    std err          t      P>|t|      [0.025      0.975]\n",
      "------------------------------------------------------------------------------\n",
      "Intercept      3.2979      0.298     11.063      0.000       2.712       3.884\n",
      "lnm_pos    -5.827e-05   7.45e-05     -0.782      0.435      -0.000    8.81e-05\n",
      "vlsm_tot       0.0003      0.000      1.824      0.069   -2.59e-05       0.001\n",
      "wm_total       0.0002   7.64e-05      3.018      0.003    8.04e-05       0.000\n",
      "==============================================================================\n",
      "Omnibus:                      211.432   Durbin-Watson:                   1.892\n",
      "Prob(Omnibus):                  0.000   Jarque-Bera (JB):              997.678\n",
      "Skew:                           1.898   Prob(JB):                    2.27e-217\n",
      "Kurtosis:                       8.887   Cond. No.                     3.17e+04\n",
      "==============================================================================\n",
      "\n",
      "Notes:\n",
      "[1] Standard Errors assume that the covariance matrix of the errors is correctly specified.\n",
      "[2] The condition number is large, 3.17e+04. This might indicate that there are\n",
      "strong multicollinearity or other numerical problems.\n"
     ]
    }
   ],
   "source": [
    "model = smf.ols(formula=\"nih~lnm_pos+vlsm_tot+wm_total\", data=df).fit()\n",
    "print(model.summary())"
   ]
  },
  {
   "cell_type": "code",
   "execution_count": 35,
   "metadata": {},
   "outputs": [],
   "source": [
    "all_vars = \"+\".join(var_names)\n",
    "model = smf.ols(formula= str(\"nih~\"+all_vars), data=df).fit()\n",
    "# print(model.summary())\n",
    "# print()"
   ]
  },
  {
   "cell_type": "markdown",
   "metadata": {},
   "source": [
    "### Level 1 - Simple"
   ]
  },
  {
   "cell_type": "code",
   "execution_count": 4,
   "metadata": {},
   "outputs": [],
   "source": [
    "simple = \"nih~l_size+vlsm_tot_avg+lnm_pos_avg+lnm_neg_avg+sp_corr_lnm+wm_avg\"\n",
    "model = smf.ols(formula=simple, data=df).fit()\n",
    "# print(model.summary())"
   ]
  },
  {
   "cell_type": "code",
   "execution_count": 5,
   "metadata": {},
   "outputs": [],
   "source": [
    "plt.rcParams['figure.figsize'] = [12, 6]\n",
    "plt.rcParams['figure.dpi'] = 100"
   ]
  },
  {
   "cell_type": "code",
   "execution_count": 6,
   "metadata": {},
   "outputs": [],
   "source": [
    "sim_ls = [\"l_size\",\"vlsm_tot_avg\",\"lnm_pos_avg\",\"lnm_neg_avg\",\"sp_corr_lnm\", \"wm_avg\"]\n",
    "# for i in range(len(sim_ls)):\n",
    "#     sm.graphics.plot_regress_exog(model, sim_ls[i])\n",
    "#     plt.show()"
   ]
  },
  {
   "cell_type": "markdown",
   "metadata": {},
   "source": [
    "### Level 2 - Lesion Size * Vars"
   ]
  },
  {
   "cell_type": "code",
   "execution_count": 7,
   "metadata": {},
   "outputs": [],
   "source": [
    "df[\"l_size_x_vlsm_tot_avg\"] = df[\"l_size\"] * df[\"vlsm_tot_avg\"]\n",
    "df[\"l_size_x_lnm_pos_avg\"] = df[\"l_size\"] * df[\"lnm_pos_avg\"]\n",
    "df[\"l_size_x_lnm_neg_avg\"] = df[\"l_size\"] * df[\"lnm_neg_avg\"]\n",
    "df[\"l_size_x_sp_corr_lnm\"] = df[\"l_size\"] * df[\"sp_corr_lnm\"]\n",
    "df[\"l_size_x_wm_avg\"] = df[\"l_size\"] * df[\"wm_avg\"]"
   ]
  },
  {
   "cell_type": "code",
   "execution_count": 8,
   "metadata": {},
   "outputs": [],
   "source": [
    "size_multi = simple+\"+l_size_x_vlsm_tot_avg+l_size_x_lnm_pos_avg+l_size_x_lnm_neg_avg+l_size_x_sp_corr_lnm+l_size_x_wm_avg\"\n",
    "model = smf.ols(formula=size_multi, data=df).fit()\n",
    "# print(model.summary())"
   ]
  },
  {
   "cell_type": "code",
   "execution_count": 10,
   "metadata": {},
   "outputs": [],
   "source": [
    "sm_ls = sim_ls+[\"l_size_x_vlsm_tot_avg\",\"l_size_x_lnm_pos_avg\",\"l_size_x_lnm_neg_avg\",\"l_size_x_sp_corr_lnm\",\"l_size_x_wm_avg\"]\n",
    "# for i in range(len(sm_ls)):\n",
    "#     sm.graphics.plot_regress_exog(model, sm_ls[i])\n",
    "#     plt.show()"
   ]
  },
  {
   "cell_type": "markdown",
   "metadata": {},
   "source": [
    "### Level 3 - Totals"
   ]
  },
  {
   "cell_type": "code",
   "execution_count": 11,
   "metadata": {},
   "outputs": [],
   "source": [
    "totals = simple+\"+vlsm_tot+lnm_pos+lnm_neg+wm_total+l_size_x_sp_corr_lnm\"\n",
    "model = smf.ols(formula=totals, data=df).fit()\n",
    "# print(model.summary())"
   ]
  },
  {
   "cell_type": "code",
   "execution_count": 13,
   "metadata": {},
   "outputs": [],
   "source": [
    "tt_ls = sim_ls+[\"vlsm_tot\",\"lnm_pos\",\"lnm_neg\",\"wm_total\",\"l_size_x_sp_corr_lnm\"]\n",
    "# for i in range(len(tt_ls)):\n",
    "#     sm.graphics.plot_regress_exog(model, tt_ls[i])\n",
    "#     plt.show()"
   ]
  },
  {
   "cell_type": "markdown",
   "metadata": {},
   "source": [
    "## Training and Testing"
   ]
  },
  {
   "cell_type": "code",
   "execution_count": 10,
   "metadata": {},
   "outputs": [],
   "source": [
    "tr = pd.read_csv(\"acute_vars.csv\")\n",
    "te = pd.read_csv(\"mgh_vars.csv\")"
   ]
  },
  {
   "cell_type": "code",
   "execution_count": 12,
   "metadata": {},
   "outputs": [],
   "source": [
    "for1 = \"nih~l_size+vlsm_tot_avg+lnm_pos_avg+lnm_neg_avg\"\n",
    "model = smf.ols(formula=for1, data=tr).fit()\n",
    "# print(model.summary())"
   ]
  },
  {
   "cell_type": "code",
   "execution_count": 101,
   "metadata": {},
   "outputs": [],
   "source": [
    "for1 = \"nih~l_size+vlsm_tot_avg+lnm_pos_avg+lnm_neg_avg\"\n",
    "model = smf.ols(formula=for1, data=df).fit()\n",
    "# print(model.summary())"
   ]
  },
  {
   "cell_type": "code",
   "execution_count": 97,
   "metadata": {},
   "outputs": [],
   "source": [
    "yhat = np.array(model.predict(te[[\"l_size\", \"vlsm_tot_avg\", \"lnm_pos_avg\", \"lnm_neg_avg\"]]))\n",
    "y = np.array(te[\"nih\"])"
   ]
  },
  {
   "cell_type": "code",
   "execution_count": 13,
   "metadata": {},
   "outputs": [],
   "source": [
    "def coeff_det(y, yhat):\n",
    "    ybar = np.mean(y)\n",
    "    sse = np.sum(np.square(np.subtract(y, yhat)))\n",
    "    sst = np.sum(np.square(y - ybar))\n",
    "    return (1 - sse/sst)"
   ]
  },
  {
   "cell_type": "code",
   "execution_count": 102,
   "metadata": {},
   "outputs": [],
   "source": [
    "r2 = coeff_det(y, yhat)\n",
    "# print(r2)"
   ]
  },
  {
   "cell_type": "code",
   "execution_count": 62,
   "metadata": {},
   "outputs": [],
   "source": [
    "# for2 = \"nih~l_size+vlsm_tot_avg+sp_corr_lnm+sp_corr_vlsm\"\n",
    "# model = smf.ols(formula=for2, data=tr).fit()\n",
    "# print(model.summary())"
   ]
  },
  {
   "cell_type": "code",
   "execution_count": 15,
   "metadata": {},
   "outputs": [],
   "source": [
    "yhat = np.array(model.predict(te[[\"l_size\", \"vlsm_tot_avg\", \"sp_corr_lnm\", \"sp_corr_vlsm\"]]))\n",
    "y = np.array(te[\"nih\"])"
   ]
  },
  {
   "cell_type": "code",
   "execution_count": 16,
   "metadata": {},
   "outputs": [
    {
     "name": "stdout",
     "output_type": "stream",
     "text": [
      "0.2485004698527623\n"
     ]
    }
   ],
   "source": [
    "r2 = coeff_det(y, yhat)\n",
    "print(r2)"
   ]
  },
  {
   "cell_type": "code",
   "execution_count": 18,
   "metadata": {},
   "outputs": [],
   "source": [
    "for2 = \"nih~l_size+vlsm_tot_avg+sp_corr_lnm+sp_corr_vlsm\"\n",
    "model = smf.ols(formula=for2, data=te).fit()\n",
    "# print(model.summary())"
   ]
  },
  {
   "cell_type": "code",
   "execution_count": 63,
   "metadata": {},
   "outputs": [],
   "source": [
    "# sc_only = \"nih~sp_corr_lnm+sp_corr_vlsm\"\n",
    "# model = smf.ols(formula=sc_only, data=tr).fit()\n",
    "# print(model.summary())"
   ]
  },
  {
   "cell_type": "code",
   "execution_count": 20,
   "metadata": {},
   "outputs": [],
   "source": [
    "yhat = np.array(model.predict(te[[\"sp_corr_lnm\", \"sp_corr_vlsm\"]]))\n",
    "y = np.array(te[\"nih\"])"
   ]
  },
  {
   "cell_type": "code",
   "execution_count": 21,
   "metadata": {},
   "outputs": [
    {
     "name": "stdout",
     "output_type": "stream",
     "text": [
      "0.03754877949130486\n"
     ]
    }
   ],
   "source": [
    "r2 = coeff_det(y, yhat)\n",
    "print(r2)"
   ]
  },
  {
   "cell_type": "code",
   "execution_count": 64,
   "metadata": {},
   "outputs": [],
   "source": [
    "# sc_only = \"nih~sp_corr_lnm+sp_corr_vlsm\"\n",
    "# model = smf.ols(formula=sc_only, data=te).fit()\n",
    "# print(model.summary())"
   ]
  },
  {
   "cell_type": "code",
   "execution_count": 14,
   "metadata": {},
   "outputs": [],
   "source": [
    "avg_only = \"nih~vlsm_tot_avg+lnm_pos_avg+lnm_neg_avg\"\n",
    "model = smf.ols(formula=avg_only, data=tr).fit()\n",
    "# print(model.summary())"
   ]
  },
  {
   "cell_type": "code",
   "execution_count": 15,
   "metadata": {},
   "outputs": [],
   "source": [
    "yhat = np.array(model.predict(te[[\"vlsm_tot_avg\", \"lnm_pos_avg\", \"lnm_neg_avg\"]]))\n",
    "y = np.array(te[\"nih\"])"
   ]
  },
  {
   "cell_type": "code",
   "execution_count": 16,
   "metadata": {},
   "outputs": [
    {
     "name": "stdout",
     "output_type": "stream",
     "text": [
      "0.08067500384147286\n"
     ]
    }
   ],
   "source": [
    "r2 = coeff_det(y, yhat)\n",
    "print(r2)"
   ]
  },
  {
   "cell_type": "code",
   "execution_count": 18,
   "metadata": {},
   "outputs": [],
   "source": [
    "avg_only = \"nih~vlsm_tot_avg+lnm_pos_avg+lnm_neg_avg\"\n",
    "model = smf.ols(formula=avg_only, data=te).fit()\n",
    "# print(model.summary())"
   ]
  },
  {
   "cell_type": "code",
   "execution_count": 65,
   "metadata": {},
   "outputs": [],
   "source": [
    "# sc_size = \"nih~sp_corr_lnm+sp_corr_vlsm+l_size\"\n",
    "# model = smf.ols(formula=sc_size, data=tr).fit()\n",
    "# print(model.summary())"
   ]
  },
  {
   "cell_type": "code",
   "execution_count": 24,
   "metadata": {},
   "outputs": [],
   "source": [
    "yhat = np.array(model.predict(te[[\"sp_corr_lnm\", \"sp_corr_vlsm\", \"l_size\"]]))\n",
    "y = np.array(te[\"nih\"])"
   ]
  },
  {
   "cell_type": "code",
   "execution_count": 25,
   "metadata": {},
   "outputs": [
    {
     "name": "stdout",
     "output_type": "stream",
     "text": [
      "0.24544329616263638\n"
     ]
    }
   ],
   "source": [
    "r2 = coeff_det(y, yhat)\n",
    "print(r2)"
   ]
  },
  {
   "cell_type": "code",
   "execution_count": 66,
   "metadata": {},
   "outputs": [],
   "source": [
    "# sc_size = \"nih~sp_corr_lnm+sp_corr_vlsm+l_size\"\n",
    "# model = smf.ols(formula=sc_size, data=te).fit()\n",
    "# print(model.summary())"
   ]
  },
  {
   "cell_type": "markdown",
   "metadata": {},
   "source": [
    "### Memory Specific "
   ]
  },
  {
   "cell_type": "code",
   "execution_count": 22,
   "metadata": {},
   "outputs": [],
   "source": [
    "mem_df = pd.read_csv(\"year_mem.csv\")"
   ]
  },
  {
   "cell_type": "code",
   "execution_count": 14,
   "metadata": {},
   "outputs": [],
   "source": [
    "mem_NDS = [\"mem_NDS_tot\", \"mem_NDS_pos_only\", \"mem_NDS_neg_only\", \"mem_NDS_tot_avg\", \"mem_NDS_pos_avg\", \"mem_NDS_neg_avg\", \"mem_NDS_true_tot\", \"mem_NDS_true_pos_only\", \"mem_NDS_true_neg_only\", \"mem_NDS_true_tot_avg\", \"mem_NDS_true_pos_avg\", \"mem_NDS_true_neg_avg\", \"mem_sp_corr\"]"
   ]
  },
  {
   "cell_type": "code",
   "execution_count": 24,
   "metadata": {},
   "outputs": [],
   "source": [
    "for x in mem_NDS:\n",
    "    model = smf.ols(formula= str(\"revised_memv_factor\"+\"~\"+x), data=mem_df).fit()\n",
    "#     print(x)\n",
    "#     print()\n",
    "#     print(model.summary())\n",
    "#     print()"
   ]
  },
  {
   "cell_type": "code",
   "execution_count": 26,
   "metadata": {},
   "outputs": [],
   "source": [
    "for x in mem_NDS:\n",
    "    model = smf.ols(formula= str(\"revised_mems_factor\"+\"~\"+x), data=mem_df).fit()\n",
    "#     print(x)\n",
    "#     print()\n",
    "#     print(model.summary())\n",
    "#     print()"
   ]
  },
  {
   "cell_type": "code",
   "execution_count": 27,
   "metadata": {},
   "outputs": [],
   "source": [
    "all_vars = pd.read_csv(\"year_full_beh.csv\")\n",
    "subjects = list(mem_df[\"study_id\"])\n",
    "nih = []\n",
    "for s in subjects:\n",
    "    nih.append(float(all_vars.loc[all_vars.study_id == s, \"nih_total\"]))\n",
    "mem_df[\"nih\"] = nih"
   ]
  },
  {
   "cell_type": "code",
   "execution_count": 29,
   "metadata": {},
   "outputs": [],
   "source": [
    "for x in mem_NDS:\n",
    "    model = smf.ols(formula= str(\"nih\"+\"~\"+x), data=mem_df).fit()\n",
    "#     print(x)\n",
    "#     print()\n",
    "#     print(model.summary())\n",
    "#     print()"
   ]
  },
  {
   "cell_type": "markdown",
   "metadata": {},
   "source": [
    "### Corrected Spatial Correlations"
   ]
  },
  {
   "cell_type": "code",
   "execution_count": 9,
   "metadata": {},
   "outputs": [],
   "source": [
    "mgh = pd.read_csv(\"mgh_vars.csv\")\n",
    "model = smf.ols(formula=\"nih~sp_corr_lnm\", data=mgh).fit()\n",
    "# print(model.summary())\n",
    "model = smf.ols(formula=\"nih~sp_corr_vlsm\", data=mgh).fit()\n",
    "# print(model.summary())"
   ]
  },
  {
   "cell_type": "markdown",
   "metadata": {},
   "source": [
    "### CV Correlations and Shrinkage"
   ]
  },
  {
   "cell_type": "code",
   "execution_count": 82,
   "metadata": {},
   "outputs": [],
   "source": [
    "dataset = \"mgh\""
   ]
  },
  {
   "cell_type": "code",
   "execution_count": 83,
   "metadata": {},
   "outputs": [],
   "source": [
    "corb = pd.read_csv(dataset+\"_vars.csv\")\n",
    "mgh = pd.read_csv(dataset+\"_vars_cv.csv\")"
   ]
  },
  {
   "cell_type": "code",
   "execution_count": 84,
   "metadata": {},
   "outputs": [],
   "source": [
    "r2vals = pd.DataFrame(columns=[\"corb1\", \"mgh1\", \"corb2\", \"mgh2\", \"corb_all\", \"mgh_all\"])"
   ]
  },
  {
   "cell_type": "code",
   "execution_count": 85,
   "metadata": {},
   "outputs": [],
   "source": [
    "corb1_r = []\n",
    "mgh1_r = []\n",
    "for i in range(len(var_names)):\n",
    "    model_corb = smf.ols(formula= str(\"nih\"+\"~\"+var_names[i]), data=corb).fit()\n",
    "    model_mgh = smf.ols(formula= str(\"nih\"+\"~\"+var_names[i]), data=mgh).fit()\n",
    "    corb1_r.append(model_corb.rsquared)\n",
    "    mgh1_r.append(model_mgh.rsquared)"
   ]
  },
  {
   "cell_type": "code",
   "execution_count": 86,
   "metadata": {},
   "outputs": [],
   "source": [
    "corb2_r = []\n",
    "mgh2_r = []\n",
    "for i in range(len(var_names)):\n",
    "    for ii in range(len(var_names)):\n",
    "        if i != ii and i < ii:\n",
    "            model_corb = smf.ols(formula= str(\"nih~\"+var_names[i]+\"+\"+var_names[ii]), data=corb).fit()\n",
    "            model_mgh = smf.ols(formula= str(\"nih~\"+var_names[i]+\"+\"+var_names[ii]), data=mgh).fit()\n",
    "            corb2_r.append(model_corb.rsquared)\n",
    "            mgh2_r.append(model_mgh.rsquared)"
   ]
  },
  {
   "cell_type": "code",
   "execution_count": 87,
   "metadata": {},
   "outputs": [],
   "source": [
    "corb_all = corb1_r + corb2_r\n",
    "mgh_all = mgh1_r + mgh2_r"
   ]
  },
  {
   "cell_type": "code",
   "execution_count": 88,
   "metadata": {},
   "outputs": [],
   "source": [
    "r2vals[\"corb_all\"] = pd.Series(corb_all)\n",
    "r2vals[\"mgh_all\"] = pd.Series(mgh_all)\n",
    "r2vals[\"corb2\"] = pd.Series(corb2_r)\n",
    "r2vals[\"mgh2\"] = pd.Series(mgh2_r)\n",
    "r2vals[\"corb1\"] = pd.Series(corb1_r)\n",
    "r2vals[\"mgh1\"] = pd.Series(mgh1_r)"
   ]
  },
  {
   "cell_type": "code",
   "execution_count": 52,
   "metadata": {},
   "outputs": [],
   "source": [
    "# print(\"Single Regression\")\n",
    "# model = smf.ols(formula=\"mgh1~corb1\", data=r2vals).fit()\n",
    "# print(model.summary())\n",
    "# print()\n",
    "# print(\"Double Regression\")\n",
    "# model = smf.ols(formula=\"mgh2~corb2\", data=r2vals).fit()\n",
    "# print(model.summary())\n",
    "# print()\n",
    "# print(\"All Regression\")\n",
    "# model = smf.ols(formula=\"mgh_all~corb_all\", data=r2vals).fit()\n",
    "# print(model.summary())\n",
    "# print()"
   ]
  },
  {
   "cell_type": "code",
   "execution_count": 89,
   "metadata": {},
   "outputs": [],
   "source": [
    "corb_vars = [\"corb_\"+k for k in var_names]\n",
    "mgh_vars = [\"mgh_\"+k for k in var_names]\n",
    "all_vars = corb_vars + mgh_vars\n",
    "vars_df = pd.DataFrame(columns=all_vars)"
   ]
  },
  {
   "cell_type": "code",
   "execution_count": 91,
   "metadata": {},
   "outputs": [],
   "source": [
    "# for k in var_names:\n",
    "#     vars_df[\"corb_\"+k] = corb[k]\n",
    "#     vars_df[\"mgh_\"+k] = mgh[k]\n",
    "#     model = smf.ols(formula=str(\"mgh_\"+k+\"~corb_\"+k), data=vars_df).fit()\n",
    "#     print(k)\n",
    "#     print(model.summary())\n",
    "#     print()"
   ]
  },
  {
   "cell_type": "markdown",
   "metadata": {},
   "source": [
    "### Find Highest R-squared"
   ]
  },
  {
   "cell_type": "code",
   "execution_count": 33,
   "metadata": {},
   "outputs": [],
   "source": [
    "dataset = \"mgh\""
   ]
  },
  {
   "cell_type": "code",
   "execution_count": 34,
   "metadata": {},
   "outputs": [],
   "source": [
    "corb = pd.read_csv(dataset+\"_vars.csv\")\n",
    "mgh = pd.read_csv(dataset+\"_vars_cv.csv\")"
   ]
  },
  {
   "cell_type": "code",
   "execution_count": 35,
   "metadata": {},
   "outputs": [],
   "source": [
    "corb1_r = []\n",
    "mgh1_r = []\n",
    "for i in range(len(var_names)):\n",
    "    model_corb = smf.ols(formula= str(\"nih\"+\"~\"+var_names[i]), data=corb).fit()\n",
    "    model_mgh = smf.ols(formula= str(\"nih\"+\"~\"+var_names[i]), data=mgh).fit()\n",
    "    corb1_r.append((model_corb.rsquared, var_names[i]))\n",
    "    mgh1_r.append((model_mgh.rsquared, var_names[i]))\n",
    "corb1_r = sorted(corb1_r, reverse=True)\n",
    "mgh1_r = sorted(mgh1_r, reverse=True)"
   ]
  },
  {
   "cell_type": "code",
   "execution_count": 36,
   "metadata": {},
   "outputs": [
    {
     "name": "stdout",
     "output_type": "stream",
     "text": [
      "(0.2958384043901142, 'sp_corr_wm')\n",
      "\n",
      "(0.3620016454635848, 'sp_corr_wm')\n"
     ]
    }
   ],
   "source": [
    "print(corb1_r[0])\n",
    "print()\n",
    "print(mgh1_r[0])"
   ]
  },
  {
   "cell_type": "code",
   "execution_count": 37,
   "metadata": {},
   "outputs": [],
   "source": [
    "corb2_r = []\n",
    "mgh2_r = []\n",
    "for i in range(len(var_names)):\n",
    "    for ii in range(len(var_names)):\n",
    "        if i != ii and i < ii:\n",
    "            model_corb = smf.ols(formula= str(\"nih~\"+var_names[i]+\"+\"+var_names[ii]), data=corb).fit()\n",
    "            model_mgh = smf.ols(formula= str(\"nih~\"+var_names[i]+\"+\"+var_names[ii]), data=mgh).fit()\n",
    "            corb2_r.append((model_corb.rsquared, var_names[i], var_names[ii]))\n",
    "            mgh2_r.append((model_mgh.rsquared, var_names[i], var_names[ii]))\n",
    "corb2_r = sorted(corb2_r, reverse=True)\n",
    "mgh2_r = sorted(mgh2_r, reverse=True)"
   ]
  },
  {
   "cell_type": "code",
   "execution_count": 38,
   "metadata": {},
   "outputs": [
    {
     "name": "stdout",
     "output_type": "stream",
     "text": [
      "[(0.3226258874752794, 'sp_corr_wm', 'l_size'), (0.3165408461102205, 'lnm_neg', 'sp_corr_wm'), (0.314107017670779, 'lnm_pos', 'sp_corr_wm'), (0.3137732438987513, 'wm_total', 'sp_corr_wm'), (0.31093574459464435, 'wm_avg', 'sp_corr_wm')]\n",
      "\n",
      "[(0.37495585589876046, 'lnm_neg', 'sp_corr_wm'), (0.36997505396774477, 'sp_corr_wm', 'l_size'), (0.3661672314809553, 'wm_total', 'sp_corr_wm'), (0.3660145346508962, 'wm_avg', 'sp_corr_wm'), (0.36590288990391195, 'sp_corr_lnm', 'sp_corr_wm')]\n"
     ]
    }
   ],
   "source": [
    "print(corb2_r[0:5])\n",
    "print()\n",
    "print(mgh2_r[0:5])"
   ]
  },
  {
   "cell_type": "markdown",
   "metadata": {},
   "source": [
    "### Seed Region"
   ]
  },
  {
   "cell_type": "code",
   "execution_count": 38,
   "metadata": {},
   "outputs": [],
   "source": [
    "sr_df = pd.read_csv(\"mgh_seed_region_212.csv\")\n",
    "nih = pd.read_csv(\"mgh_vars.csv\")[\"nih\"]\n",
    "subjects = pd.read_csv(\"mgh_vars.csv\")[\"subject\"]\n",
    "sr_df[\"nih\"] = nih"
   ]
  },
  {
   "cell_type": "code",
   "execution_count": 39,
   "metadata": {},
   "outputs": [],
   "source": [
    "sr_vars = [\"sr_total\", \"sr_pos\", \"sr_neg\", \"sr_total_avg\", \"sr_pos_avg\", \"sr_neg_avg\", \"sr_sp_corr\"]"
   ]
  },
  {
   "cell_type": "code",
   "execution_count": 32,
   "metadata": {},
   "outputs": [],
   "source": [
    "for i in range(len(sr_vars)):\n",
    "    model = smf.ols(formula=str(\"nih~\"+sr_vars[i]), data=sr_df).fit()\n",
    "#     print(sr_vars[i])\n",
    "#     print(model.summary())\n",
    "#     print()"
   ]
  },
  {
   "cell_type": "code",
   "execution_count": 52,
   "metadata": {},
   "outputs": [],
   "source": [
    "combined_cols = [\"subject\", \"nih\", \"vlsm_total\", \"lnm_total\", \"lnm_pos\", \"lnm_neg\", \"total_212\", \"pos_212\", \"neg_212\", \"total_m30\", \"pos_m30\", \"neg_m30\"]\n",
    "combined_df = pd.DataFrame(columns=combined_cols)"
   ]
  },
  {
   "cell_type": "code",
   "execution_count": 53,
   "metadata": {},
   "outputs": [],
   "source": [
    "combined_df[\"subject\"] = subjects\n",
    "combined_df[\"nih\"] = nih"
   ]
  },
  {
   "cell_type": "code",
   "execution_count": 54,
   "metadata": {},
   "outputs": [],
   "source": [
    "sr_212 = pd.read_csv(\"mgh_seed_region_212.csv\")\n",
    "sr_minus30 = pd.read_csv(\"mgh_seed_region_-30.csv\")\n",
    "mgh_df = pd.read_csv(\"mgh_vars.csv\")"
   ]
  },
  {
   "cell_type": "code",
   "execution_count": 55,
   "metadata": {},
   "outputs": [],
   "source": [
    "combined_df[\"vlsm_total\"] = mgh_df[\"vlsm_tot\"]\n",
    "combined_df[\"lnm_total\"] = mgh_df[\"lnm_tot\"]\n",
    "combined_df[\"lnm_pos\"] = mgh_df[\"lnm_pos\"]\n",
    "combined_df[\"lnm_neg\"] = mgh_df[\"lnm_neg\"]"
   ]
  },
  {
   "cell_type": "code",
   "execution_count": 56,
   "metadata": {},
   "outputs": [],
   "source": [
    "combined_df[\"total_212\"] = sr_212[\"sr_total\"]\n",
    "combined_df[\"pos_212\"] = sr_212[\"sr_pos\"]\n",
    "combined_df[\"neg_212\"] = sr_212[\"sr_neg\"]"
   ]
  },
  {
   "cell_type": "code",
   "execution_count": 57,
   "metadata": {},
   "outputs": [],
   "source": [
    "combined_df[\"total_m30\"] = sr_minus30[\"sr_total\"]\n",
    "combined_df[\"pos_m30\"] = sr_minus30[\"sr_pos\"]\n",
    "combined_df[\"neg_m30\"] = sr_minus30[\"sr_neg\"]"
   ]
  },
  {
   "cell_type": "code",
   "execution_count": 69,
   "metadata": {},
   "outputs": [],
   "source": [
    "pred = combined_cols[2:]\n",
    "for i in range(len(pred)):\n",
    "    for ii in range(len(pred)):\n",
    "        if i > ii:\n",
    "            model = smf.ols(formula=str(\"nih~\"+pred[i]+\"+\"+pred[ii]), data=combined_df).fit()\n",
    "#             print(pred[i])\n",
    "#             print(pred[ii])\n",
    "#             print(model.summary())\n",
    "#             print()"
   ]
  },
  {
   "cell_type": "code",
   "execution_count": 67,
   "metadata": {},
   "outputs": [],
   "source": [
    "pred = combined_cols[2:]\n",
    "for i in range(len(pred)):\n",
    "    for ii in range(len(pred)):\n",
    "        for iii in range(len(pred)):\n",
    "            if i > ii and ii > iii:\n",
    "                model = smf.ols(formula=str(\"nih~\"+pred[i]+\"+\"+pred[ii]+\"+\"+pred[iii]), data=combined_df).fit()\n",
    "#                 print(pred[i])\n",
    "#                 print(pred[ii])\n",
    "#                 print(pred[iii])\n",
    "#                 print(model.summary())\n",
    "#                 print()"
   ]
  },
  {
   "cell_type": "code",
   "execution_count": 13,
   "metadata": {},
   "outputs": [
    {
     "name": "stdout",
     "output_type": "stream",
     "text": [
      "                            OLS Regression Results                            \n",
      "==============================================================================\n",
      "Dep. Variable:                    nih   R-squared:                       0.277\n",
      "Model:                            OLS   Adj. R-squared:                  0.273\n",
      "Method:                 Least Squares   F-statistic:                     61.84\n",
      "Date:                Wed, 05 May 2021   Prob (F-statistic):           7.36e-34\n",
      "Time:                        18:51:45   Log-Likelihood:                -1525.9\n",
      "No. Observations:                 488   AIC:                             3060.\n",
      "Df Residuals:                     484   BIC:                             3077.\n",
      "Df Model:                           3                                         \n",
      "Covariance Type:            nonrobust                                         \n",
      "==============================================================================\n",
      "                 coef    std err          t      P>|t|      [0.025      0.975]\n",
      "------------------------------------------------------------------------------\n",
      "Intercept      3.2451      0.303     10.709      0.000       2.650       3.840\n",
      "lnm_pos    -2.603e-05   6.69e-05     -0.389      0.697      -0.000       0.000\n",
      "vlsm_tot       0.0005      0.000      2.437      0.015    9.41e-05       0.001\n",
      "l_size         0.0003   9.71e-05      2.912      0.004     9.2e-05       0.000\n",
      "==============================================================================\n",
      "Omnibus:                      204.832   Durbin-Watson:                   1.892\n",
      "Prob(Omnibus):                  0.000   Jarque-Bera (JB):              922.734\n",
      "Skew:                           1.848   Prob(JB):                    4.27e-201\n",
      "Kurtosis:                       8.632   Cond. No.                     2.75e+04\n",
      "==============================================================================\n",
      "\n",
      "Notes:\n",
      "[1] Standard Errors assume that the covariance matrix of the errors is correctly specified.\n",
      "[2] The condition number is large, 2.75e+04. This might indicate that there are\n",
      "strong multicollinearity or other numerical problems.\n"
     ]
    }
   ],
   "source": [
    "model = smf.ols(formula=\"nih~lnm_pos+vlsm_tot+l_size\", data=df).fit()\n",
    "print(model.summary())"
   ]
  },
  {
   "cell_type": "code",
   "execution_count": null,
   "metadata": {},
   "outputs": [],
   "source": []
  }
 ],
 "metadata": {
  "kernelspec": {
   "display_name": "Physics",
   "language": "python",
   "name": "physics"
  },
  "language_info": {
   "codemirror_mode": {
    "name": "ipython",
    "version": 3
   },
   "file_extension": ".py",
   "mimetype": "text/x-python",
   "name": "python",
   "nbconvert_exporter": "python",
   "pygments_lexer": "ipython3",
   "version": "3.8.5"
  }
 },
 "nbformat": 4,
 "nbformat_minor": 4
}
